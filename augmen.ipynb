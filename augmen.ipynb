{
  "cells": [
    {
      "cell_type": "markdown",
      "metadata": {
        "id": "view-in-github",
        "colab_type": "text"
      },
      "source": [
        "<a href=\"https://colab.research.google.com/github/Arjavjain100/Apple-Scab-Detection/blob/main/augmen.ipynb\" target=\"_parent\"><img src=\"https://colab.research.google.com/assets/colab-badge.svg\" alt=\"Open In Colab\"/></a>"
      ]
    },
    {
      "cell_type": "code",
      "execution_count": 2,
      "id": "3b0d0caa",
      "metadata": {
        "id": "3b0d0caa"
      },
      "outputs": [],
      "source": [
        "import numpy as np\n",
        "import pandas as pd\n",
        "import matplotlib\n",
        "import matplotlib.pyplot as plt\n",
        "import albumentations as A\n",
        "import os,shutil,cv2\n",
        "from os import walk\n",
        "import torch\n",
        "from torchvision import datasets, transforms\n",
        "from tqdm import tqdm"
      ]
    },
    {
      "cell_type": "code",
      "execution_count": 3,
      "id": "7616d4a5",
      "metadata": {
        "id": "7616d4a5"
      },
      "outputs": [],
      "source": [
        "data_dir = \"Dataset/\"\n",
        "train_data_dir = \"Dataset/Train/\"\n",
        "test_data_dir = \"Dataset/Test/\""
      ]
    },
    {
      "cell_type": "code",
      "execution_count": 4,
      "id": "c849a906",
      "metadata": {
        "colab": {
          "base_uri": "https://localhost:8080/",
          "height": 252
        },
        "id": "c849a906",
        "outputId": "b9bc79a3-2817-4935-fff3-a3d90b4e00b7"
      },
      "outputs": [
        {
          "output_type": "stream",
          "name": "stdout",
          "text": [
            "TRAINING SET:\n"
          ]
        },
        {
          "output_type": "error",
          "ename": "FileNotFoundError",
          "evalue": "ignored",
          "traceback": [
            "\u001b[0;31m---------------------------------------------------------------------------\u001b[0m",
            "\u001b[0;31mFileNotFoundError\u001b[0m                         Traceback (most recent call last)",
            "\u001b[0;32m<ipython-input-4-e12984c8e1a3>\u001b[0m in \u001b[0;36m<module>\u001b[0;34m\u001b[0m\n\u001b[1;32m      1\u001b[0m \u001b[0mprint\u001b[0m\u001b[0;34m(\u001b[0m\u001b[0;34m'TRAINING SET:'\u001b[0m\u001b[0;34m)\u001b[0m\u001b[0;34m\u001b[0m\u001b[0;34m\u001b[0m\u001b[0m\n\u001b[0;32m----> 2\u001b[0;31m \u001b[0mprint\u001b[0m\u001b[0;34m(\u001b[0m\u001b[0;34m'Healthy:'\u001b[0m\u001b[0;34m,\u001b[0m \u001b[0mlen\u001b[0m\u001b[0;34m(\u001b[0m\u001b[0mos\u001b[0m\u001b[0;34m.\u001b[0m\u001b[0mlistdir\u001b[0m\u001b[0;34m(\u001b[0m\u001b[0mtrain_data_dir\u001b[0m\u001b[0;34m+\u001b[0m\u001b[0;34m'Healthy'\u001b[0m\u001b[0;34m)\u001b[0m\u001b[0;34m)\u001b[0m\u001b[0;34m)\u001b[0m\u001b[0;34m\u001b[0m\u001b[0;34m\u001b[0m\u001b[0m\n\u001b[0m\u001b[1;32m      3\u001b[0m \u001b[0mprint\u001b[0m\u001b[0;34m(\u001b[0m\u001b[0;34m'Scab:'\u001b[0m\u001b[0;34m,\u001b[0m \u001b[0mlen\u001b[0m\u001b[0;34m(\u001b[0m\u001b[0mos\u001b[0m\u001b[0;34m.\u001b[0m\u001b[0mlistdir\u001b[0m\u001b[0;34m(\u001b[0m\u001b[0mtrain_data_dir\u001b[0m\u001b[0;34m+\u001b[0m\u001b[0;34m'Scab'\u001b[0m\u001b[0;34m)\u001b[0m\u001b[0;34m)\u001b[0m\u001b[0;34m)\u001b[0m\u001b[0;34m\u001b[0m\u001b[0;34m\u001b[0m\u001b[0m\n\u001b[1;32m      4\u001b[0m \u001b[0;34m\u001b[0m\u001b[0m\n\u001b[1;32m      5\u001b[0m \u001b[0mprint\u001b[0m\u001b[0;34m(\u001b[0m\u001b[0;34m'\\nTESTING SET:'\u001b[0m\u001b[0;34m)\u001b[0m\u001b[0;34m\u001b[0m\u001b[0;34m\u001b[0m\u001b[0m\n",
            "\u001b[0;31mFileNotFoundError\u001b[0m: [Errno 2] No such file or directory: 'Dataset/Train/Healthy'"
          ]
        }
      ],
      "source": [
        "print('TRAINING SET:')\n",
        "print('Healthy:', len(os.listdir(train_data_dir+'Healthy')))\n",
        "print('Scab:', len(os.listdir(train_data_dir+'Scab')))\n",
        "\n",
        "print('\\nTESTING SET:')\n",
        "print('Healthy:', len(os.listdir(test_data_dir+'Healthy')))\n",
        "print('Scab:', len(os.listdir(test_data_dir+'Scab')))"
      ]
    },
    {
      "cell_type": "code",
      "execution_count": null,
      "id": "e8433366",
      "metadata": {
        "id": "e8433366"
      },
      "outputs": [],
      "source": [
        "def show_data(path, label):\n",
        "        fig, axs = plt.subplots(3, 4, figsize=(16, 12), constrained_layout=True)\n",
        "        if label == 'healthy':\n",
        "            files = os.listdir(f'{path}Healthy/')\n",
        "            fig.suptitle('Healthy Apples\\n', fontsize=18, fontweight='medium')\n",
        "            idx = 0\n",
        "            for i in range(3):\n",
        "                for j in range(4):\n",
        "                    axs[i][j].imshow(cv2.resize(cv2.cvtColor(cv2.imread(f'{path}Healthy/{files[idx]}'), cv2.COLOR_BGR2RGB),(500, 500)))\n",
        "                    axs[i][j].set_title(f'{files[idx]}', fontdict = {'fontsize':14, 'fontweight':'medium'})\n",
        "                    axs[i][j].set_xticks(np.arange(0, 501, 100))\n",
        "                    axs[i][j].set_yticks(np.arange(0, 501, 100))\n",
        "                    axs[i][j].grid(False)\n",
        "                    axs[i][j].axis(True)\n",
        "                    idx += 1\n",
        "        elif label == 'scab':\n",
        "            files = os.listdir(f'{path}Scab/')\n",
        "            fig.suptitle('Scab Apples\\n', fontsize=18, fontweight='medium')\n",
        "            idx = 0\n",
        "            for i in range(3):\n",
        "                for j in range(4):\n",
        "                    axs[i][j].imshow(cv2.resize(cv2.cvtColor(cv2.imread(f'{path}Scab/{files[idx]}'), cv2.COLOR_BGR2RGB),(500, 500)))\n",
        "                    axs[i][j].set_title(f'{files[idx]}', fontdict = {'fontsize':14, 'fontweight':'medium'})\n",
        "                    axs[i][j].set_xticks(np.arange(0, 501, 100))\n",
        "                    axs[i][j].set_yticks(np.arange(0, 501, 100))\n",
        "                    axs[i][j].grid(False)\n",
        "                    axs[i][j].axis(True)\n",
        "                    idx += 1\n",
        "                        \n",
        "        plt.savefig(f'{label}_apples', facecolor= 'w', transparent= False, bbox_inches= 'tight', dpi= 300)\n",
        "        plt.show()"
      ]
    },
    {
      "cell_type": "code",
      "execution_count": null,
      "id": "3b6d702f",
      "metadata": {
        "id": "3b6d702f"
      },
      "outputs": [],
      "source": [
        "show_data(path=train_data_dir, label = 'healthy')"
      ]
    },
    {
      "cell_type": "code",
      "execution_count": null,
      "id": "7a60bd2b",
      "metadata": {
        "id": "7a60bd2b"
      },
      "outputs": [],
      "source": [
        "show_data(path=train_data_dir, label = 'scab')"
      ]
    },
    {
      "cell_type": "markdown",
      "id": "48b72683",
      "metadata": {
        "id": "48b72683"
      },
      "source": [
        "There are only 297 images in the dataset (90 images in Healthy class and 207 images in Scab class). Out of which we have used 269 images (90%) for training set and remaining 28 images (10%) for test set.\n",
        "\n",
        "Class-imbalance is present in the dataset, the Healthy class is under represented. There are only 78 images in the Healthy class, while the Scab class has 191 images. To minimize the extent of class-imbalance, artificial data augmentation has been applied on the images belonging to the Healthy class in the training set.\n",
        "\n",
        "By data augmentation, the no. of images present in the Healthy class are increased from 78 to 156 (i.e. two times).\n",
        "\n",
        "Data augmentation is done by the following techniques:\n",
        "\n",
        "Random Cropping\n",
        "Horizontal Flipping\n",
        "Vertical Flipping\n",
        "Rotation\n",
        "Random Brightness & Contrast\n",
        "Contrast Limited Adaptive Histogram Equalization (CLAHE)\n",
        "Color Jitter"
      ]
    },
    {
      "cell_type": "code",
      "execution_count": null,
      "id": "0fbc5976",
      "metadata": {
        "id": "0fbc5976"
      },
      "outputs": [],
      "source": [
        "transform = A.Compose([\n",
        "    A.RandomCrop(width=2400, height=2400, p=1.0),\n",
        "    A.HorizontalFlip(p=1.0),\n",
        "    A.VerticalFlip(p=1.0),\n",
        "    A.Rotate(limit=[60, 240], p=1.0, interpolation=cv2.INTER_NEAREST),\n",
        "    A.RandomBrightnessContrast(brightness_limit=[-0.2, 0.3], contrast_limit=0.2, p=0.75),\n",
        "    A.OneOf([\n",
        "        A.CLAHE(clip_limit=2.0, tile_grid_size=(8, 8), p=0.75),\n",
        "        A.ColorJitter(brightness=0.2, contrast=0.2, saturation=0.2, hue=0.2, always_apply=False, p=0.25)\n",
        "    ], p=1.0),\n",
        "], p=1.0)"
      ]
    },
    {
      "cell_type": "code",
      "execution_count": null,
      "id": "c7c42338",
      "metadata": {
        "id": "c7c42338"
      },
      "outputs": [],
      "source": [
        "os.chdir('Dataset/Train/')"
      ]
    },
    {
      "cell_type": "code",
      "execution_count": null,
      "id": "ac1f9691",
      "metadata": {
        "id": "ac1f9691"
      },
      "outputs": [],
      "source": [
        "!mkdir aug_healthy_images"
      ]
    },
    {
      "cell_type": "code",
      "execution_count": null,
      "id": "2e795973",
      "metadata": {
        "id": "2e795973"
      },
      "outputs": [],
      "source": [
        "healthy_images_files = os.listdir('Healthy')"
      ]
    },
    {
      "cell_type": "code",
      "execution_count": null,
      "id": "75d5aa98",
      "metadata": {
        "id": "75d5aa98"
      },
      "outputs": [],
      "source": [
        "def augment_dataset(files, path):\n",
        "    i = 0\n",
        "    for file in tqdm(files, desc=\"[Augmentation…]\", ascii=False, ncols=75):\n",
        "        img = cv2.imread(path+file)\n",
        "        img = cv2.cvtColor(img, cv2.COLOR_BGR2RGB)\n",
        "        transformed = transform(image=img)\n",
        "        transformed_image = transformed['image']\n",
        "        file_name = file.split('.')[0]\n",
        "        cv2.imwrite(f'aug_healthy_images/AUG_{file_name}.JPG',cv2.cvtColor(transformed_image, cv2.COLOR_BGR2RGB))\n",
        "        i += 1\n",
        "    print('Data augmentation completed!')"
      ]
    },
    {
      "cell_type": "code",
      "execution_count": null,
      "id": "0d899e7d",
      "metadata": {
        "scrolled": true,
        "id": "0d899e7d"
      },
      "outputs": [],
      "source": [
        "augment_dataset(files=healthy_images_files, path= 'Healthy/')"
      ]
    },
    {
      "cell_type": "code",
      "execution_count": null,
      "id": "17f02d02",
      "metadata": {
        "id": "17f02d02"
      },
      "outputs": [],
      "source": [
        "os.chdir('../../')"
      ]
    },
    {
      "cell_type": "code",
      "execution_count": null,
      "id": "7cfcd30d",
      "metadata": {
        "scrolled": true,
        "id": "7cfcd30d"
      },
      "outputs": [],
      "source": [
        "print('TRAINING SET:')\n",
        "print('Healthy:', len(os.listdir(train_data_dir+'Healthy')))\n",
        "print('Scab:', len(os.listdir(train_data_dir+'Scab')))\n",
        "print('Augmented Healthy:', len(os.listdir(train_data_dir+'aug_healthy_images')))\n",
        "\n",
        "print('\\nTESTING SET:')\n",
        "print('Healthy:', len(os.listdir(test_data_dir+'Healthy')))\n",
        "print('Scab:', len(os.listdir(test_data_dir+'Scab')))"
      ]
    },
    {
      "cell_type": "code",
      "source": [
        "show_data(path=train_data_dir, label = 'aug_healthy_images')"
      ],
      "metadata": {
        "id": "4U3LNnNVdo4S"
      },
      "id": "4U3LNnNVdo4S",
      "execution_count": null,
      "outputs": []
    },
    {
      "cell_type": "code",
      "execution_count": null,
      "id": "16e9d579",
      "metadata": {
        "id": "16e9d579"
      },
      "outputs": [],
      "source": [
        "plt.figure(figsize=(10, 6))\n",
        "data = {'Healthy': len(os.listdir(train_data_dir+'Healthy')), 'Scab': len(os.listdir(train_data_dir+'Scab')),'Augmented':  len(os.listdir(train_data_dir+'aug_healthy_images'))}\n",
        "plt.bar(data.keys(), data.values(), color = ['steelblue', 'darkorange','red'])\n",
        "plt.title('Bar Plot for Train Set', fontsize=14)\n",
        "plt.xlabel(\"Classes\", fontsize=12) \n",
        "plt.ylabel(\"Count\", fontsize=12) \n",
        "\n",
        "plt.savefig('train_set_plot', facecolor= 'w', transparent= False, bbox_inches= 'tight', dpi= 300)"
      ]
    }
  ],
  "metadata": {
    "kernelspec": {
      "display_name": "NN",
      "language": "python",
      "name": "nn"
    },
    "language_info": {
      "codemirror_mode": {
        "name": "ipython",
        "version": 3
      },
      "file_extension": ".py",
      "mimetype": "text/x-python",
      "name": "python",
      "nbconvert_exporter": "python",
      "pygments_lexer": "ipython3",
      "version": "3.10.4"
    },
    "colab": {
      "provenance": [],
      "include_colab_link": true
    }
  },
  "nbformat": 4,
  "nbformat_minor": 5
}