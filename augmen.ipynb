{
 "cells": [
  {
   "cell_type": "code",
   "execution_count": 1,
   "id": "3b0d0caa",
   "metadata": {},
   "outputs": [
    {
     "name": "stderr",
     "output_type": "stream",
     "text": [
      "C:\\Users\\Arnav\\anaconda3\\envs\\NN\\lib\\site-packages\\tqdm\\auto.py:22: TqdmWarning: IProgress not found. Please update jupyter and ipywidgets. See https://ipywidgets.readthedocs.io/en/stable/user_install.html\n",
      "  from .autonotebook import tqdm as notebook_tqdm\n"
     ]
    }
   ],
   "source": [
    "import numpy as np\n",
    "import pandas as pd\n",
    "import matplotlib\n",
    "import matplotlib.pyplot as plt\n",
    "import albumentations as A\n",
    "import os,shutil,cv2\n",
    "from os import walk\n",
    "import torch\n",
    "from torchvision import datasets, transforms\n",
    "from tqdm import tqdm"
   ]
  },
  {
   "cell_type": "code",
   "execution_count": 2,
   "id": "6af26db9",
   "metadata": {},
   "outputs": [],
   "source": [
    "os.chdir(r'C:\\Users\\Arnav\\Desktop\\Apple-Scab-Detection')"
   ]
  },
  {
   "cell_type": "code",
   "execution_count": 3,
   "id": "7616d4a5",
   "metadata": {},
   "outputs": [],
   "source": [
    "data_dir = \"Dataset/\"\n",
    "train_data_dir = \"Dataset/Train/\"\n",
    "test_data_dir = \"Dataset/Test/\""
   ]
  },
  {
   "cell_type": "code",
   "execution_count": 4,
   "id": "c849a906",
   "metadata": {},
   "outputs": [
    {
     "name": "stdout",
     "output_type": "stream",
     "text": [
      "TRAINING SET:\n",
      "Healthy: 63\n",
      "Scab: 137\n",
      "\n",
      "TESTING SET:\n",
      "Healthy: 27\n",
      "Scab: 70\n"
     ]
    }
   ],
   "source": [
    "print('TRAINING SET:')\n",
    "print('Healthy:', len(os.listdir(train_data_dir+'Healthy')))\n",
    "print('Scab:', len(os.listdir(train_data_dir+'Scab')))\n",
    "\n",
    "print('\\nTESTING SET:')\n",
    "print('Healthy:', len(os.listdir(test_data_dir+'Healthy')))\n",
    "print('Scab:', len(os.listdir(test_data_dir+'Scab')))"
   ]
  },
  {
   "cell_type": "code",
   "execution_count": 5,
   "id": "0fbc5976",
   "metadata": {},
   "outputs": [],
   "source": [
    "transform = A.Compose([\n",
    "    A.RandomCrop(width=2400, height=2400, p=1.0),\n",
    "    A.HorizontalFlip(p=1.0),\n",
    "    A.VerticalFlip(p=1.0),\n",
    "    A.Rotate(limit=[60, 240], p=1.0, interpolation=cv2.INTER_NEAREST),\n",
    "    A.RandomBrightnessContrast(brightness_limit=[-0.2, 0.3], contrast_limit=0.2, p=0.75),\n",
    "    A.GaussNoise(p=0.8),\n",
    "    A.OneOf([\n",
    "        A.CLAHE(clip_limit=2.0, tile_grid_size=(8, 8), p=0.75),\n",
    "        A.ColorJitter(brightness=0.2, contrast=0.2, saturation=0.2, hue=0.2, always_apply=False, p=0.25)\n",
    "    ], p=1.0),\n",
    "], p=1.0)"
   ]
  },
  {
   "cell_type": "code",
   "execution_count": 6,
   "id": "c7c42338",
   "metadata": {},
   "outputs": [],
   "source": [
    "os.chdir(r'Dataset/Train/')"
   ]
  },
  {
   "cell_type": "code",
   "execution_count": 7,
   "id": "ac1f9691",
   "metadata": {},
   "outputs": [
    {
     "name": "stderr",
     "output_type": "stream",
     "text": [
      "A subdirectory or file aug_healthy_images already exists.\n",
      "A subdirectory or file aug_scab_images already exists.\n"
     ]
    }
   ],
   "source": [
    "!mkdir aug_healthy_images\n",
    "!mkdir aug_scab_images"
   ]
  },
  {
   "cell_type": "code",
   "execution_count": 8,
   "id": "2e795973",
   "metadata": {},
   "outputs": [],
   "source": [
    "healthy_images_files = os.listdir('Healthy')\n",
    "scab_images_files = os.listdir('Scab')"
   ]
  },
  {
   "cell_type": "code",
   "execution_count": 9,
   "id": "75d5aa98",
   "metadata": {},
   "outputs": [],
   "source": [
    "def augment_dataset(files, path):\n",
    "    if(path=='Healthy/'):\n",
    "        i = 0\n",
    "        for file in tqdm(files, desc=\"[Augmentation…]\", ascii=False, ncols=75):\n",
    "            img = cv2.imread(path+file)\n",
    "            img = cv2.cvtColor(img, cv2.COLOR_BGR2RGB)\n",
    "            transformed = transform(image=img)\n",
    "            transformed_image1 = transformed['image']\n",
    "            transformed_image2 = transformed['image']\n",
    "            transformed_image3 = transformed['image']\n",
    "            transformed_image4 = transformed['image']\n",
    "            transformed_image5 = transformed['image']\n",
    "            file_name = file.split('.')[0]\n",
    "            cv2.imwrite(f'aug_healthy_images/AUG_1{file_name}.JPG',cv2.cvtColor(transformed_image1, cv2.COLOR_BGR2RGB))\n",
    "            cv2.imwrite(f'aug_healthy_images/AUG_2{file_name}.JPG',cv2.cvtColor(transformed_image2, cv2.COLOR_BGR2RGB))\n",
    "            cv2.imwrite(f'aug_healthy_images/AUG_3{file_name}.JPG',cv2.cvtColor(transformed_image3, cv2.COLOR_BGR2RGB))\n",
    "            cv2.imwrite(f'aug_healthy_images/AUG_4{file_name}.JPG',cv2.cvtColor(transformed_image4, cv2.COLOR_BGR2RGB))\n",
    "            cv2.imwrite(f'aug_healthy_images/AUG_5{file_name}.JPG',cv2.cvtColor(transformed_image5, cv2.COLOR_BGR2RGB))\n",
    "            i += 1\n",
    "        print('Data augmentation completed!')\n",
    "    if(path=='Scab/'):\n",
    "        i = 0\n",
    "        for file in tqdm(files, desc=\"[Augmentation…]\", ascii=False, ncols=75):\n",
    "            img = cv2.imread(path+file)\n",
    "            img = cv2.cvtColor(img, cv2.COLOR_BGR2RGB)\n",
    "            transformed = transform(image=img)\n",
    "            transformed_image1 = transformed['image']\n",
    "            transformed_image2 = transformed['image']\n",
    "            transformed_image3 = transformed['image']\n",
    "            file_name = file.split('.')[0]\n",
    "            cv2.imwrite(f'aug_scab_images/AUG_1{file_name}.JPG',cv2.cvtColor(transformed_image1, cv2.COLOR_BGR2RGB))\n",
    "            cv2.imwrite(f'aug_scab_images/AUG_2{file_name}.JPG',cv2.cvtColor(transformed_image2, cv2.COLOR_BGR2RGB))\n",
    "            cv2.imwrite(f'aug_scab_images/AUG_3{file_name}.JPG',cv2.cvtColor(transformed_image3, cv2.COLOR_BGR2RGB))\n",
    "        print('Data augmentation completed!')"
   ]
  },
  {
   "cell_type": "code",
   "execution_count": 10,
   "id": "0d899e7d",
   "metadata": {
    "scrolled": true
   },
   "outputs": [
    {
     "name": "stderr",
     "output_type": "stream",
     "text": [
      "[Augmentation…]: 100%|█████████████████████| 63/63 [02:04<00:00,  1.98s/it]"
     ]
    },
    {
     "name": "stdout",
     "output_type": "stream",
     "text": [
      "Data augmentation completed!\n"
     ]
    },
    {
     "name": "stderr",
     "output_type": "stream",
     "text": [
      "\n"
     ]
    }
   ],
   "source": [
    "augment_dataset(files=healthy_images_files, path= 'Healthy/')"
   ]
  },
  {
   "cell_type": "code",
   "execution_count": 11,
   "id": "39f0badb",
   "metadata": {},
   "outputs": [
    {
     "name": "stderr",
     "output_type": "stream",
     "text": [
      "[Augmentation…]: 100%|███████████████████| 137/137 [04:17<00:00,  1.88s/it]"
     ]
    },
    {
     "name": "stdout",
     "output_type": "stream",
     "text": [
      "Data augmentation completed!\n"
     ]
    },
    {
     "name": "stderr",
     "output_type": "stream",
     "text": [
      "\n"
     ]
    }
   ],
   "source": [
    "augment_dataset(files=scab_images_files, path= 'Scab/')"
   ]
  },
  {
   "cell_type": "code",
   "execution_count": 12,
   "id": "17f02d02",
   "metadata": {},
   "outputs": [],
   "source": [
    "os.chdir('../../')"
   ]
  },
  {
   "cell_type": "code",
   "execution_count": 13,
   "id": "7cfcd30d",
   "metadata": {
    "scrolled": true
   },
   "outputs": [
    {
     "name": "stdout",
     "output_type": "stream",
     "text": [
      "TRAINING SET:\n",
      "Healthy: 63\n",
      "Scab: 137\n",
      "Augmented Healthy: 315\n",
      "Augmented Scab: 411\n",
      "\n",
      "TESTING SET:\n",
      "Healthy: 27\n",
      "Scab: 70\n"
     ]
    }
   ],
   "source": [
    "print('TRAINING SET:')\n",
    "print('Healthy:', len(os.listdir(train_data_dir+'Healthy')))\n",
    "print('Scab:', len(os.listdir(train_data_dir+'Scab')))\n",
    "print('Augmented Healthy:', len(os.listdir(train_data_dir+'aug_healthy_images')))\n",
    "print('Augmented Scab:', len(os.listdir(train_data_dir+'aug_scab_images')))\n",
    "\n",
    "print('\\nTESTING SET:')\n",
    "print('Healthy:', len(os.listdir(test_data_dir+'Healthy')))\n",
    "print('Scab:', len(os.listdir(test_data_dir+'Scab')))"
   ]
  },
  {
   "cell_type": "code",
   "execution_count": null,
   "id": "36173e96",
   "metadata": {},
   "outputs": [],
   "source": []
  }
 ],
 "metadata": {
  "kernelspec": {
   "display_name": "NN",
   "language": "python",
   "name": "nn"
  },
  "language_info": {
   "codemirror_mode": {
    "name": "ipython",
    "version": 3
   },
   "file_extension": ".py",
   "mimetype": "text/x-python",
   "name": "python",
   "nbconvert_exporter": "python",
   "pygments_lexer": "ipython3",
   "version": "3.10.4"
  }
 },
 "nbformat": 4,
 "nbformat_minor": 5
}
