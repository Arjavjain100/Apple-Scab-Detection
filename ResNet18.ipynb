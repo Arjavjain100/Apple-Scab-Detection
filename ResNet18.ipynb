{
  "cells": [
    {
      "cell_type": "markdown",
      "metadata": {
        "id": "view-in-github",
        "colab_type": "text"
      },
      "source": [
        "<a href=\"https://colab.research.google.com/github/Arjavjain100/Apple-Scab-Detection/blob/main/ResNet18.ipynb\" target=\"_parent\"><img src=\"https://colab.research.google.com/assets/colab-badge.svg\" alt=\"Open In Colab\"/></a>"
      ]
    },
    {
      "cell_type": "code",
      "execution_count": 1,
      "metadata": {
        "colab": {
          "base_uri": "https://localhost:8080/"
        },
        "id": "IgS9hK859Ts5",
        "outputId": "eabee78c-b969-4629-e843-e78ad72d43e7"
      },
      "outputs": [
        {
          "output_type": "stream",
          "name": "stdout",
          "text": [
            "Looking in indexes: https://pypi.org/simple, https://us-python.pkg.dev/colab-wheels/public/simple/\n",
            "Collecting torchinfo\n",
            "  Downloading torchinfo-1.7.1-py3-none-any.whl (22 kB)\n",
            "Installing collected packages: torchinfo\n",
            "Successfully installed torchinfo-1.7.1\n",
            "Looking in indexes: https://pypi.org/simple, https://us-python.pkg.dev/colab-wheels/public/simple/\n",
            "Collecting torchmetrics\n",
            "  Downloading torchmetrics-0.10.2-py3-none-any.whl (529 kB)\n",
            "\u001b[K     |████████████████████████████████| 529 kB 8.2 MB/s \n",
            "\u001b[?25hRequirement already satisfied: typing-extensions in /usr/local/lib/python3.7/dist-packages (from torchmetrics) (4.1.1)\n",
            "Requirement already satisfied: numpy>=1.17.2 in /usr/local/lib/python3.7/dist-packages (from torchmetrics) (1.21.6)\n",
            "Requirement already satisfied: torch>=1.3.1 in /usr/local/lib/python3.7/dist-packages (from torchmetrics) (1.12.1+cu113)\n",
            "Requirement already satisfied: packaging in /usr/local/lib/python3.7/dist-packages (from torchmetrics) (21.3)\n",
            "Requirement already satisfied: pyparsing!=3.0.5,>=2.0.2 in /usr/local/lib/python3.7/dist-packages (from packaging->torchmetrics) (3.0.9)\n",
            "Installing collected packages: torchmetrics\n",
            "Successfully installed torchmetrics-0.10.2\n"
          ]
        }
      ],
      "source": [
        "!pip install torchinfo\n",
        "!pip install torchmetrics"
      ]
    },
    {
      "cell_type": "code",
      "execution_count": 2,
      "metadata": {
        "colab": {
          "base_uri": "https://localhost:8080/"
        },
        "id": "zycdm4nqBonf",
        "outputId": "a6e20c89-baaa-4663-c1c5-79543cd9f860"
      },
      "outputs": [
        {
          "output_type": "stream",
          "name": "stdout",
          "text": [
            "Cloning into 'Apple-Scab-Detection'...\n",
            "remote: Enumerating objects: 582, done.\u001b[K\n",
            "remote: Counting objects: 100% (72/72), done.\u001b[K\n",
            "remote: Compressing objects: 100% (47/47), done.\u001b[K\n",
            "remote: Total 582 (delta 29), reused 54 (delta 22), pack-reused 510\u001b[K\n",
            "Receiving objects: 100% (582/582), 1.17 GiB | 29.76 MiB/s, done.\n",
            "Resolving deltas: 100% (32/32), done.\n",
            "Checking out files: 100% (1031/1031), done.\n"
          ]
        }
      ],
      "source": [
        "!git clone \"https://github.com/Arjavjain100/Apple-Scab-Detection.git\""
      ]
    },
    {
      "cell_type": "code",
      "execution_count": 3,
      "metadata": {
        "id": "gIcgjnzepVAT"
      },
      "outputs": [],
      "source": [
        "# Importing required libraries\n",
        "import torch\n",
        "import torch.nn as nn\n",
        "import torch.nn.functional as F\n",
        "import torch.optim as opt\n",
        "from torchvision import datasets, transforms, models\n",
        "from tqdm.auto import tqdm\n",
        "from torchinfo import summary\n",
        "import matplotlib.pyplot as plt\n",
        "from torchmetrics.classification import BinaryF1Score"
      ]
    },
    {
      "cell_type": "code",
      "execution_count": 4,
      "metadata": {
        "id": "0p2IgYKz9rjc"
      },
      "outputs": [],
      "source": [
        "torch.manual_seed(42) \n",
        "torch.cuda.manual_seed(42)"
      ]
    },
    {
      "cell_type": "code",
      "execution_count": 5,
      "metadata": {
        "id": "yB7nF4vn46SP"
      },
      "outputs": [],
      "source": [
        "def train_step(model: torch.nn.Module, \n",
        "               dataloader: torch.utils.data.DataLoader, \n",
        "               loss_fn: torch.nn.Module, \n",
        "               optimizer: torch.optim.Optimizer):\n",
        "    # Put model in train mode\n",
        "    model.train()\n",
        "    \n",
        "    # Setup train loss and train accuracy values\n",
        "    train_loss, train_acc, train_f1 = 0, 0, 0\n",
        "    F1 = BinaryF1Score().to(device)\n",
        "\n",
        "    # Loop through data loader data batches\n",
        "    for batch, (X, y) in enumerate(dataloader):\n",
        "        # Send data to target device\n",
        "        X, y = X.to(device), y.to(device)\n",
        "\n",
        "        # 1. Forward pass\n",
        "        y_pred = model(X)\n",
        "\n",
        "        # 2. Calculate  and accumulate loss\n",
        "        loss = loss_fn(y_pred, y)\n",
        "        train_loss += loss.item() \n",
        "\n",
        "        # 3. Optimizer zero grad\n",
        "        optimizer.zero_grad()\n",
        "\n",
        "        # 4. Loss backward\n",
        "        loss.backward()\n",
        "\n",
        "        # 5. Optimizer step\n",
        "        optimizer.step()\n",
        "\n",
        "        # Calculate and accumulate accuracy metric across all batches\n",
        "        y_pred_class = torch.argmax(torch.softmax(y_pred, dim=1), dim=1)\n",
        "        train_acc += (y_pred_class == y).sum().item()/len(y_pred)\n",
        "        train_f1 += F1(y_pred_class, y).item()\n",
        "\n",
        "    # Adjust metrics to get average loss and accuracy per batch \n",
        "    train_loss = train_loss / len(dataloader)\n",
        "    train_acc = train_acc / len(dataloader)\n",
        "    train_f1 = train_f1 / len(dataloader)\n",
        "    return train_loss, train_acc, train_f1"
      ]
    },
    {
      "cell_type": "code",
      "execution_count": 6,
      "metadata": {
        "id": "xRvo7Tx446ly"
      },
      "outputs": [],
      "source": [
        "def test_step(model: torch.nn.Module, \n",
        "              dataloader: torch.utils.data.DataLoader, \n",
        "              loss_fn: torch.nn.Module):\n",
        "    # Put model in eval mode\n",
        "    model.eval() \n",
        "\n",
        "    F1 = BinaryF1Score().to(device)\n",
        "\n",
        "    # Setup test loss and test accuracy values\n",
        "    test_loss, test_acc, test_f1 = 0, 0, 0\n",
        "    \n",
        "    # Turn on inference context manager\n",
        "    with torch.inference_mode():\n",
        "        # Loop through DataLoader batches\n",
        "        for batch, (X, y) in enumerate(dataloader):\n",
        "            # Send data to target device\n",
        "            X, y = X.to(device), y.to(device)\n",
        "    \n",
        "            # 1. Forward pass\n",
        "            test_pred_logits = model(X)\n",
        "\n",
        "            # 2. Calculate and accumulate loss\n",
        "            loss = loss_fn(test_pred_logits, y)\n",
        "            test_loss += loss.item()\n",
        "            \n",
        "            # Calculate and accumulate accuracy\n",
        "            test_pred_labels = test_pred_logits.argmax(dim=1)\n",
        "            test_acc += ((test_pred_labels == y).sum().item()/len(test_pred_labels))\n",
        "            test_f1 += F1(test_pred_labels, y).item()\n",
        "            \n",
        "    # Adjust metrics to get average loss and accuracy per batch \n",
        "    test_loss = test_loss / len(dataloader)\n",
        "    test_acc = test_acc / len(dataloader)\n",
        "    test_f1 = test_f1 / len(dataloader)\n",
        "    return test_loss, test_acc, test_f1"
      ]
    },
    {
      "cell_type": "code",
      "execution_count": 14,
      "metadata": {
        "id": "QjMO-hdH462K"
      },
      "outputs": [],
      "source": [
        "\n",
        "# 1. Take in various parameters required for training and test steps\n",
        "def train(model: torch.nn.Module, \n",
        "          train_dataloader: torch.utils.data.DataLoader, \n",
        "          test_dataloader: torch.utils.data.DataLoader, \n",
        "          optimizer: torch.optim.Optimizer,\n",
        "          loss_fn: torch.nn.Module = nn.CrossEntropyLoss(),\n",
        "          epochs: int = 5):\n",
        "    \n",
        "    # 2. Create empty results dictionary\n",
        "    results = {\"train_loss\": [],\n",
        "        \"train_acc\": [],\n",
        "        \"test_loss\": [],\n",
        "        \"test_acc\": [],\n",
        "        \"train_f1\": [],\n",
        "        \"test_f1\": []\n",
        "    }\n",
        "    \n",
        "    # 3. Loop through training and testing steps for a number of epochs\n",
        "    for epoch in tqdm(range(epochs)):\n",
        "        train_loss, train_acc, train_f1 = train_step(model=model,\n",
        "                                           dataloader=train_dataloader,\n",
        "                                           loss_fn=loss_fn,\n",
        "                                           optimizer=optimizer)\n",
        "        test_loss, test_acc, test_f1 = test_step(model=model,\n",
        "            dataloader=test_dataloader,\n",
        "            loss_fn=loss_fn)\n",
        "        \n",
        "        # 4. Print out what's happening\n",
        "        print(\n",
        "            f\"Epoch: {epoch+1} | \"\n",
        "            f\"train_loss: {train_loss:.4f} | \"\n",
        "            f\"train_acc: {train_acc:.4f} | \"\n",
        "            f\"test_loss: {test_loss:.4f} | \"\n",
        "            f\"test_acc: {test_acc:.4f} | \"\n",
        "            f\"train_f1: {train_f1:.4f} | \"\n",
        "            f\"test_f1: {test_f1:.4f}\"\n",
        "\n",
        "        )\n",
        "\n",
        "        # 5. Update results dictionary\n",
        "        results[\"train_loss\"].append(train_loss)\n",
        "        results[\"train_acc\"].append(train_acc)\n",
        "        results[\"test_loss\"].append(test_loss)\n",
        "        results[\"test_acc\"].append(test_acc)\n",
        "        results[\"train_f1\"].append(train_f1)\n",
        "        results[\"test_f1\"].append(test_f1)\n",
        "\n",
        "\n",
        "    # 6. Return the filled results at the end of the epochs\n",
        "    return results"
      ]
    },
    {
      "cell_type": "code",
      "execution_count": 15,
      "metadata": {
        "id": "sSQviNWr9yWu"
      },
      "outputs": [],
      "source": [
        "def plot_loss_curves(results):\n",
        "    \"\"\"Plots training curves of a results dictionary.\n",
        "\n",
        "    Args:\n",
        "        results (dict): dictionary containing list of values, e.g.\n",
        "            {\"train_loss\": [...],\n",
        "             \"train_acc\": [...],\n",
        "             \"test_loss\": [...],\n",
        "             \"test_acc\": [...]}\n",
        "    \"\"\"\n",
        "    \n",
        "    # Get the loss values of the results dictionary (training and test)\n",
        "    loss = results['train_loss']\n",
        "    test_loss = results['test_loss']\n",
        "\n",
        "    # Get the accuracy values of the results dictionary (training and test)\n",
        "    accuracy = results['train_acc']\n",
        "    test_accuracy = results['test_acc']\n",
        "\n",
        "    f1 = results['train_f1']\n",
        "    test_f1 = results['test_f1']\n",
        "    # Figure out how many epochs there were\n",
        "    epochs = range(len(results['train_loss']))\n",
        "\n",
        "    # Setup a plot \n",
        "    plt.figure(figsize=(15, 7))\n",
        "\n",
        "    # Plot loss\n",
        "    plt.subplot(1, 2, 1)\n",
        "    plt.plot(epochs, loss, label='train_loss')\n",
        "    plt.plot(epochs, test_loss, label='test_loss')\n",
        "    plt.title('Loss')\n",
        "    plt.xlabel('Epochs')\n",
        "    plt.legend()\n",
        "\n",
        "    # Plot accuracy\n",
        "    plt.subplot(1, 2, 2)\n",
        "    plt.plot(epochs, accuracy, label='train_accuracy')\n",
        "    plt.plot(epochs, test_accuracy, label='test_accuracy')\n",
        "    plt.title('Accuracy')\n",
        "    plt.xlabel('Epochs')\n",
        "    plt.legend()\n",
        "\n",
        "    # Plot F1 score\n",
        "    plt.plot(epochs, f1, label='train_f1')\n",
        "    plt.plot(epochs, test_f1, label='test_f1')\n",
        "    plt.title('F1 Score')\n",
        "    plt.xlabel('Epochs')\n",
        "    plt.legend()"
      ]
    },
    {
      "cell_type": "code",
      "source": [
        "auto_transforms = models.ResNet18_Weights.IMAGENET1K_V1.transforms()\n",
        "auto_transforms"
      ],
      "metadata": {
        "colab": {
          "base_uri": "https://localhost:8080/"
        },
        "id": "-wgcndaQoTii",
        "outputId": "e48bf9ce-7e6a-4fdc-9d96-371c5c9dff38"
      },
      "execution_count": 16,
      "outputs": [
        {
          "output_type": "execute_result",
          "data": {
            "text/plain": [
              "ImageClassification(\n",
              "    crop_size=[224]\n",
              "    resize_size=[256]\n",
              "    mean=[0.485, 0.456, 0.406]\n",
              "    std=[0.229, 0.224, 0.225]\n",
              "    interpolation=InterpolationMode.BILINEAR\n",
              ")"
            ]
          },
          "metadata": {},
          "execution_count": 16
        }
      ]
    },
    {
      "cell_type": "code",
      "execution_count": 17,
      "metadata": {
        "id": "0DjtQKqcCB2H"
      },
      "outputs": [],
      "source": [
        "batch_size = 64\n",
        "# Change Tranforms accordong to the model\n",
        "transform = {\n",
        "    'train': transforms.Compose([\n",
        "        transforms.ToTensor(),\n",
        "        transforms.Resize((256, 256)),\n",
        "        transforms.Normalize(mean=[0.485, 0.456, 0.406],\n",
        "                             std=[0.229, 0.224, 0.225])]),\n",
        "    'test': transforms.Compose([\n",
        "        transforms.ToTensor(),\n",
        "        transforms.Resize((256, 256)),\n",
        "        transforms.Normalize(mean=[0.485, 0.456, 0.406],\n",
        "                             std=[0.229, 0.224, 0.225])])\n",
        "}\n",
        "test_data = datasets.ImageFolder('/content/Apple-Scab-Detection/Augmented Dataset/Test', transform = transform[\"train\"])\n",
        "train_data = datasets.ImageFolder('/content/Apple-Scab-Detection/Augmented Dataset/Test',  transform = transform[\"test\"])\n",
        "train_loader = torch.utils.data.DataLoader(\n",
        "    train_data, shuffle=True, batch_size=batch_size)\n",
        "test_loader = torch.utils.data.DataLoader(\n",
        "    test_data, shuffle=True, batch_size=batch_size)"
      ]
    },
    {
      "cell_type": "code",
      "execution_count": 18,
      "metadata": {
        "id": "ywOkNd3bwBdp"
      },
      "outputs": [],
      "source": [
        "device = torch.device('cuda' if torch.cuda.is_available() else 'cpu')\n",
        "\n",
        "# Change model\n",
        "model = models.resnet18(models.ResNet18_Weights.IMAGENET1K_V1)\n",
        "\n",
        "#Freeze all base layers in the \"features\" section of the model (the feature extractor) by setting requires_grad=False\n",
        "for param in model.parameters():\n",
        "    param.requires_grad = False\n",
        "\n",
        "model.fc = nn.Sequential(\n",
        "    nn.BatchNorm1d(512),    \n",
        "    nn.Linear(512, 256),\n",
        "    nn.ReLU(),\n",
        "    nn.BatchNorm1d(256),\n",
        "    nn.Linear(256, 128),\n",
        "    nn.ReLU(),\n",
        "    nn.BatchNorm1d(128),\n",
        "    nn.Dropout(0.5),\n",
        "    nn.Linear(128, 2),\n",
        "    ).to(device)"
      ]
    },
    {
      "cell_type": "code",
      "execution_count": 19,
      "metadata": {
        "colab": {
          "base_uri": "https://localhost:8080/"
        },
        "id": "jzBnmJov_HnC",
        "outputId": "ed47608d-e4ee-4318-8029-ee5b35fb79cd"
      },
      "outputs": [
        {
          "output_type": "execute_result",
          "data": {
            "text/plain": [
              "========================================================================================================================\n",
              "Layer (type (var_name))                  Input Shape          Output Shape         Param #              Trainable\n",
              "========================================================================================================================\n",
              "ResNet (ResNet)                          [64, 3, 224, 224]    [64, 2]              --                   Partial\n",
              "├─Conv2d (conv1)                         [64, 3, 224, 224]    [64, 64, 112, 112]   (9,408)              False\n",
              "├─BatchNorm2d (bn1)                      [64, 64, 112, 112]   [64, 64, 112, 112]   (128)                False\n",
              "├─ReLU (relu)                            [64, 64, 112, 112]   [64, 64, 112, 112]   --                   --\n",
              "├─MaxPool2d (maxpool)                    [64, 64, 112, 112]   [64, 64, 56, 56]     --                   --\n",
              "├─Sequential (layer1)                    [64, 64, 56, 56]     [64, 64, 56, 56]     --                   False\n",
              "│    └─BasicBlock (0)                    [64, 64, 56, 56]     [64, 64, 56, 56]     --                   False\n",
              "│    │    └─Conv2d (conv1)               [64, 64, 56, 56]     [64, 64, 56, 56]     (36,864)             False\n",
              "│    │    └─BatchNorm2d (bn1)            [64, 64, 56, 56]     [64, 64, 56, 56]     (128)                False\n",
              "│    │    └─ReLU (relu)                  [64, 64, 56, 56]     [64, 64, 56, 56]     --                   --\n",
              "│    │    └─Conv2d (conv2)               [64, 64, 56, 56]     [64, 64, 56, 56]     (36,864)             False\n",
              "│    │    └─BatchNorm2d (bn2)            [64, 64, 56, 56]     [64, 64, 56, 56]     (128)                False\n",
              "│    │    └─ReLU (relu)                  [64, 64, 56, 56]     [64, 64, 56, 56]     --                   --\n",
              "│    └─BasicBlock (1)                    [64, 64, 56, 56]     [64, 64, 56, 56]     --                   False\n",
              "│    │    └─Conv2d (conv1)               [64, 64, 56, 56]     [64, 64, 56, 56]     (36,864)             False\n",
              "│    │    └─BatchNorm2d (bn1)            [64, 64, 56, 56]     [64, 64, 56, 56]     (128)                False\n",
              "│    │    └─ReLU (relu)                  [64, 64, 56, 56]     [64, 64, 56, 56]     --                   --\n",
              "│    │    └─Conv2d (conv2)               [64, 64, 56, 56]     [64, 64, 56, 56]     (36,864)             False\n",
              "│    │    └─BatchNorm2d (bn2)            [64, 64, 56, 56]     [64, 64, 56, 56]     (128)                False\n",
              "│    │    └─ReLU (relu)                  [64, 64, 56, 56]     [64, 64, 56, 56]     --                   --\n",
              "├─Sequential (layer2)                    [64, 64, 56, 56]     [64, 128, 28, 28]    --                   False\n",
              "│    └─BasicBlock (0)                    [64, 64, 56, 56]     [64, 128, 28, 28]    --                   False\n",
              "│    │    └─Conv2d (conv1)               [64, 64, 56, 56]     [64, 128, 28, 28]    (73,728)             False\n",
              "│    │    └─BatchNorm2d (bn1)            [64, 128, 28, 28]    [64, 128, 28, 28]    (256)                False\n",
              "│    │    └─ReLU (relu)                  [64, 128, 28, 28]    [64, 128, 28, 28]    --                   --\n",
              "│    │    └─Conv2d (conv2)               [64, 128, 28, 28]    [64, 128, 28, 28]    (147,456)            False\n",
              "│    │    └─BatchNorm2d (bn2)            [64, 128, 28, 28]    [64, 128, 28, 28]    (256)                False\n",
              "│    │    └─Sequential (downsample)      [64, 64, 56, 56]     [64, 128, 28, 28]    (8,448)              False\n",
              "│    │    └─ReLU (relu)                  [64, 128, 28, 28]    [64, 128, 28, 28]    --                   --\n",
              "│    └─BasicBlock (1)                    [64, 128, 28, 28]    [64, 128, 28, 28]    --                   False\n",
              "│    │    └─Conv2d (conv1)               [64, 128, 28, 28]    [64, 128, 28, 28]    (147,456)            False\n",
              "│    │    └─BatchNorm2d (bn1)            [64, 128, 28, 28]    [64, 128, 28, 28]    (256)                False\n",
              "│    │    └─ReLU (relu)                  [64, 128, 28, 28]    [64, 128, 28, 28]    --                   --\n",
              "│    │    └─Conv2d (conv2)               [64, 128, 28, 28]    [64, 128, 28, 28]    (147,456)            False\n",
              "│    │    └─BatchNorm2d (bn2)            [64, 128, 28, 28]    [64, 128, 28, 28]    (256)                False\n",
              "│    │    └─ReLU (relu)                  [64, 128, 28, 28]    [64, 128, 28, 28]    --                   --\n",
              "├─Sequential (layer3)                    [64, 128, 28, 28]    [64, 256, 14, 14]    --                   False\n",
              "│    └─BasicBlock (0)                    [64, 128, 28, 28]    [64, 256, 14, 14]    --                   False\n",
              "│    │    └─Conv2d (conv1)               [64, 128, 28, 28]    [64, 256, 14, 14]    (294,912)            False\n",
              "│    │    └─BatchNorm2d (bn1)            [64, 256, 14, 14]    [64, 256, 14, 14]    (512)                False\n",
              "│    │    └─ReLU (relu)                  [64, 256, 14, 14]    [64, 256, 14, 14]    --                   --\n",
              "│    │    └─Conv2d (conv2)               [64, 256, 14, 14]    [64, 256, 14, 14]    (589,824)            False\n",
              "│    │    └─BatchNorm2d (bn2)            [64, 256, 14, 14]    [64, 256, 14, 14]    (512)                False\n",
              "│    │    └─Sequential (downsample)      [64, 128, 28, 28]    [64, 256, 14, 14]    (33,280)             False\n",
              "│    │    └─ReLU (relu)                  [64, 256, 14, 14]    [64, 256, 14, 14]    --                   --\n",
              "│    └─BasicBlock (1)                    [64, 256, 14, 14]    [64, 256, 14, 14]    --                   False\n",
              "│    │    └─Conv2d (conv1)               [64, 256, 14, 14]    [64, 256, 14, 14]    (589,824)            False\n",
              "│    │    └─BatchNorm2d (bn1)            [64, 256, 14, 14]    [64, 256, 14, 14]    (512)                False\n",
              "│    │    └─ReLU (relu)                  [64, 256, 14, 14]    [64, 256, 14, 14]    --                   --\n",
              "│    │    └─Conv2d (conv2)               [64, 256, 14, 14]    [64, 256, 14, 14]    (589,824)            False\n",
              "│    │    └─BatchNorm2d (bn2)            [64, 256, 14, 14]    [64, 256, 14, 14]    (512)                False\n",
              "│    │    └─ReLU (relu)                  [64, 256, 14, 14]    [64, 256, 14, 14]    --                   --\n",
              "├─Sequential (layer4)                    [64, 256, 14, 14]    [64, 512, 7, 7]      --                   False\n",
              "│    └─BasicBlock (0)                    [64, 256, 14, 14]    [64, 512, 7, 7]      --                   False\n",
              "│    │    └─Conv2d (conv1)               [64, 256, 14, 14]    [64, 512, 7, 7]      (1,179,648)          False\n",
              "│    │    └─BatchNorm2d (bn1)            [64, 512, 7, 7]      [64, 512, 7, 7]      (1,024)              False\n",
              "│    │    └─ReLU (relu)                  [64, 512, 7, 7]      [64, 512, 7, 7]      --                   --\n",
              "│    │    └─Conv2d (conv2)               [64, 512, 7, 7]      [64, 512, 7, 7]      (2,359,296)          False\n",
              "│    │    └─BatchNorm2d (bn2)            [64, 512, 7, 7]      [64, 512, 7, 7]      (1,024)              False\n",
              "│    │    └─Sequential (downsample)      [64, 256, 14, 14]    [64, 512, 7, 7]      (132,096)            False\n",
              "│    │    └─ReLU (relu)                  [64, 512, 7, 7]      [64, 512, 7, 7]      --                   --\n",
              "│    └─BasicBlock (1)                    [64, 512, 7, 7]      [64, 512, 7, 7]      --                   False\n",
              "│    │    └─Conv2d (conv1)               [64, 512, 7, 7]      [64, 512, 7, 7]      (2,359,296)          False\n",
              "│    │    └─BatchNorm2d (bn1)            [64, 512, 7, 7]      [64, 512, 7, 7]      (1,024)              False\n",
              "│    │    └─ReLU (relu)                  [64, 512, 7, 7]      [64, 512, 7, 7]      --                   --\n",
              "│    │    └─Conv2d (conv2)               [64, 512, 7, 7]      [64, 512, 7, 7]      (2,359,296)          False\n",
              "│    │    └─BatchNorm2d (bn2)            [64, 512, 7, 7]      [64, 512, 7, 7]      (1,024)              False\n",
              "│    │    └─ReLU (relu)                  [64, 512, 7, 7]      [64, 512, 7, 7]      --                   --\n",
              "├─AdaptiveAvgPool2d (avgpool)            [64, 512, 7, 7]      [64, 512, 1, 1]      --                   --\n",
              "├─Sequential (fc)                        [64, 512]            [64, 2]              --                   True\n",
              "│    └─BatchNorm1d (0)                   [64, 512]            [64, 512]            1,024                True\n",
              "│    └─Linear (1)                        [64, 512]            [64, 256]            131,328              True\n",
              "│    └─ReLU (2)                          [64, 256]            [64, 256]            --                   --\n",
              "│    └─BatchNorm1d (3)                   [64, 256]            [64, 256]            512                  True\n",
              "│    └─Linear (4)                        [64, 256]            [64, 128]            32,896               True\n",
              "│    └─ReLU (5)                          [64, 128]            [64, 128]            --                   --\n",
              "│    └─BatchNorm1d (6)                   [64, 128]            [64, 128]            256                  True\n",
              "│    └─Dropout (7)                       [64, 128]            [64, 128]            --                   --\n",
              "│    └─Linear (8)                        [64, 128]            [64, 2]              258                  True\n",
              "========================================================================================================================\n",
              "Total params: 11,342,786\n",
              "Trainable params: 166,274\n",
              "Non-trainable params: 11,176,512\n",
              "Total mult-adds (G): 116.08\n",
              "========================================================================================================================\n",
              "Input size (MB): 38.54\n",
              "Forward/backward pass size (MB): 2543.98\n",
              "Params size (MB): 45.37\n",
              "Estimated Total Size (MB): 2627.88\n",
              "========================================================================================================================"
            ]
          },
          "metadata": {},
          "execution_count": 19
        }
      ],
      "source": [
        "summary(model=model, \n",
        "        input_size=(batch_size, 3, 224, 224), # make sure this is \"input_size\", not \"input_shape\"\n",
        "        col_names=[\"input_size\", \"output_size\", \"num_params\", \"trainable\"],\n",
        "        col_width=20,\n",
        "        row_settings=[\"var_names\"]\n",
        ")"
      ]
    },
    {
      "cell_type": "code",
      "execution_count": null,
      "metadata": {
        "colab": {
          "base_uri": "https://localhost:8080/",
          "height": 49,
          "referenced_widgets": [
            "eb405cadfd6d4404b3e1769fb01663ef",
            "7637d73507b349db96f49e55ae076783",
            "d4b15a8af1e24ab3b95e6d74be235bea",
            "011c436b35af4d01afe0dedddc98b3bd",
            "eafb2c43060a4f8cb659a2cd8c5840cd",
            "60eafeac8d224d01ae2011a8f88739a7",
            "bcb8557c2b6643d9a5468e9a7edc594e",
            "a694f607e10d4886a17639dc6923f3a6",
            "e614a5fe7aae423da69b4ab0cf8a1463",
            "4470ca3e9f1a40ff90a12d7c6e552f8e",
            "37c4c3f02bd2433881d144f3aab60abd"
          ]
        },
        "id": "-7YY7h2LCdyy",
        "outputId": "d90e78ce-77b6-45cf-83f8-e9ac7bced2d5"
      },
      "outputs": [
        {
          "output_type": "display_data",
          "data": {
            "text/plain": [
              "  0%|          | 0/30 [00:00<?, ?it/s]"
            ],
            "application/vnd.jupyter.widget-view+json": {
              "version_major": 2,
              "version_minor": 0,
              "model_id": "eb405cadfd6d4404b3e1769fb01663ef"
            }
          },
          "metadata": {}
        }
      ],
      "source": [
        "#Tune hyperparameters\n",
        "NUM_EPOCHS = 30\n",
        "criterion = nn.CrossEntropyLoss()\n",
        "optimizer = opt.SGD(model.parameters(), lr =0.001, momentum = 0.9)\n",
        "\n",
        "# Start the timer\n",
        "from timeit import default_timer as timer \n",
        "start_time = timer()\n",
        "\n",
        "pt_results = train(model=model, \n",
        "                        train_dataloader=train_loader,\n",
        "                        test_dataloader=test_loader,\n",
        "                        optimizer=optimizer,\n",
        "                        loss_fn=criterion, \n",
        "                        epochs=NUM_EPOCHS)\n",
        "\n",
        "# End the timer and print out how long it took\n",
        "end_time = timer()\n",
        "print(f\"Total training time: {end_time-start_time:.3f} seconds\")\n"
      ]
    },
    {
      "cell_type": "code",
      "execution_count": null,
      "metadata": {
        "id": "-1AoHiC9CpSe"
      },
      "outputs": [],
      "source": [
        "plot_loss_curves(pt_results)"
      ]
    }
  ],
  "metadata": {
    "accelerator": "GPU",
    "colab": {
      "collapsed_sections": [],
      "provenance": [],
      "include_colab_link": true
    },
    "gpuClass": "standard",
    "kernelspec": {
      "display_name": "Python 3",
      "name": "python3"
    },
    "language_info": {
      "name": "python"
    },
    "widgets": {
      "application/vnd.jupyter.widget-state+json": {
        "eb405cadfd6d4404b3e1769fb01663ef": {
          "model_module": "@jupyter-widgets/controls",
          "model_name": "HBoxModel",
          "model_module_version": "1.5.0",
          "state": {
            "_dom_classes": [],
            "_model_module": "@jupyter-widgets/controls",
            "_model_module_version": "1.5.0",
            "_model_name": "HBoxModel",
            "_view_count": null,
            "_view_module": "@jupyter-widgets/controls",
            "_view_module_version": "1.5.0",
            "_view_name": "HBoxView",
            "box_style": "",
            "children": [
              "IPY_MODEL_7637d73507b349db96f49e55ae076783",
              "IPY_MODEL_d4b15a8af1e24ab3b95e6d74be235bea",
              "IPY_MODEL_011c436b35af4d01afe0dedddc98b3bd"
            ],
            "layout": "IPY_MODEL_eafb2c43060a4f8cb659a2cd8c5840cd"
          }
        },
        "7637d73507b349db96f49e55ae076783": {
          "model_module": "@jupyter-widgets/controls",
          "model_name": "HTMLModel",
          "model_module_version": "1.5.0",
          "state": {
            "_dom_classes": [],
            "_model_module": "@jupyter-widgets/controls",
            "_model_module_version": "1.5.0",
            "_model_name": "HTMLModel",
            "_view_count": null,
            "_view_module": "@jupyter-widgets/controls",
            "_view_module_version": "1.5.0",
            "_view_name": "HTMLView",
            "description": "",
            "description_tooltip": null,
            "layout": "IPY_MODEL_60eafeac8d224d01ae2011a8f88739a7",
            "placeholder": "​",
            "style": "IPY_MODEL_bcb8557c2b6643d9a5468e9a7edc594e",
            "value": "  0%"
          }
        },
        "d4b15a8af1e24ab3b95e6d74be235bea": {
          "model_module": "@jupyter-widgets/controls",
          "model_name": "FloatProgressModel",
          "model_module_version": "1.5.0",
          "state": {
            "_dom_classes": [],
            "_model_module": "@jupyter-widgets/controls",
            "_model_module_version": "1.5.0",
            "_model_name": "FloatProgressModel",
            "_view_count": null,
            "_view_module": "@jupyter-widgets/controls",
            "_view_module_version": "1.5.0",
            "_view_name": "ProgressView",
            "bar_style": "",
            "description": "",
            "description_tooltip": null,
            "layout": "IPY_MODEL_a694f607e10d4886a17639dc6923f3a6",
            "max": 30,
            "min": 0,
            "orientation": "horizontal",
            "style": "IPY_MODEL_e614a5fe7aae423da69b4ab0cf8a1463",
            "value": 0
          }
        },
        "011c436b35af4d01afe0dedddc98b3bd": {
          "model_module": "@jupyter-widgets/controls",
          "model_name": "HTMLModel",
          "model_module_version": "1.5.0",
          "state": {
            "_dom_classes": [],
            "_model_module": "@jupyter-widgets/controls",
            "_model_module_version": "1.5.0",
            "_model_name": "HTMLModel",
            "_view_count": null,
            "_view_module": "@jupyter-widgets/controls",
            "_view_module_version": "1.5.0",
            "_view_name": "HTMLView",
            "description": "",
            "description_tooltip": null,
            "layout": "IPY_MODEL_4470ca3e9f1a40ff90a12d7c6e552f8e",
            "placeholder": "​",
            "style": "IPY_MODEL_37c4c3f02bd2433881d144f3aab60abd",
            "value": " 0/30 [00:00&lt;?, ?it/s]"
          }
        },
        "eafb2c43060a4f8cb659a2cd8c5840cd": {
          "model_module": "@jupyter-widgets/base",
          "model_name": "LayoutModel",
          "model_module_version": "1.2.0",
          "state": {
            "_model_module": "@jupyter-widgets/base",
            "_model_module_version": "1.2.0",
            "_model_name": "LayoutModel",
            "_view_count": null,
            "_view_module": "@jupyter-widgets/base",
            "_view_module_version": "1.2.0",
            "_view_name": "LayoutView",
            "align_content": null,
            "align_items": null,
            "align_self": null,
            "border": null,
            "bottom": null,
            "display": null,
            "flex": null,
            "flex_flow": null,
            "grid_area": null,
            "grid_auto_columns": null,
            "grid_auto_flow": null,
            "grid_auto_rows": null,
            "grid_column": null,
            "grid_gap": null,
            "grid_row": null,
            "grid_template_areas": null,
            "grid_template_columns": null,
            "grid_template_rows": null,
            "height": null,
            "justify_content": null,
            "justify_items": null,
            "left": null,
            "margin": null,
            "max_height": null,
            "max_width": null,
            "min_height": null,
            "min_width": null,
            "object_fit": null,
            "object_position": null,
            "order": null,
            "overflow": null,
            "overflow_x": null,
            "overflow_y": null,
            "padding": null,
            "right": null,
            "top": null,
            "visibility": null,
            "width": null
          }
        },
        "60eafeac8d224d01ae2011a8f88739a7": {
          "model_module": "@jupyter-widgets/base",
          "model_name": "LayoutModel",
          "model_module_version": "1.2.0",
          "state": {
            "_model_module": "@jupyter-widgets/base",
            "_model_module_version": "1.2.0",
            "_model_name": "LayoutModel",
            "_view_count": null,
            "_view_module": "@jupyter-widgets/base",
            "_view_module_version": "1.2.0",
            "_view_name": "LayoutView",
            "align_content": null,
            "align_items": null,
            "align_self": null,
            "border": null,
            "bottom": null,
            "display": null,
            "flex": null,
            "flex_flow": null,
            "grid_area": null,
            "grid_auto_columns": null,
            "grid_auto_flow": null,
            "grid_auto_rows": null,
            "grid_column": null,
            "grid_gap": null,
            "grid_row": null,
            "grid_template_areas": null,
            "grid_template_columns": null,
            "grid_template_rows": null,
            "height": null,
            "justify_content": null,
            "justify_items": null,
            "left": null,
            "margin": null,
            "max_height": null,
            "max_width": null,
            "min_height": null,
            "min_width": null,
            "object_fit": null,
            "object_position": null,
            "order": null,
            "overflow": null,
            "overflow_x": null,
            "overflow_y": null,
            "padding": null,
            "right": null,
            "top": null,
            "visibility": null,
            "width": null
          }
        },
        "bcb8557c2b6643d9a5468e9a7edc594e": {
          "model_module": "@jupyter-widgets/controls",
          "model_name": "DescriptionStyleModel",
          "model_module_version": "1.5.0",
          "state": {
            "_model_module": "@jupyter-widgets/controls",
            "_model_module_version": "1.5.0",
            "_model_name": "DescriptionStyleModel",
            "_view_count": null,
            "_view_module": "@jupyter-widgets/base",
            "_view_module_version": "1.2.0",
            "_view_name": "StyleView",
            "description_width": ""
          }
        },
        "a694f607e10d4886a17639dc6923f3a6": {
          "model_module": "@jupyter-widgets/base",
          "model_name": "LayoutModel",
          "model_module_version": "1.2.0",
          "state": {
            "_model_module": "@jupyter-widgets/base",
            "_model_module_version": "1.2.0",
            "_model_name": "LayoutModel",
            "_view_count": null,
            "_view_module": "@jupyter-widgets/base",
            "_view_module_version": "1.2.0",
            "_view_name": "LayoutView",
            "align_content": null,
            "align_items": null,
            "align_self": null,
            "border": null,
            "bottom": null,
            "display": null,
            "flex": null,
            "flex_flow": null,
            "grid_area": null,
            "grid_auto_columns": null,
            "grid_auto_flow": null,
            "grid_auto_rows": null,
            "grid_column": null,
            "grid_gap": null,
            "grid_row": null,
            "grid_template_areas": null,
            "grid_template_columns": null,
            "grid_template_rows": null,
            "height": null,
            "justify_content": null,
            "justify_items": null,
            "left": null,
            "margin": null,
            "max_height": null,
            "max_width": null,
            "min_height": null,
            "min_width": null,
            "object_fit": null,
            "object_position": null,
            "order": null,
            "overflow": null,
            "overflow_x": null,
            "overflow_y": null,
            "padding": null,
            "right": null,
            "top": null,
            "visibility": null,
            "width": null
          }
        },
        "e614a5fe7aae423da69b4ab0cf8a1463": {
          "model_module": "@jupyter-widgets/controls",
          "model_name": "ProgressStyleModel",
          "model_module_version": "1.5.0",
          "state": {
            "_model_module": "@jupyter-widgets/controls",
            "_model_module_version": "1.5.0",
            "_model_name": "ProgressStyleModel",
            "_view_count": null,
            "_view_module": "@jupyter-widgets/base",
            "_view_module_version": "1.2.0",
            "_view_name": "StyleView",
            "bar_color": null,
            "description_width": ""
          }
        },
        "4470ca3e9f1a40ff90a12d7c6e552f8e": {
          "model_module": "@jupyter-widgets/base",
          "model_name": "LayoutModel",
          "model_module_version": "1.2.0",
          "state": {
            "_model_module": "@jupyter-widgets/base",
            "_model_module_version": "1.2.0",
            "_model_name": "LayoutModel",
            "_view_count": null,
            "_view_module": "@jupyter-widgets/base",
            "_view_module_version": "1.2.0",
            "_view_name": "LayoutView",
            "align_content": null,
            "align_items": null,
            "align_self": null,
            "border": null,
            "bottom": null,
            "display": null,
            "flex": null,
            "flex_flow": null,
            "grid_area": null,
            "grid_auto_columns": null,
            "grid_auto_flow": null,
            "grid_auto_rows": null,
            "grid_column": null,
            "grid_gap": null,
            "grid_row": null,
            "grid_template_areas": null,
            "grid_template_columns": null,
            "grid_template_rows": null,
            "height": null,
            "justify_content": null,
            "justify_items": null,
            "left": null,
            "margin": null,
            "max_height": null,
            "max_width": null,
            "min_height": null,
            "min_width": null,
            "object_fit": null,
            "object_position": null,
            "order": null,
            "overflow": null,
            "overflow_x": null,
            "overflow_y": null,
            "padding": null,
            "right": null,
            "top": null,
            "visibility": null,
            "width": null
          }
        },
        "37c4c3f02bd2433881d144f3aab60abd": {
          "model_module": "@jupyter-widgets/controls",
          "model_name": "DescriptionStyleModel",
          "model_module_version": "1.5.0",
          "state": {
            "_model_module": "@jupyter-widgets/controls",
            "_model_module_version": "1.5.0",
            "_model_name": "DescriptionStyleModel",
            "_view_count": null,
            "_view_module": "@jupyter-widgets/base",
            "_view_module_version": "1.2.0",
            "_view_name": "StyleView",
            "description_width": ""
          }
        }
      }
    }
  },
  "nbformat": 4,
  "nbformat_minor": 0
}