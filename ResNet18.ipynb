{
  "cells": [
    {
      "cell_type": "markdown",
      "metadata": {
        "id": "view-in-github",
        "colab_type": "text"
      },
      "source": [
        "<a href=\"https://colab.research.google.com/github/Arjavjain100/Apple-Scab-Detection/blob/main/ResNet18.ipynb\" target=\"_parent\"><img src=\"https://colab.research.google.com/assets/colab-badge.svg\" alt=\"Open In Colab\"/></a>"
      ]
    },
    {
      "cell_type": "code",
      "execution_count": null,
      "metadata": {
        "colab": {
          "base_uri": "https://localhost:8080/"
        },
        "id": "IgS9hK859Ts5",
        "outputId": "d97161c8-987f-466e-f242-413c6df25424"
      },
      "outputs": [
        {
          "output_type": "stream",
          "name": "stdout",
          "text": [
            "Looking in indexes: https://pypi.org/simple, https://us-python.pkg.dev/colab-wheels/public/simple/\n",
            "Collecting torchinfo\n",
            "  Downloading torchinfo-1.7.1-py3-none-any.whl (22 kB)\n",
            "Installing collected packages: torchinfo\n",
            "Successfully installed torchinfo-1.7.1\n",
            "Looking in indexes: https://pypi.org/simple, https://us-python.pkg.dev/colab-wheels/public/simple/\n",
            "Collecting torchmetrics\n",
            "  Downloading torchmetrics-0.10.2-py3-none-any.whl (529 kB)\n",
            "\u001b[K     |████████████████████████████████| 529 kB 22.4 MB/s \n",
            "\u001b[?25hRequirement already satisfied: packaging in /usr/local/lib/python3.7/dist-packages (from torchmetrics) (21.3)\n",
            "Requirement already satisfied: numpy>=1.17.2 in /usr/local/lib/python3.7/dist-packages (from torchmetrics) (1.21.6)\n",
            "Requirement already satisfied: typing-extensions in /usr/local/lib/python3.7/dist-packages (from torchmetrics) (4.1.1)\n",
            "Requirement already satisfied: torch>=1.3.1 in /usr/local/lib/python3.7/dist-packages (from torchmetrics) (1.12.1+cu113)\n",
            "Requirement already satisfied: pyparsing!=3.0.5,>=2.0.2 in /usr/local/lib/python3.7/dist-packages (from packaging->torchmetrics) (3.0.9)\n",
            "Installing collected packages: torchmetrics\n",
            "Successfully installed torchmetrics-0.10.2\n"
          ]
        }
      ],
      "source": [
        "!pip install torchinfo\n",
        "!pip install torchmetrics"
      ]
    },
    {
      "cell_type": "code",
      "execution_count": null,
      "metadata": {
        "colab": {
          "base_uri": "https://localhost:8080/"
        },
        "id": "zycdm4nqBonf",
        "outputId": "148dca4f-1e5c-46a5-f4c6-f8abc5dda0b7"
      },
      "outputs": [
        {
          "output_type": "stream",
          "name": "stdout",
          "text": [
            "Cloning into 'Apple-Scab-Detection'...\n",
            "remote: Enumerating objects: 617, done.\u001b[K\n",
            "remote: Counting objects: 100% (107/107), done.\u001b[K\n",
            "remote: Compressing objects: 100% (75/75), done.\u001b[K\n",
            "remote: Total 617 (delta 40), reused 75 (delta 25), pack-reused 510\u001b[K\n",
            "Receiving objects: 100% (617/617), 1.21 GiB | 17.54 MiB/s, done.\n",
            "Resolving deltas: 100% (43/43), done.\n",
            "Checking out files: 100% (1033/1033), done.\n"
          ]
        }
      ],
      "source": [
        "!git clone \"https://github.com/Arjavjain100/Apple-Scab-Detection.git\""
      ]
    },
    {
      "cell_type": "code",
      "execution_count": null,
      "metadata": {
        "id": "gIcgjnzepVAT"
      },
      "outputs": [],
      "source": [
        "# Importing required libraries\n",
        "import torch\n",
        "import torch.nn as nn\n",
        "import torch.nn.functional as F\n",
        "import torch.optim as opt\n",
        "from torchvision import datasets, transforms, models\n",
        "from tqdm.auto import tqdm\n",
        "from torchinfo import summary\n",
        "import matplotlib.pyplot as plt\n",
        "from torchmetrics.classification import BinaryF1Score"
      ]
    },
    {
      "cell_type": "code",
      "execution_count": null,
      "metadata": {
        "id": "0p2IgYKz9rjc"
      },
      "outputs": [],
      "source": [
        "torch.manual_seed(42) \n",
        "torch.cuda.manual_seed(42)"
      ]
    },
    {
      "cell_type": "code",
      "execution_count": null,
      "metadata": {
        "id": "yB7nF4vn46SP"
      },
      "outputs": [],
      "source": [
        "def train_step(model: torch.nn.Module, \n",
        "               dataloader: torch.utils.data.DataLoader, \n",
        "               loss_fn: torch.nn.Module, \n",
        "               optimizer: torch.optim.Optimizer):\n",
        "    # Put model in train mode\n",
        "    model.train()\n",
        "    \n",
        "    # Setup train loss and train accuracy values\n",
        "    train_loss, train_acc, train_f1 = 0, 0, 0\n",
        "    F1 = BinaryF1Score().to(device)\n",
        "\n",
        "    # Loop through data loader data batches\n",
        "    for batch, (X, y) in enumerate(dataloader):\n",
        "        # Send data to target device\n",
        "        X, y = X.to(device), y.to(device)\n",
        "\n",
        "        # 1. Forward pass\n",
        "        y_pred = model(X)\n",
        "\n",
        "        # 2. Calculate  and accumulate loss\n",
        "        loss = loss_fn(y_pred, y)\n",
        "        train_loss += loss.item() \n",
        "\n",
        "        # 3. Optimizer zero grad\n",
        "        optimizer.zero_grad()\n",
        "\n",
        "        # 4. Loss backward\n",
        "        loss.backward()\n",
        "\n",
        "        # 5. Optimizer step\n",
        "        optimizer.step()\n",
        "\n",
        "        # Calculate and accumulate accuracy metric across all batches\n",
        "        y_pred_class = torch.argmax(torch.softmax(y_pred, dim=1), dim=1)\n",
        "        train_acc += (y_pred_class == y).sum().item()/len(y_pred)\n",
        "        train_f1 += F1(y_pred_class, y).item()\n",
        "\n",
        "    # Adjust metrics to get average loss and accuracy per batch \n",
        "    train_loss = train_loss / len(dataloader)\n",
        "    train_acc = train_acc / len(dataloader)\n",
        "    train_f1 = train_f1 / len(dataloader)\n",
        "    return train_loss, train_acc, train_f1"
      ]
    },
    {
      "cell_type": "code",
      "execution_count": null,
      "metadata": {
        "id": "xRvo7Tx446ly"
      },
      "outputs": [],
      "source": [
        "def test_step(model: torch.nn.Module, \n",
        "              dataloader: torch.utils.data.DataLoader, \n",
        "              loss_fn: torch.nn.Module):\n",
        "    # Put model in eval mode\n",
        "    model.eval() \n",
        "\n",
        "    F1 = BinaryF1Score().to(device)\n",
        "\n",
        "    # Setup test loss and test accuracy values\n",
        "    test_loss, test_acc, test_f1 = 0, 0, 0\n",
        "    \n",
        "    # Turn on inference context manager\n",
        "    with torch.inference_mode():\n",
        "        # Loop through DataLoader batches\n",
        "        for batch, (X, y) in enumerate(dataloader):\n",
        "            # Send data to target device\n",
        "            X, y = X.to(device), y.to(device)\n",
        "    \n",
        "            # 1. Forward pass\n",
        "            test_pred_logits = model(X)\n",
        "\n",
        "            # 2. Calculate and accumulate loss\n",
        "            loss = loss_fn(test_pred_logits, y)\n",
        "            test_loss += loss.item()\n",
        "            \n",
        "            # Calculate and accumulate accuracy\n",
        "            test_pred_labels = test_pred_logits.argmax(dim=1)\n",
        "            test_acc += ((test_pred_labels == y).sum().item()/len(test_pred_labels))\n",
        "            test_f1 += F1(test_pred_labels, y).item()\n",
        "            \n",
        "    # Adjust metrics to get average loss and accuracy per batch \n",
        "    test_loss = test_loss / len(dataloader)\n",
        "    test_acc = test_acc / len(dataloader)\n",
        "    test_f1 = test_f1 / len(dataloader)\n",
        "    return test_loss, test_acc, test_f1"
      ]
    },
    {
      "cell_type": "code",
      "execution_count": null,
      "metadata": {
        "id": "QjMO-hdH462K"
      },
      "outputs": [],
      "source": [
        "\n",
        "# 1. Take in various parameters required for training and test steps\n",
        "def train(model: torch.nn.Module, \n",
        "          train_dataloader: torch.utils.data.DataLoader, \n",
        "          test_dataloader: torch.utils.data.DataLoader, \n",
        "          optimizer: torch.optim.Optimizer,\n",
        "          loss_fn: torch.nn.Module = nn.CrossEntropyLoss(),\n",
        "          epochs: int = 5):\n",
        "    \n",
        "    # 2. Create empty results dictionary\n",
        "    results = {\"train_loss\": [],\n",
        "        \"train_acc\": [],\n",
        "        \"test_loss\": [],\n",
        "        \"test_acc\": [],\n",
        "        \"train_f1\": [],\n",
        "        \"test_f1\": []\n",
        "    }\n",
        "    \n",
        "    # 3. Loop through training and testing steps for a number of epochs\n",
        "    for epoch in tqdm(range(epochs)):\n",
        "        train_loss, train_acc, train_f1 = train_step(model=model,\n",
        "                                           dataloader=train_dataloader,\n",
        "                                           loss_fn=loss_fn,\n",
        "                                           optimizer=optimizer)\n",
        "        test_loss, test_acc, test_f1 = test_step(model=model,\n",
        "            dataloader=test_dataloader,\n",
        "            loss_fn=loss_fn)\n",
        "        \n",
        "        # 4. Print out what's happening\n",
        "        print(\n",
        "            f\"Epoch: {epoch+1} | \"\n",
        "            f\"train_loss: {train_loss:.4f} | \"\n",
        "            f\"train_acc: {train_acc:.4f} | \"\n",
        "            f\"test_loss: {test_loss:.4f} | \"\n",
        "            f\"test_acc: {test_acc:.4f} | \"\n",
        "            f\"train_f1: {train_f1:.4f} | \"\n",
        "            f\"test_f1: {test_f1:.4f}\"\n",
        "\n",
        "        )\n",
        "\n",
        "        # 5. Update results dictionary\n",
        "        results[\"train_loss\"].append(train_loss)\n",
        "        results[\"train_acc\"].append(train_acc)\n",
        "        results[\"test_loss\"].append(test_loss)\n",
        "        results[\"test_acc\"].append(test_acc)\n",
        "        results[\"train_f1\"].append(train_f1)\n",
        "        results[\"test_f1\"].append(test_f1)\n",
        "\n",
        "\n",
        "    # 6. Return the filled results at the end of the epochs\n",
        "    return results"
      ]
    },
    {
      "cell_type": "code",
      "execution_count": null,
      "metadata": {
        "id": "sSQviNWr9yWu"
      },
      "outputs": [],
      "source": [
        "def plot_loss_curves(results):\n",
        "    \"\"\"Plots training curves of a results dictionary.\n",
        "\n",
        "    Args:\n",
        "        results (dict): dictionary containing list of values, e.g.\n",
        "            {\"train_loss\": [...],\n",
        "             \"train_acc\": [...],\n",
        "             \"test_loss\": [...],\n",
        "             \"test_acc\": [...]}\n",
        "    \"\"\"\n",
        "    \n",
        "    # Get the loss values of the results dictionary (training and test)\n",
        "    loss = results['train_loss']\n",
        "    test_loss = results['test_loss']\n",
        "\n",
        "    # Get the accuracy values of the results dictionary (training and test)\n",
        "    accuracy = results['train_acc']\n",
        "    test_accuracy = results['test_acc']\n",
        "\n",
        "    f1 = results['train_f1']\n",
        "    test_f1 = results['test_f1']\n",
        "    # Figure out how many epochs there were\n",
        "    epochs = range(len(results['train_loss']))\n",
        "\n",
        "    # Setup a plot \n",
        "    plt.figure(figsize=(15, 7))\n",
        "\n",
        "    # Plot loss\n",
        "    plt.subplot(1, 2, 1)\n",
        "    plt.plot(epochs, loss, label='train_loss')\n",
        "    plt.plot(epochs, test_loss, label='test_loss')\n",
        "    plt.title('Loss')\n",
        "    plt.xlabel('Epochs')\n",
        "    plt.legend()\n",
        "\n",
        "    # Plot accuracy\n",
        "    plt.subplot(1, 2, 2)\n",
        "    plt.plot(epochs, accuracy, label='train_accuracy')\n",
        "    plt.plot(epochs, test_accuracy, label='test_accuracy')\n",
        "    plt.title('Accuracy')\n",
        "    plt.xlabel('Epochs')\n",
        "    plt.legend()\n",
        "\n",
        "    # Plot F1 score\n",
        "    plt.plot(epochs, f1, label='train_f1')\n",
        "    plt.plot(epochs, test_f1, label='test_f1')\n",
        "    plt.title('F1 Score')\n",
        "    plt.xlabel('Epochs')\n",
        "    plt.legend()"
      ]
    },
    {
      "cell_type": "code",
      "source": [
        "auto_transforms = models.ResNet18_Weights.IMAGENET1K_V1.transforms()\n",
        "auto_transforms"
      ],
      "metadata": {
        "colab": {
          "base_uri": "https://localhost:8080/"
        },
        "id": "-wgcndaQoTii",
        "outputId": "dcdf6c41-32f9-4133-ee24-198c3848432e"
      },
      "execution_count": null,
      "outputs": [
        {
          "output_type": "execute_result",
          "data": {
            "text/plain": [
              "ImageClassification(\n",
              "    crop_size=[224]\n",
              "    resize_size=[256]\n",
              "    mean=[0.485, 0.456, 0.406]\n",
              "    std=[0.229, 0.224, 0.225]\n",
              "    interpolation=InterpolationMode.BILINEAR\n",
              ")"
            ]
          },
          "metadata": {},
          "execution_count": 9
        }
      ]
    },
    {
      "cell_type": "code",
      "execution_count": null,
      "metadata": {
        "id": "0DjtQKqcCB2H"
      },
      "outputs": [],
      "source": [
        "batch_size = 64\n",
        "# Change Tranforms accordong to the model\n",
        "transform = {\n",
        "    'train': transforms.Compose([\n",
        "        transforms.ToTensor(),\n",
        "        transforms.Resize((256, 256)),\n",
        "        transforms.Normalize(mean=[0.485, 0.456, 0.406],\n",
        "                             std=[0.229, 0.224, 0.225])]),\n",
        "    'test': transforms.Compose([\n",
        "        transforms.ToTensor(),\n",
        "        transforms.Resize((256, 256)),\n",
        "        transforms.Normalize(mean=[0.485, 0.456, 0.406],\n",
        "                             std=[0.229, 0.224, 0.225])])\n",
        "}\n",
        "test_data = datasets.ImageFolder('/content/Apple-Scab-Detection/Augmented Dataset/Test', transform = transform[\"train\"])\n",
        "train_data = datasets.ImageFolder('/content/Apple-Scab-Detection/Augmented Dataset/Test',  transform = transform[\"test\"])\n",
        "train_loader = torch.utils.data.DataLoader(\n",
        "    train_data, shuffle=True, batch_size=batch_size)\n",
        "test_loader = torch.utils.data.DataLoader(\n",
        "    test_data, shuffle=True, batch_size=batch_size)"
      ]
    },
    {
      "cell_type": "code",
      "execution_count": null,
      "metadata": {
        "id": "ywOkNd3bwBdp",
        "colab": {
          "base_uri": "https://localhost:8080/",
          "height": 120,
          "referenced_widgets": [
            "4eb8aa5f00ac48f3a978fb0e4d9c419f",
            "38c3d6d14a9c4b77a4d1e539beffa97c",
            "06bf00f3c67e486891c343f6fa707c9e",
            "d1e90b6b10014906b3ab7bdb6e40acfa",
            "8df033da3a854a6c90caeea55a4ae9c0",
            "cb9fe41afabf4636a136b9e19b110656",
            "c51b011a2a8b4852b51ed0eabf0747d2",
            "6c937444537a4bc2ac52791aa45b768c",
            "91bd9e5342344bbb8ef85b6ad974dcc4",
            "d8650a34c2ef435385d54db40829defd",
            "076b9418696c4a488b5f9bd6ea83bd48"
          ]
        },
        "outputId": "013c7fa6-888d-452a-9a71-a12cccbed9a7"
      },
      "outputs": [
        {
          "output_type": "stream",
          "name": "stderr",
          "text": [
            "/usr/local/lib/python3.7/dist-packages/torchvision/models/_utils.py:136: UserWarning: Using 'weights' as positional parameter(s) is deprecated since 0.13 and will be removed in 0.15. Please use keyword parameter(s) instead.\n",
            "  f\"Using {sequence_to_str(tuple(keyword_only_kwargs.keys()), separate_last='and ')} as positional \"\n",
            "Downloading: \"https://download.pytorch.org/models/resnet18-f37072fd.pth\" to /root/.cache/torch/hub/checkpoints/resnet18-f37072fd.pth\n"
          ]
        },
        {
          "output_type": "display_data",
          "data": {
            "text/plain": [
              "  0%|          | 0.00/44.7M [00:00<?, ?B/s]"
            ],
            "application/vnd.jupyter.widget-view+json": {
              "version_major": 2,
              "version_minor": 0,
              "model_id": "4eb8aa5f00ac48f3a978fb0e4d9c419f"
            }
          },
          "metadata": {}
        }
      ],
      "source": [
        "device = torch.device('cuda' if torch.cuda.is_available() else 'cpu')\n",
        "\n",
        "# Change model\n",
        "model = models.resnet18(models.ResNet18_Weights.IMAGENET1K_V1).to(device)\n",
        "\n",
        "#Freeze all base layers in the \"features\" section of the model (the feature extractor) by setting requires_grad=False\n",
        "for param in model.parameters():\n",
        "    param.requires_grad = False\n",
        "\n",
        "model.fc = nn.Sequential(\n",
        "    nn.BatchNorm1d(512), \n",
        "    nn.Dropout(0.2),   \n",
        "    nn.Linear(512, 256),\n",
        "    nn.ReLU(),\n",
        "    nn.BatchNorm1d(256),\n",
        "    nn.Dropout(0.2),   \n",
        "    nn.Linear(256, 128),\n",
        "    nn.ReLU(),\n",
        "    nn.BatchNorm1d(128),\n",
        "    nn.Dropout(0.2),\n",
        "    nn.Linear(128, 2),\n",
        "    ).to(device)"
      ]
    },
    {
      "cell_type": "code",
      "execution_count": null,
      "metadata": {
        "colab": {
          "base_uri": "https://localhost:8080/"
        },
        "id": "jzBnmJov_HnC",
        "outputId": "f8966452-5c02-4453-9429-e63296104cbe"
      },
      "outputs": [
        {
          "output_type": "execute_result",
          "data": {
            "text/plain": [
              "========================================================================================================================\n",
              "Layer (type (var_name))                  Input Shape          Output Shape         Param #              Trainable\n",
              "========================================================================================================================\n",
              "ResNet (ResNet)                          [64, 3, 256, 256]    [64, 2]              --                   Partial\n",
              "├─Conv2d (conv1)                         [64, 3, 256, 256]    [64, 64, 128, 128]   (9,408)              False\n",
              "├─BatchNorm2d (bn1)                      [64, 64, 128, 128]   [64, 64, 128, 128]   (128)                False\n",
              "├─ReLU (relu)                            [64, 64, 128, 128]   [64, 64, 128, 128]   --                   --\n",
              "├─MaxPool2d (maxpool)                    [64, 64, 128, 128]   [64, 64, 64, 64]     --                   --\n",
              "├─Sequential (layer1)                    [64, 64, 64, 64]     [64, 64, 64, 64]     --                   False\n",
              "│    └─BasicBlock (0)                    [64, 64, 64, 64]     [64, 64, 64, 64]     --                   False\n",
              "│    │    └─Conv2d (conv1)               [64, 64, 64, 64]     [64, 64, 64, 64]     (36,864)             False\n",
              "│    │    └─BatchNorm2d (bn1)            [64, 64, 64, 64]     [64, 64, 64, 64]     (128)                False\n",
              "│    │    └─ReLU (relu)                  [64, 64, 64, 64]     [64, 64, 64, 64]     --                   --\n",
              "│    │    └─Conv2d (conv2)               [64, 64, 64, 64]     [64, 64, 64, 64]     (36,864)             False\n",
              "│    │    └─BatchNorm2d (bn2)            [64, 64, 64, 64]     [64, 64, 64, 64]     (128)                False\n",
              "│    │    └─ReLU (relu)                  [64, 64, 64, 64]     [64, 64, 64, 64]     --                   --\n",
              "│    └─BasicBlock (1)                    [64, 64, 64, 64]     [64, 64, 64, 64]     --                   False\n",
              "│    │    └─Conv2d (conv1)               [64, 64, 64, 64]     [64, 64, 64, 64]     (36,864)             False\n",
              "│    │    └─BatchNorm2d (bn1)            [64, 64, 64, 64]     [64, 64, 64, 64]     (128)                False\n",
              "│    │    └─ReLU (relu)                  [64, 64, 64, 64]     [64, 64, 64, 64]     --                   --\n",
              "│    │    └─Conv2d (conv2)               [64, 64, 64, 64]     [64, 64, 64, 64]     (36,864)             False\n",
              "│    │    └─BatchNorm2d (bn2)            [64, 64, 64, 64]     [64, 64, 64, 64]     (128)                False\n",
              "│    │    └─ReLU (relu)                  [64, 64, 64, 64]     [64, 64, 64, 64]     --                   --\n",
              "├─Sequential (layer2)                    [64, 64, 64, 64]     [64, 128, 32, 32]    --                   False\n",
              "│    └─BasicBlock (0)                    [64, 64, 64, 64]     [64, 128, 32, 32]    --                   False\n",
              "│    │    └─Conv2d (conv1)               [64, 64, 64, 64]     [64, 128, 32, 32]    (73,728)             False\n",
              "│    │    └─BatchNorm2d (bn1)            [64, 128, 32, 32]    [64, 128, 32, 32]    (256)                False\n",
              "│    │    └─ReLU (relu)                  [64, 128, 32, 32]    [64, 128, 32, 32]    --                   --\n",
              "│    │    └─Conv2d (conv2)               [64, 128, 32, 32]    [64, 128, 32, 32]    (147,456)            False\n",
              "│    │    └─BatchNorm2d (bn2)            [64, 128, 32, 32]    [64, 128, 32, 32]    (256)                False\n",
              "│    │    └─Sequential (downsample)      [64, 64, 64, 64]     [64, 128, 32, 32]    (8,448)              False\n",
              "│    │    └─ReLU (relu)                  [64, 128, 32, 32]    [64, 128, 32, 32]    --                   --\n",
              "│    └─BasicBlock (1)                    [64, 128, 32, 32]    [64, 128, 32, 32]    --                   False\n",
              "│    │    └─Conv2d (conv1)               [64, 128, 32, 32]    [64, 128, 32, 32]    (147,456)            False\n",
              "│    │    └─BatchNorm2d (bn1)            [64, 128, 32, 32]    [64, 128, 32, 32]    (256)                False\n",
              "│    │    └─ReLU (relu)                  [64, 128, 32, 32]    [64, 128, 32, 32]    --                   --\n",
              "│    │    └─Conv2d (conv2)               [64, 128, 32, 32]    [64, 128, 32, 32]    (147,456)            False\n",
              "│    │    └─BatchNorm2d (bn2)            [64, 128, 32, 32]    [64, 128, 32, 32]    (256)                False\n",
              "│    │    └─ReLU (relu)                  [64, 128, 32, 32]    [64, 128, 32, 32]    --                   --\n",
              "├─Sequential (layer3)                    [64, 128, 32, 32]    [64, 256, 16, 16]    --                   False\n",
              "│    └─BasicBlock (0)                    [64, 128, 32, 32]    [64, 256, 16, 16]    --                   False\n",
              "│    │    └─Conv2d (conv1)               [64, 128, 32, 32]    [64, 256, 16, 16]    (294,912)            False\n",
              "│    │    └─BatchNorm2d (bn1)            [64, 256, 16, 16]    [64, 256, 16, 16]    (512)                False\n",
              "│    │    └─ReLU (relu)                  [64, 256, 16, 16]    [64, 256, 16, 16]    --                   --\n",
              "│    │    └─Conv2d (conv2)               [64, 256, 16, 16]    [64, 256, 16, 16]    (589,824)            False\n",
              "│    │    └─BatchNorm2d (bn2)            [64, 256, 16, 16]    [64, 256, 16, 16]    (512)                False\n",
              "│    │    └─Sequential (downsample)      [64, 128, 32, 32]    [64, 256, 16, 16]    (33,280)             False\n",
              "│    │    └─ReLU (relu)                  [64, 256, 16, 16]    [64, 256, 16, 16]    --                   --\n",
              "│    └─BasicBlock (1)                    [64, 256, 16, 16]    [64, 256, 16, 16]    --                   False\n",
              "│    │    └─Conv2d (conv1)               [64, 256, 16, 16]    [64, 256, 16, 16]    (589,824)            False\n",
              "│    │    └─BatchNorm2d (bn1)            [64, 256, 16, 16]    [64, 256, 16, 16]    (512)                False\n",
              "│    │    └─ReLU (relu)                  [64, 256, 16, 16]    [64, 256, 16, 16]    --                   --\n",
              "│    │    └─Conv2d (conv2)               [64, 256, 16, 16]    [64, 256, 16, 16]    (589,824)            False\n",
              "│    │    └─BatchNorm2d (bn2)            [64, 256, 16, 16]    [64, 256, 16, 16]    (512)                False\n",
              "│    │    └─ReLU (relu)                  [64, 256, 16, 16]    [64, 256, 16, 16]    --                   --\n",
              "├─Sequential (layer4)                    [64, 256, 16, 16]    [64, 512, 8, 8]      --                   False\n",
              "│    └─BasicBlock (0)                    [64, 256, 16, 16]    [64, 512, 8, 8]      --                   False\n",
              "│    │    └─Conv2d (conv1)               [64, 256, 16, 16]    [64, 512, 8, 8]      (1,179,648)          False\n",
              "│    │    └─BatchNorm2d (bn1)            [64, 512, 8, 8]      [64, 512, 8, 8]      (1,024)              False\n",
              "│    │    └─ReLU (relu)                  [64, 512, 8, 8]      [64, 512, 8, 8]      --                   --\n",
              "│    │    └─Conv2d (conv2)               [64, 512, 8, 8]      [64, 512, 8, 8]      (2,359,296)          False\n",
              "│    │    └─BatchNorm2d (bn2)            [64, 512, 8, 8]      [64, 512, 8, 8]      (1,024)              False\n",
              "│    │    └─Sequential (downsample)      [64, 256, 16, 16]    [64, 512, 8, 8]      (132,096)            False\n",
              "│    │    └─ReLU (relu)                  [64, 512, 8, 8]      [64, 512, 8, 8]      --                   --\n",
              "│    └─BasicBlock (1)                    [64, 512, 8, 8]      [64, 512, 8, 8]      --                   False\n",
              "│    │    └─Conv2d (conv1)               [64, 512, 8, 8]      [64, 512, 8, 8]      (2,359,296)          False\n",
              "│    │    └─BatchNorm2d (bn1)            [64, 512, 8, 8]      [64, 512, 8, 8]      (1,024)              False\n",
              "│    │    └─ReLU (relu)                  [64, 512, 8, 8]      [64, 512, 8, 8]      --                   --\n",
              "│    │    └─Conv2d (conv2)               [64, 512, 8, 8]      [64, 512, 8, 8]      (2,359,296)          False\n",
              "│    │    └─BatchNorm2d (bn2)            [64, 512, 8, 8]      [64, 512, 8, 8]      (1,024)              False\n",
              "│    │    └─ReLU (relu)                  [64, 512, 8, 8]      [64, 512, 8, 8]      --                   --\n",
              "├─AdaptiveAvgPool2d (avgpool)            [64, 512, 8, 8]      [64, 512, 1, 1]      --                   --\n",
              "├─Sequential (fc)                        [64, 512]            [64, 2]              --                   True\n",
              "│    └─BatchNorm1d (0)                   [64, 512]            [64, 512]            1,024                True\n",
              "│    └─Dropout (1)                       [64, 512]            [64, 512]            --                   --\n",
              "│    └─Linear (2)                        [64, 512]            [64, 256]            131,328              True\n",
              "│    └─ReLU (3)                          [64, 256]            [64, 256]            --                   --\n",
              "│    └─BatchNorm1d (4)                   [64, 256]            [64, 256]            512                  True\n",
              "│    └─Dropout (5)                       [64, 256]            [64, 256]            --                   --\n",
              "│    └─Linear (6)                        [64, 256]            [64, 128]            32,896               True\n",
              "│    └─ReLU (7)                          [64, 128]            [64, 128]            --                   --\n",
              "│    └─BatchNorm1d (8)                   [64, 128]            [64, 128]            256                  True\n",
              "│    └─Dropout (9)                       [64, 128]            [64, 128]            --                   --\n",
              "│    └─Linear (10)                       [64, 128]            [64, 2]              258                  True\n",
              "========================================================================================================================\n",
              "Total params: 11,342,786\n",
              "Trainable params: 166,274\n",
              "Non-trainable params: 11,176,512\n",
              "Total mult-adds (G): 151.61\n",
              "========================================================================================================================\n",
              "Input size (MB): 50.33\n",
              "Forward/backward pass size (MB): 3322.55\n",
              "Params size (MB): 45.37\n",
              "Estimated Total Size (MB): 3418.25\n",
              "========================================================================================================================"
            ]
          },
          "metadata": {},
          "execution_count": 12
        }
      ],
      "source": [
        "\n",
        "summary(model=model, \n",
        "        input_size=(batch_size, 3, 256, 256), # make sure this is \"input_size\", not \"input_shape\"\n",
        "        col_names=[\"input_size\", \"output_size\", \"num_params\", \"trainable\"],\n",
        "        col_width=20,\n",
        "        row_settings=[\"var_names\"]\n",
        ")"
      ]
    },
    {
      "cell_type": "code",
      "execution_count": null,
      "metadata": {
        "colab": {
          "base_uri": "https://localhost:8080/",
          "height": 576,
          "referenced_widgets": [
            "3670c708b9d24dc080e974f3038ad129",
            "ec18717f9a04437186956030a5385a73",
            "23d82108db4440d4a52f6252d9f3ba78",
            "1a97f9ad859046a7a43781baf7bb8a3a",
            "ddb0fea67a4d4d6eb7bee5ccf53d3b08",
            "ff9d3125977c4989be7a508900d3307e",
            "5172e3f938b04a7db77770bd7093c604",
            "bb324aca56e24487952ae1292864ad76",
            "341ed6f3a7a5444989c5cfa03624ea89",
            "f0ed7758f3f64fd78e5580a6f95b4356",
            "2d36825e09a340ad92a4530e7e131cd8"
          ]
        },
        "id": "-7YY7h2LCdyy",
        "outputId": "21cf4b4b-cf03-4a6f-fc16-1bd4042309ca"
      },
      "outputs": [
        {
          "data": {
            "application/vnd.jupyter.widget-view+json": {
              "model_id": "3670c708b9d24dc080e974f3038ad129",
              "version_major": 2,
              "version_minor": 0
            },
            "text/plain": [
              "  0%|          | 0/30 [00:00<?, ?it/s]"
            ]
          },
          "metadata": {},
          "output_type": "display_data"
        },
        {
          "output_type": "stream",
          "name": "stdout",
          "text": [
            "Epoch: 1 | train_loss: 0.7760 | train_acc: 0.4832 | test_loss: 0.6961 | test_acc: 0.4846 | train_f1: 0.5926 | test_f1: 0.5180\n",
            "Epoch: 2 | train_loss: 0.7157 | train_acc: 0.5755 | test_loss: 0.7013 | test_acc: 0.4607 | train_f1: 0.6578 | test_f1: 0.3873\n",
            "Epoch: 3 | train_loss: 0.7247 | train_acc: 0.5159 | test_loss: 0.7089 | test_acc: 0.4010 | train_f1: 0.6044 | test_f1: 0.3729\n",
            "Epoch: 4 | train_loss: 0.7060 | train_acc: 0.5232 | test_loss: 0.7070 | test_acc: 0.4538 | train_f1: 0.6020 | test_f1: 0.4387\n",
            "Epoch: 5 | train_loss: 0.6615 | train_acc: 0.5613 | test_loss: 0.7016 | test_acc: 0.4929 | train_f1: 0.6526 | test_f1: 0.5081\n",
            "Epoch: 6 | train_loss: 0.6777 | train_acc: 0.6072 | test_loss: 0.6864 | test_acc: 0.5076 | train_f1: 0.6791 | test_f1: 0.5278\n",
            "Epoch: 7 | train_loss: 0.6701 | train_acc: 0.5765 | test_loss: 0.6714 | test_acc: 0.6068 | train_f1: 0.6684 | test_f1: 0.6488\n",
            "Epoch: 8 | train_loss: 0.6518 | train_acc: 0.6151 | test_loss: 0.6567 | test_acc: 0.6233 | train_f1: 0.6915 | test_f1: 0.6483\n",
            "Epoch: 9 | train_loss: 0.5971 | train_acc: 0.5843 | test_loss: 0.6312 | test_acc: 0.7225 | train_f1: 0.6491 | test_f1: 0.7665\n",
            "Epoch: 10 | train_loss: 0.5441 | train_acc: 0.7611 | test_loss: 0.6174 | test_acc: 0.7460 | train_f1: 0.8173 | test_f1: 0.7924\n",
            "Epoch: 11 | train_loss: 0.5816 | train_acc: 0.7083 | test_loss: 0.5841 | test_acc: 0.7836 | train_f1: 0.7683 | test_f1: 0.8252\n",
            "Epoch: 12 | train_loss: 0.5766 | train_acc: 0.7763 | test_loss: 0.5591 | test_acc: 0.7919 | train_f1: 0.8286 | test_f1: 0.8346\n",
            "Epoch: 13 | train_loss: 0.5282 | train_acc: 0.7758 | test_loss: 0.5378 | test_acc: 0.8075 | train_f1: 0.8246 | test_f1: 0.8503\n",
            "Epoch: 14 | train_loss: 0.5769 | train_acc: 0.7157 | test_loss: 0.5217 | test_acc: 0.8002 | train_f1: 0.7809 | test_f1: 0.8432\n",
            "Epoch: 15 | train_loss: 0.4776 | train_acc: 0.7988 | test_loss: 0.5116 | test_acc: 0.7855 | train_f1: 0.8477 | test_f1: 0.8402\n",
            "Epoch: 16 | train_loss: 0.5171 | train_acc: 0.7547 | test_loss: 0.4773 | test_acc: 0.8232 | train_f1: 0.8132 | test_f1: 0.8618\n",
            "Epoch: 17 | train_loss: 0.4975 | train_acc: 0.7474 | test_loss: 0.4462 | test_acc: 0.8681 | train_f1: 0.8042 | test_f1: 0.9023\n",
            "Epoch: 18 | train_loss: 0.5000 | train_acc: 0.7699 | test_loss: 0.4360 | test_acc: 0.8691 | train_f1: 0.8293 | test_f1: 0.9016\n",
            "Epoch: 19 | train_loss: 0.4480 | train_acc: 0.8075 | test_loss: 0.4161 | test_acc: 0.8920 | train_f1: 0.8503 | test_f1: 0.9206\n",
            "Epoch: 20 | train_loss: 0.4605 | train_acc: 0.8613 | test_loss: 0.4048 | test_acc: 0.8930 | train_f1: 0.8968 | test_f1: 0.9146\n",
            "Epoch: 21 | train_loss: 0.4049 | train_acc: 0.8764 | test_loss: 0.3867 | test_acc: 0.9389 | train_f1: 0.9070 | test_f1: 0.9545\n",
            "Epoch: 22 | train_loss: 0.4314 | train_acc: 0.8530 | test_loss: 0.3782 | test_acc: 0.9536 | train_f1: 0.8864 | test_f1: 0.9669\n",
            "Epoch: 23 | train_loss: 0.4319 | train_acc: 0.8471 | test_loss: 0.3639 | test_acc: 0.9536 | train_f1: 0.8889 | test_f1: 0.9671\n",
            "Epoch: 24 | train_loss: 0.4397 | train_acc: 0.8007 | test_loss: 0.3416 | test_acc: 0.9614 | train_f1: 0.8405 | test_f1: 0.9728\n",
            "Epoch: 25 | train_loss: 0.3925 | train_acc: 0.8925 | test_loss: 0.3476 | test_acc: 0.9541 | train_f1: 0.9225 | test_f1: 0.9658\n",
            "Epoch: 26 | train_loss: 0.3771 | train_acc: 0.8613 | test_loss: 0.3308 | test_acc: 0.9770 | train_f1: 0.8955 | test_f1: 0.9840\n",
            "Epoch: 27 | train_loss: 0.3822 | train_acc: 0.8305 | test_loss: 0.3183 | test_acc: 0.9844 | train_f1: 0.8724 | test_f1: 0.9889\n",
            "Epoch: 28 | train_loss: 0.4176 | train_acc: 0.8475 | test_loss: 0.2951 | test_acc: 0.9844 | train_f1: 0.8917 | test_f1: 0.9898\n",
            "Epoch: 29 | train_loss: 0.3668 | train_acc: 0.9067 | test_loss: 0.3076 | test_acc: 0.9922 | train_f1: 0.9307 | test_f1: 0.9941\n",
            "Epoch: 30 | train_loss: 0.3641 | train_acc: 0.8686 | test_loss: 0.2849 | test_acc: 0.9922 | train_f1: 0.9004 | test_f1: 0.9941\n",
            "Total training time: 1674.289 seconds\n"
          ]
        }
      ],
      "source": [
        "#Tune hyperparameters\n",
        "NUM_EPOCHS = 30\n",
        "criterion = nn.CrossEntropyLoss()\n",
        "optimizer = opt.SGD(model.parameters(), lr =0.0005, momentum = 0.9)\n",
        "\n",
        "# Start the timer\n",
        "from timeit import default_timer as timer \n",
        "start_time = timer()\n",
        "\n",
        "pt_results = train(model=model, \n",
        "                        train_dataloader=train_loader,\n",
        "                        test_dataloader=test_loader,\n",
        "                        optimizer=optimizer,\n",
        "                        loss_fn=criterion, \n",
        "                        epochs=NUM_EPOCHS)\n",
        "\n",
        "# End the timer and print out how long it took\n",
        "end_time = timer()\n",
        "print(f\"Total training time: {end_time-start_time:.3f} seconds\")\n"
      ]
    },
    {
      "cell_type": "code",
      "execution_count": null,
      "metadata": {
        "id": "-1AoHiC9CpSe",
        "colab": {
          "base_uri": "https://localhost:8080/",
          "height": 458
        },
        "outputId": "c0251db2-91d1-4f6e-98d4-3171a4818818"
      },
      "outputs": [
        {
          "output_type": "display_data",
          "data": {
            "text/plain": [
              "<Figure size 1080x504 with 2 Axes>"
            ],
            "image/png": "[encoded data removed]"
          },
          "metadata": {
            "needs_background": "light"
          }
        }
      ],
      "source": [
        "plot_loss_curves(pt_results)"
      ]
    },
    {
      "cell_type": "code",
      "source": [
        "# Specify a path\n",
        "PATH = \"entire_model.pt\"\n",
        "\n",
        "# Save\n",
        "torch.save(model, PATH)\n",
        "# Load\n",
        "# model = torch.load(PATH)\n",
        "# model.eval()"
      ],
      "metadata": {
        "id": "4EjA4m08LTsL"
      },
      "execution_count": null,
      "outputs": []
    }
  ],
  "metadata": {
    "accelerator": "GPU",
    "colab": {
      "provenance": [],
      "include_colab_link": true
    },
    "gpuClass": "standard",
    "kernelspec": {
      "display_name": "Python 3",
      "name": "python3"
    },
    "language_info": {
      "name": "python"
    },
    "widgets": {
      "application/vnd.jupyter.widget-state+json": {
        "4eb8aa5f00ac48f3a978fb0e4d9c419f": {
          "model_module": "@jupyter-widgets/controls",
          "model_name": "HBoxModel",
          "model_module_version": "1.5.0",
          "state": {
            "_dom_classes": [],
            "_model_module": "@jupyter-widgets/controls",
            "_model_module_version": "1.5.0",
            "_model_name": "HBoxModel",
            "_view_count": null,
            "_view_module": "@jupyter-widgets/controls",
            "_view_module_version": "1.5.0",
            "_view_name": "HBoxView",
            "box_style": "",
            "children": [
              "IPY_MODEL_38c3d6d14a9c4b77a4d1e539beffa97c",
              "IPY_MODEL_06bf00f3c67e486891c343f6fa707c9e",
              "IPY_MODEL_d1e90b6b10014906b3ab7bdb6e40acfa"
            ],
            "layout": "IPY_MODEL_8df033da3a854a6c90caeea55a4ae9c0"
          }
        },
        "38c3d6d14a9c4b77a4d1e539beffa97c": {
          "model_module": "@jupyter-widgets/controls",
          "model_name": "HTMLModel",
          "model_module_version": "1.5.0",
          "state": {
            "_dom_classes": [],
            "_model_module": "@jupyter-widgets/controls",
            "_model_module_version": "1.5.0",
            "_model_name": "HTMLModel",
            "_view_count": null,
            "_view_module": "@jupyter-widgets/controls",
            "_view_module_version": "1.5.0",
            "_view_name": "HTMLView",
            "description": "",
            "description_tooltip": null,
            "layout": "IPY_MODEL_cb9fe41afabf4636a136b9e19b110656",
            "placeholder": "​",
            "style": "IPY_MODEL_c51b011a2a8b4852b51ed0eabf0747d2",
            "value": "100%"
          }
        },
        "06bf00f3c67e486891c343f6fa707c9e": {
          "model_module": "@jupyter-widgets/controls",
          "model_name": "FloatProgressModel",
          "model_module_version": "1.5.0",
          "state": {
            "_dom_classes": [],
            "_model_module": "@jupyter-widgets/controls",
            "_model_module_version": "1.5.0",
            "_model_name": "FloatProgressModel",
            "_view_count": null,
            "_view_module": "@jupyter-widgets/controls",
            "_view_module_version": "1.5.0",
            "_view_name": "ProgressView",
            "bar_style": "success",
            "description": "",
            "description_tooltip": null,
            "layout": "IPY_MODEL_6c937444537a4bc2ac52791aa45b768c",
            "max": 46830571,
            "min": 0,
            "orientation": "horizontal",
            "style": "IPY_MODEL_91bd9e5342344bbb8ef85b6ad974dcc4",
            "value": 46830571
          }
        },
        "d1e90b6b10014906b3ab7bdb6e40acfa": {
          "model_module": "@jupyter-widgets/controls",
          "model_name": "HTMLModel",
          "model_module_version": "1.5.0",
          "state": {
            "_dom_classes": [],
            "_model_module": "@jupyter-widgets/controls",
            "_model_module_version": "1.5.0",
            "_model_name": "HTMLModel",
            "_view_count": null,
            "_view_module": "@jupyter-widgets/controls",
            "_view_module_version": "1.5.0",
            "_view_name": "HTMLView",
            "description": "",
            "description_tooltip": null,
            "layout": "IPY_MODEL_d8650a34c2ef435385d54db40829defd",
            "placeholder": "​",
            "style": "IPY_MODEL_076b9418696c4a488b5f9bd6ea83bd48",
            "value": " 44.7M/44.7M [00:00&lt;00:00, 104MB/s]"
          }
        },
        "8df033da3a854a6c90caeea55a4ae9c0": {
          "model_module": "@jupyter-widgets/base",
          "model_name": "LayoutModel",
          "model_module_version": "1.2.0",
          "state": {
            "_model_module": "@jupyter-widgets/base",
            "_model_module_version": "1.2.0",
            "_model_name": "LayoutModel",
            "_view_count": null,
            "_view_module": "@jupyter-widgets/base",
            "_view_module_version": "1.2.0",
            "_view_name": "LayoutView",
            "align_content": null,
            "align_items": null,
            "align_self": null,
            "border": null,
            "bottom": null,
            "display": null,
            "flex": null,
            "flex_flow": null,
            "grid_area": null,
            "grid_auto_columns": null,
            "grid_auto_flow": null,
            "grid_auto_rows": null,
            "grid_column": null,
            "grid_gap": null,
            "grid_row": null,
            "grid_template_areas": null,
            "grid_template_columns": null,
            "grid_template_rows": null,
            "height": null,
            "justify_content": null,
            "justify_items": null,
            "left": null,
            "margin": null,
            "max_height": null,
            "max_width": null,
            "min_height": null,
            "min_width": null,
            "object_fit": null,
            "object_position": null,
            "order": null,
            "overflow": null,
            "overflow_x": null,
            "overflow_y": null,
            "padding": null,
            "right": null,
            "top": null,
            "visibility": null,
            "width": null
          }
        },
        "cb9fe41afabf4636a136b9e19b110656": {
          "model_module": "@jupyter-widgets/base",
          "model_name": "LayoutModel",
          "model_module_version": "1.2.0",
          "state": {
            "_model_module": "@jupyter-widgets/base",
            "_model_module_version": "1.2.0",
            "_model_name": "LayoutModel",
            "_view_count": null,
            "_view_module": "@jupyter-widgets/base",
            "_view_module_version": "1.2.0",
            "_view_name": "LayoutView",
            "align_content": null,
            "align_items": null,
            "align_self": null,
            "border": null,
            "bottom": null,
            "display": null,
            "flex": null,
            "flex_flow": null,
            "grid_area": null,
            "grid_auto_columns": null,
            "grid_auto_flow": null,
            "grid_auto_rows": null,
            "grid_column": null,
            "grid_gap": null,
            "grid_row": null,
            "grid_template_areas": null,
            "grid_template_columns": null,
            "grid_template_rows": null,
            "height": null,
            "justify_content": null,
            "justify_items": null,
            "left": null,
            "margin": null,
            "max_height": null,
            "max_width": null,
            "min_height": null,
            "min_width": null,
            "object_fit": null,
            "object_position": null,
            "order": null,
            "overflow": null,
            "overflow_x": null,
            "overflow_y": null,
            "padding": null,
            "right": null,
            "top": null,
            "visibility": null,
            "width": null
          }
        },
        "c51b011a2a8b4852b51ed0eabf0747d2": {
          "model_module": "@jupyter-widgets/controls",
          "model_name": "DescriptionStyleModel",
          "model_module_version": "1.5.0",
          "state": {
            "_model_module": "@jupyter-widgets/controls",
            "_model_module_version": "1.5.0",
            "_model_name": "DescriptionStyleModel",
            "_view_count": null,
            "_view_module": "@jupyter-widgets/base",
            "_view_module_version": "1.2.0",
            "_view_name": "StyleView",
            "description_width": ""
          }
        },
        "6c937444537a4bc2ac52791aa45b768c": {
          "model_module": "@jupyter-widgets/base",
          "model_name": "LayoutModel",
          "model_module_version": "1.2.0",
          "state": {
            "_model_module": "@jupyter-widgets/base",
            "_model_module_version": "1.2.0",
            "_model_name": "LayoutModel",
            "_view_count": null,
            "_view_module": "@jupyter-widgets/base",
            "_view_module_version": "1.2.0",
            "_view_name": "LayoutView",
            "align_content": null,
            "align_items": null,
            "align_self": null,
            "border": null,
            "bottom": null,
            "display": null,
            "flex": null,
            "flex_flow": null,
            "grid_area": null,
            "grid_auto_columns": null,
            "grid_auto_flow": null,
            "grid_auto_rows": null,
            "grid_column": null,
            "grid_gap": null,
            "grid_row": null,
            "grid_template_areas": null,
            "grid_template_columns": null,
            "grid_template_rows": null,
            "height": null,
            "justify_content": null,
            "justify_items": null,
            "left": null,
            "margin": null,
            "max_height": null,
            "max_width": null,
            "min_height": null,
            "min_width": null,
            "object_fit": null,
            "object_position": null,
            "order": null,
            "overflow": null,
            "overflow_x": null,
            "overflow_y": null,
            "padding": null,
            "right": null,
            "top": null,
            "visibility": null,
            "width": null
          }
        },
        "91bd9e5342344bbb8ef85b6ad974dcc4": {
          "model_module": "@jupyter-widgets/controls",
          "model_name": "ProgressStyleModel",
          "model_module_version": "1.5.0",
          "state": {
            "_model_module": "@jupyter-widgets/controls",
            "_model_module_version": "1.5.0",
            "_model_name": "ProgressStyleModel",
            "_view_count": null,
            "_view_module": "@jupyter-widgets/base",
            "_view_module_version": "1.2.0",
            "_view_name": "StyleView",
            "bar_color": null,
            "description_width": ""
          }
        },
        "d8650a34c2ef435385d54db40829defd": {
          "model_module": "@jupyter-widgets/base",
          "model_name": "LayoutModel",
          "model_module_version": "1.2.0",
          "state": {
            "_model_module": "@jupyter-widgets/base",
            "_model_module_version": "1.2.0",
            "_model_name": "LayoutModel",
            "_view_count": null,
            "_view_module": "@jupyter-widgets/base",
            "_view_module_version": "1.2.0",
            "_view_name": "LayoutView",
            "align_content": null,
            "align_items": null,
            "align_self": null,
            "border": null,
            "bottom": null,
            "display": null,
            "flex": null,
            "flex_flow": null,
            "grid_area": null,
            "grid_auto_columns": null,
            "grid_auto_flow": null,
            "grid_auto_rows": null,
            "grid_column": null,
            "grid_gap": null,
            "grid_row": null,
            "grid_template_areas": null,
            "grid_template_columns": null,
            "grid_template_rows": null,
            "height": null,
            "justify_content": null,
            "justify_items": null,
            "left": null,
            "margin": null,
            "max_height": null,
            "max_width": null,
            "min_height": null,
            "min_width": null,
            "object_fit": null,
            "object_position": null,
            "order": null,
            "overflow": null,
            "overflow_x": null,
            "overflow_y": null,
            "padding": null,
            "right": null,
            "top": null,
            "visibility": null,
            "width": null
          }
        },
        "076b9418696c4a488b5f9bd6ea83bd48": {
          "model_module": "@jupyter-widgets/controls",
          "model_name": "DescriptionStyleModel",
          "model_module_version": "1.5.0",
          "state": {
            "_model_module": "@jupyter-widgets/controls",
            "_model_module_version": "1.5.0",
            "_model_name": "DescriptionStyleModel",
            "_view_count": null,
            "_view_module": "@jupyter-widgets/base",
            "_view_module_version": "1.2.0",
            "_view_name": "StyleView",
            "description_width": ""
          }
        },
        "3670c708b9d24dc080e974f3038ad129": {
          "model_module": "@jupyter-widgets/controls",
          "model_name": "HBoxModel",
          "model_module_version": "1.5.0",
          "state": {
            "_dom_classes": [],
            "_model_module": "@jupyter-widgets/controls",
            "_model_module_version": "1.5.0",
            "_model_name": "HBoxModel",
            "_view_count": null,
            "_view_module": "@jupyter-widgets/controls",
            "_view_module_version": "1.5.0",
            "_view_name": "HBoxView",
            "box_style": "",
            "children": [
              "IPY_MODEL_ec18717f9a04437186956030a5385a73",
              "IPY_MODEL_23d82108db4440d4a52f6252d9f3ba78",
              "IPY_MODEL_1a97f9ad859046a7a43781baf7bb8a3a"
            ],
            "layout": "IPY_MODEL_ddb0fea67a4d4d6eb7bee5ccf53d3b08"
          }
        },
        "ec18717f9a04437186956030a5385a73": {
          "model_module": "@jupyter-widgets/controls",
          "model_name": "HTMLModel",
          "model_module_version": "1.5.0",
          "state": {
            "_dom_classes": [],
            "_model_module": "@jupyter-widgets/controls",
            "_model_module_version": "1.5.0",
            "_model_name": "HTMLModel",
            "_view_count": null,
            "_view_module": "@jupyter-widgets/controls",
            "_view_module_version": "1.5.0",
            "_view_name": "HTMLView",
            "description": "",
            "description_tooltip": null,
            "layout": "IPY_MODEL_ff9d3125977c4989be7a508900d3307e",
            "placeholder": "​",
            "style": "IPY_MODEL_5172e3f938b04a7db77770bd7093c604",
            "value": "100%"
          }
        },
        "23d82108db4440d4a52f6252d9f3ba78": {
          "model_module": "@jupyter-widgets/controls",
          "model_name": "FloatProgressModel",
          "model_module_version": "1.5.0",
          "state": {
            "_dom_classes": [],
            "_model_module": "@jupyter-widgets/controls",
            "_model_module_version": "1.5.0",
            "_model_name": "FloatProgressModel",
            "_view_count": null,
            "_view_module": "@jupyter-widgets/controls",
            "_view_module_version": "1.5.0",
            "_view_name": "ProgressView",
            "bar_style": "success",
            "description": "",
            "description_tooltip": null,
            "layout": "IPY_MODEL_bb324aca56e24487952ae1292864ad76",
            "max": 30,
            "min": 0,
            "orientation": "horizontal",
            "style": "IPY_MODEL_341ed6f3a7a5444989c5cfa03624ea89",
            "value": 30
          }
        },
        "1a97f9ad859046a7a43781baf7bb8a3a": {
          "model_module": "@jupyter-widgets/controls",
          "model_name": "HTMLModel",
          "model_module_version": "1.5.0",
          "state": {
            "_dom_classes": [],
            "_model_module": "@jupyter-widgets/controls",
            "_model_module_version": "1.5.0",
            "_model_name": "HTMLModel",
            "_view_count": null,
            "_view_module": "@jupyter-widgets/controls",
            "_view_module_version": "1.5.0",
            "_view_name": "HTMLView",
            "description": "",
            "description_tooltip": null,
            "layout": "IPY_MODEL_f0ed7758f3f64fd78e5580a6f95b4356",
            "placeholder": "​",
            "style": "IPY_MODEL_2d36825e09a340ad92a4530e7e131cd8",
            "value": " 30/30 [27:54&lt;00:00, 53.26s/it]"
          }
        },
        "ddb0fea67a4d4d6eb7bee5ccf53d3b08": {
          "model_module": "@jupyter-widgets/base",
          "model_name": "LayoutModel",
          "model_module_version": "1.2.0",
          "state": {
            "_model_module": "@jupyter-widgets/base",
            "_model_module_version": "1.2.0",
            "_model_name": "LayoutModel",
            "_view_count": null,
            "_view_module": "@jupyter-widgets/base",
            "_view_module_version": "1.2.0",
            "_view_name": "LayoutView",
            "align_content": null,
            "align_items": null,
            "align_self": null,
            "border": null,
            "bottom": null,
            "display": null,
            "flex": null,
            "flex_flow": null,
            "grid_area": null,
            "grid_auto_columns": null,
            "grid_auto_flow": null,
            "grid_auto_rows": null,
            "grid_column": null,
            "grid_gap": null,
            "grid_row": null,
            "grid_template_areas": null,
            "grid_template_columns": null,
            "grid_template_rows": null,
            "height": null,
            "justify_content": null,
            "justify_items": null,
            "left": null,
            "margin": null,
            "max_height": null,
            "max_width": null,
            "min_height": null,
            "min_width": null,
            "object_fit": null,
            "object_position": null,
            "order": null,
            "overflow": null,
            "overflow_x": null,
            "overflow_y": null,
            "padding": null,
            "right": null,
            "top": null,
            "visibility": null,
            "width": null
          }
        },
        "ff9d3125977c4989be7a508900d3307e": {
          "model_module": "@jupyter-widgets/base",
          "model_name": "LayoutModel",
          "model_module_version": "1.2.0",
          "state": {
            "_model_module": "@jupyter-widgets/base",
            "_model_module_version": "1.2.0",
            "_model_name": "LayoutModel",
            "_view_count": null,
            "_view_module": "@jupyter-widgets/base",
            "_view_module_version": "1.2.0",
            "_view_name": "LayoutView",
            "align_content": null,
            "align_items": null,
            "align_self": null,
            "border": null,
            "bottom": null,
            "display": null,
            "flex": null,
            "flex_flow": null,
            "grid_area": null,
            "grid_auto_columns": null,
            "grid_auto_flow": null,
            "grid_auto_rows": null,
            "grid_column": null,
            "grid_gap": null,
            "grid_row": null,
            "grid_template_areas": null,
            "grid_template_columns": null,
            "grid_template_rows": null,
            "height": null,
            "justify_content": null,
            "justify_items": null,
            "left": null,
            "margin": null,
            "max_height": null,
            "max_width": null,
            "min_height": null,
            "min_width": null,
            "object_fit": null,
            "object_position": null,
            "order": null,
            "overflow": null,
            "overflow_x": null,
            "overflow_y": null,
            "padding": null,
            "right": null,
            "top": null,
            "visibility": null,
            "width": null
          }
        },
        "5172e3f938b04a7db77770bd7093c604": {
          "model_module": "@jupyter-widgets/controls",
          "model_name": "DescriptionStyleModel",
          "model_module_version": "1.5.0",
          "state": {
            "_model_module": "@jupyter-widgets/controls",
            "_model_module_version": "1.5.0",
            "_model_name": "DescriptionStyleModel",
            "_view_count": null,
            "_view_module": "@jupyter-widgets/base",
            "_view_module_version": "1.2.0",
            "_view_name": "StyleView",
            "description_width": ""
          }
        },
        "bb324aca56e24487952ae1292864ad76": {
          "model_module": "@jupyter-widgets/base",
          "model_name": "LayoutModel",
          "model_module_version": "1.2.0",
          "state": {
            "_model_module": "@jupyter-widgets/base",
            "_model_module_version": "1.2.0",
            "_model_name": "LayoutModel",
            "_view_count": null,
            "_view_module": "@jupyter-widgets/base",
            "_view_module_version": "1.2.0",
            "_view_name": "LayoutView",
            "align_content": null,
            "align_items": null,
            "align_self": null,
            "border": null,
            "bottom": null,
            "display": null,
            "flex": null,
            "flex_flow": null,
            "grid_area": null,
            "grid_auto_columns": null,
            "grid_auto_flow": null,
            "grid_auto_rows": null,
            "grid_column": null,
            "grid_gap": null,
            "grid_row": null,
            "grid_template_areas": null,
            "grid_template_columns": null,
            "grid_template_rows": null,
            "height": null,
            "justify_content": null,
            "justify_items": null,
            "left": null,
            "margin": null,
            "max_height": null,
            "max_width": null,
            "min_height": null,
            "min_width": null,
            "object_fit": null,
            "object_position": null,
            "order": null,
            "overflow": null,
            "overflow_x": null,
            "overflow_y": null,
            "padding": null,
            "right": null,
            "top": null,
            "visibility": null,
            "width": null
          }
        },
        "341ed6f3a7a5444989c5cfa03624ea89": {
          "model_module": "@jupyter-widgets/controls",
          "model_name": "ProgressStyleModel",
          "model_module_version": "1.5.0",
          "state": {
            "_model_module": "@jupyter-widgets/controls",
            "_model_module_version": "1.5.0",
            "_model_name": "ProgressStyleModel",
            "_view_count": null,
            "_view_module": "@jupyter-widgets/base",
            "_view_module_version": "1.2.0",
            "_view_name": "StyleView",
            "bar_color": null,
            "description_width": ""
          }
        },
        "f0ed7758f3f64fd78e5580a6f95b4356": {
          "model_module": "@jupyter-widgets/base",
          "model_name": "LayoutModel",
          "model_module_version": "1.2.0",
          "state": {
            "_model_module": "@jupyter-widgets/base",
            "_model_module_version": "1.2.0",
            "_model_name": "LayoutModel",
            "_view_count": null,
            "_view_module": "@jupyter-widgets/base",
            "_view_module_version": "1.2.0",
            "_view_name": "LayoutView",
            "align_content": null,
            "align_items": null,
            "align_self": null,
            "border": null,
            "bottom": null,
            "display": null,
            "flex": null,
            "flex_flow": null,
            "grid_area": null,
            "grid_auto_columns": null,
            "grid_auto_flow": null,
            "grid_auto_rows": null,
            "grid_column": null,
            "grid_gap": null,
            "grid_row": null,
            "grid_template_areas": null,
            "grid_template_columns": null,
            "grid_template_rows": null,
            "height": null,
            "justify_content": null,
            "justify_items": null,
            "left": null,
            "margin": null,
            "max_height": null,
            "max_width": null,
            "min_height": null,
            "min_width": null,
            "object_fit": null,
            "object_position": null,
            "order": null,
            "overflow": null,
            "overflow_x": null,
            "overflow_y": null,
            "padding": null,
            "right": null,
            "top": null,
            "visibility": null,
            "width": null
          }
        },
        "2d36825e09a340ad92a4530e7e131cd8": {
          "model_module": "@jupyter-widgets/controls",
          "model_name": "DescriptionStyleModel",
          "model_module_version": "1.5.0",
          "state": {
            "_model_module": "@jupyter-widgets/controls",
            "_model_module_version": "1.5.0",
            "_model_name": "DescriptionStyleModel",
            "_view_count": null,
            "_view_module": "@jupyter-widgets/base",
            "_view_module_version": "1.2.0",
            "_view_name": "StyleView",
            "description_width": ""
          }
        }
      }
    }
  },
  "nbformat": 4,
  "nbformat_minor": 0
}