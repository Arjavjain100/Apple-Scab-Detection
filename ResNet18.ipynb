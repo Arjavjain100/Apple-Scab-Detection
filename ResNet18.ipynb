{
  "cells": [
    {
      "cell_type": "markdown",
      "metadata": {
        "id": "view-in-github",
        "colab_type": "text"
      },
      "source": [
        "<a href=\"https://colab.research.google.com/github/Arjavjain100/Apple-Scab-Detection/blob/main/ResNet18.ipynb\" target=\"_parent\"><img src=\"https://colab.research.google.com/assets/colab-badge.svg\" alt=\"Open In Colab\"/></a>"
      ]
    },
    {
      "cell_type": "code",
      "execution_count": 1,
      "metadata": {
        "colab": {
          "base_uri": "https://localhost:8080/"
        },
        "id": "IgS9hK859Ts5",
        "outputId": "78c24f58-a4b4-4937-8428-44a9971de089"
      },
      "outputs": [
        {
          "output_type": "stream",
          "name": "stdout",
          "text": [
            "Looking in indexes: https://pypi.org/simple, https://us-python.pkg.dev/colab-wheels/public/simple/\n",
            "Collecting torchinfo\n",
            "  Downloading torchinfo-1.7.1-py3-none-any.whl (22 kB)\n",
            "Installing collected packages: torchinfo\n",
            "Successfully installed torchinfo-1.7.1\n"
          ]
        }
      ],
      "source": [
        "!pip install torchinfo"
      ]
    },
    {
      "cell_type": "code",
      "execution_count": 2,
      "metadata": {
        "colab": {
          "base_uri": "https://localhost:8080/"
        },
        "id": "zycdm4nqBonf",
        "outputId": "92ac84c6-596a-4468-b6a2-f27255692c62"
      },
      "outputs": [
        {
          "output_type": "stream",
          "name": "stdout",
          "text": [
            "Cloning into 'Apple-Scab-Detection'...\n",
            "remote: Enumerating objects: 573, done.\u001b[K\n",
            "remote: Counting objects: 100% (63/63), done.\u001b[K\n",
            "remote: Compressing objects: 100% (40/40), done.\u001b[K\n",
            "remote: Total 573 (delta 27), reused 48 (delta 21), pack-reused 510\u001b[K\n",
            "Receiving objects: 100% (573/573), 1.17 GiB | 30.82 MiB/s, done.\n",
            "Resolving deltas: 100% (30/30), done.\n",
            "Checking out files: 100% (1032/1032), done.\n"
          ]
        }
      ],
      "source": [
        "!git clone \"https://github.com/Arjavjain100/Apple-Scab-Detection.git\""
      ]
    },
    {
      "cell_type": "code",
      "execution_count": 3,
      "metadata": {
        "id": "gIcgjnzepVAT"
      },
      "outputs": [],
      "source": [
        "# Importing required libraries\n",
        "import torch\n",
        "import torch.nn as nn\n",
        "import torch.nn.functional as F\n",
        "import torch.optim as opt\n",
        "from torchvision import datasets, transforms, models\n",
        "from tqdm.auto import tqdm\n",
        "from torchinfo import summary\n",
        "import matplotlib.pyplot as plt"
      ]
    },
    {
      "cell_type": "code",
      "execution_count": 4,
      "metadata": {
        "id": "0p2IgYKz9rjc"
      },
      "outputs": [],
      "source": [
        "torch.manual_seed(42) \n",
        "torch.cuda.manual_seed(42)"
      ]
    },
    {
      "cell_type": "code",
      "execution_count": 5,
      "metadata": {
        "id": "yB7nF4vn46SP"
      },
      "outputs": [],
      "source": [
        "def train_step(model: torch.nn.Module, \n",
        "               dataloader: torch.utils.data.DataLoader, \n",
        "               loss_fn: torch.nn.Module, \n",
        "               optimizer: torch.optim.Optimizer):\n",
        "    # Put model in train mode\n",
        "    model.train()\n",
        "    \n",
        "    # Setup train loss and train accuracy values\n",
        "    train_loss, train_acc = 0, 0\n",
        "    \n",
        "    # Loop through data loader data batches\n",
        "    for batch, (X, y) in enumerate(dataloader):\n",
        "        # Send data to target device\n",
        "        X, y = X.to(device), y.to(device)\n",
        "\n",
        "        # 1. Forward pass\n",
        "        y_pred = model(X)\n",
        "\n",
        "        # 2. Calculate  and accumulate loss\n",
        "        loss = loss_fn(y_pred, y)\n",
        "        train_loss += loss.item() \n",
        "\n",
        "        # 3. Optimizer zero grad\n",
        "        optimizer.zero_grad()\n",
        "\n",
        "        # 4. Loss backward\n",
        "        loss.backward()\n",
        "\n",
        "        # 5. Optimizer step\n",
        "        optimizer.step()\n",
        "\n",
        "        # Calculate and accumulate accuracy metric across all batches\n",
        "        y_pred_class = torch.argmax(torch.softmax(y_pred, dim=1), dim=1)\n",
        "        train_acc += (y_pred_class == y).sum().item()/len(y_pred)\n",
        "\n",
        "    # Adjust metrics to get average loss and accuracy per batch \n",
        "    train_loss = train_loss / len(dataloader)\n",
        "    train_acc = train_acc / len(dataloader)\n",
        "    return train_loss, train_acc"
      ]
    },
    {
      "cell_type": "code",
      "execution_count": 6,
      "metadata": {
        "id": "xRvo7Tx446ly"
      },
      "outputs": [],
      "source": [
        "def test_step(model: torch.nn.Module, \n",
        "              dataloader: torch.utils.data.DataLoader, \n",
        "              loss_fn: torch.nn.Module):\n",
        "    # Put model in eval mode\n",
        "    model.eval() \n",
        "    \n",
        "    # Setup test loss and test accuracy values\n",
        "    test_loss, test_acc = 0, 0\n",
        "    \n",
        "    # Turn on inference context manager\n",
        "    with torch.inference_mode():\n",
        "        # Loop through DataLoader batches\n",
        "        for batch, (X, y) in enumerate(dataloader):\n",
        "            # Send data to target device\n",
        "            X, y = X.to(device), y.to(device)\n",
        "    \n",
        "            # 1. Forward pass\n",
        "            test_pred_logits = model(X)\n",
        "\n",
        "            # 2. Calculate and accumulate loss\n",
        "            loss = loss_fn(test_pred_logits, y)\n",
        "            test_loss += loss.item()\n",
        "            \n",
        "            # Calculate and accumulate accuracy\n",
        "            test_pred_labels = test_pred_logits.argmax(dim=1)\n",
        "            test_acc += ((test_pred_labels == y).sum().item()/len(test_pred_labels))\n",
        "            \n",
        "    # Adjust metrics to get average loss and accuracy per batch \n",
        "    test_loss = test_loss / len(dataloader)\n",
        "    test_acc = test_acc / len(dataloader)\n",
        "    return test_loss, test_acc"
      ]
    },
    {
      "cell_type": "code",
      "execution_count": 7,
      "metadata": {
        "id": "QjMO-hdH462K"
      },
      "outputs": [],
      "source": [
        "\n",
        "# 1. Take in various parameters required for training and test steps\n",
        "def train(model: torch.nn.Module, \n",
        "          train_dataloader: torch.utils.data.DataLoader, \n",
        "          test_dataloader: torch.utils.data.DataLoader, \n",
        "          optimizer: torch.optim.Optimizer,\n",
        "          loss_fn: torch.nn.Module = nn.CrossEntropyLoss(),\n",
        "          epochs: int = 5):\n",
        "    \n",
        "    # 2. Create empty results dictionary\n",
        "    results = {\"train_loss\": [],\n",
        "        \"train_acc\": [],\n",
        "        \"test_loss\": [],\n",
        "        \"test_acc\": []\n",
        "    }\n",
        "    \n",
        "    # 3. Loop through training and testing steps for a number of epochs\n",
        "    for epoch in tqdm(range(epochs)):\n",
        "        train_loss, train_acc = train_step(model=model,\n",
        "                                           dataloader=train_dataloader,\n",
        "                                           loss_fn=loss_fn,\n",
        "                                           optimizer=optimizer)\n",
        "        test_loss, test_acc = test_step(model=model,\n",
        "            dataloader=test_dataloader,\n",
        "            loss_fn=loss_fn)\n",
        "        \n",
        "        # 4. Print out what's happening\n",
        "        print(\n",
        "            f\"Epoch: {epoch+1} | \"\n",
        "            f\"train_loss: {train_loss:.4f} | \"\n",
        "            f\"train_acc: {train_acc:.4f} | \"\n",
        "            f\"test_loss: {test_loss:.4f} | \"\n",
        "            f\"test_acc: {test_acc:.4f}\"\n",
        "        )\n",
        "\n",
        "        # 5. Update results dictionary\n",
        "        results[\"train_loss\"].append(train_loss)\n",
        "        results[\"train_acc\"].append(train_acc)\n",
        "        results[\"test_loss\"].append(test_loss)\n",
        "        results[\"test_acc\"].append(test_acc)\n",
        "\n",
        "    # 6. Return the filled results at the end of the epochs\n",
        "    return results"
      ]
    },
    {
      "cell_type": "code",
      "execution_count": 8,
      "metadata": {
        "id": "sSQviNWr9yWu"
      },
      "outputs": [],
      "source": [
        "def plot_loss_curves(results):\n",
        "    \"\"\"Plots training curves of a results dictionary.\n",
        "\n",
        "    Args:\n",
        "        results (dict): dictionary containing list of values, e.g.\n",
        "            {\"train_loss\": [...],\n",
        "             \"train_acc\": [...],\n",
        "             \"test_loss\": [...],\n",
        "             \"test_acc\": [...]}\n",
        "    \"\"\"\n",
        "    \n",
        "    # Get the loss values of the results dictionary (training and test)\n",
        "    loss = results['train_loss']\n",
        "    test_loss = results['test_loss']\n",
        "\n",
        "    # Get the accuracy values of the results dictionary (training and test)\n",
        "    accuracy = results['train_acc']\n",
        "    test_accuracy = results['test_acc']\n",
        "\n",
        "    # Figure out how many epochs there were\n",
        "    epochs = range(len(results['train_loss']))\n",
        "\n",
        "    # Setup a plot \n",
        "    plt.figure(figsize=(15, 7))\n",
        "\n",
        "    # Plot loss\n",
        "    plt.subplot(1, 2, 1)\n",
        "    plt.plot(epochs, loss, label='train_loss')\n",
        "    plt.plot(epochs, test_loss, label='test_loss')\n",
        "    plt.title('Loss')\n",
        "    plt.xlabel('Epochs')\n",
        "    plt.legend()\n",
        "\n",
        "    # Plot accuracy\n",
        "    plt.subplot(1, 2, 2)\n",
        "    plt.plot(epochs, accuracy, label='train_accuracy')\n",
        "    plt.plot(epochs, test_accuracy, label='test_accuracy')\n",
        "    plt.title('Accuracy')\n",
        "    plt.xlabel('Epochs')\n",
        "    plt.legend();"
      ]
    },
    {
      "cell_type": "code",
      "source": [
        "auto_transforms = models.ResNet18_Weights.IMAGENET1K_V1.transforms()\n",
        "auto_transforms"
      ],
      "metadata": {
        "colab": {
          "base_uri": "https://localhost:8080/"
        },
        "id": "-wgcndaQoTii",
        "outputId": "c7cb9436-6f12-4083-cf25-3a29c1087840"
      },
      "execution_count": 9,
      "outputs": [
        {
          "output_type": "execute_result",
          "data": {
            "text/plain": [
              "ImageClassification(\n",
              "    crop_size=[224]\n",
              "    resize_size=[256]\n",
              "    mean=[0.485, 0.456, 0.406]\n",
              "    std=[0.229, 0.224, 0.225]\n",
              "    interpolation=InterpolationMode.BILINEAR\n",
              ")"
            ]
          },
          "metadata": {},
          "execution_count": 9
        }
      ]
    },
    {
      "cell_type": "code",
      "execution_count": 23,
      "metadata": {
        "id": "0DjtQKqcCB2H"
      },
      "outputs": [],
      "source": [
        "batch_size = 64\n",
        "# Change Tranforms accordong to the model\n",
        "transform = {\n",
        "    'train': transforms.Compose([\n",
        "        transforms.ToTensor(),\n",
        "        transforms.Resize((256, 256)),\n",
        "        transforms.Normalize(mean=[0.485, 0.456, 0.406],\n",
        "                             std=[0.229, 0.224, 0.225])]),\n",
        "    'test': transforms.Compose([\n",
        "        transforms.ToTensor(),\n",
        "        transforms.Resize((256, 256)),\n",
        "        transforms.Normalize(mean=[0.485, 0.456, 0.406],\n",
        "                             std=[0.229, 0.224, 0.225])])\n",
        "}\n",
        "test_data = datasets.ImageFolder('/content/Apple-Scab-Detection/Augmented Dataset/Test', transform = transform[\"train\"])\n",
        "train_data = datasets.ImageFolder('/content/Apple-Scab-Detection/Augmented Dataset/Test',  transform = transform[\"test\"])\n",
        "train_loader = torch.utils.data.DataLoader(\n",
        "    train_data, shuffle=True, batch_size=batch_size)\n",
        "test_loader = torch.utils.data.DataLoader(\n",
        "    test_data, shuffle=True, batch_size=batch_size)"
      ]
    },
    {
      "cell_type": "code",
      "execution_count": 28,
      "metadata": {
        "id": "ywOkNd3bwBdp"
      },
      "outputs": [],
      "source": [
        "device = torch.device('cuda' if torch.cuda.is_available() else 'cpu')\n",
        "\n",
        "# Change model\n",
        "model = models.resnet18(models.ResNet18_Weights.IMAGENET1K_V1)\n",
        "\n",
        "#Freeze all base layers in the \"features\" section of the model (the feature extractor) by setting requires_grad=False\n",
        "for param in model.parameters():\n",
        "    param.requires_grad = False\n",
        "\n",
        "model.fc = nn.Sequential(\n",
        "    nn.BatchNorm1d(512),    \n",
        "    nn.Linear(512, 256),\n",
        "    nn.ReLU(),\n",
        "    nn.BatchNorm1d(256),\n",
        "    nn.Linear(256, 128),\n",
        "    nn.ReLU(),\n",
        "    nn.BatchNorm1d(128),\n",
        "    nn.Dropout(0.5),\n",
        "    nn.Linear(128, 2),\n",
        "    ).to(device)"
      ]
    },
    {
      "cell_type": "code",
      "execution_count": 29,
      "metadata": {
        "colab": {
          "base_uri": "https://localhost:8080/"
        },
        "id": "jzBnmJov_HnC",
        "outputId": "31e5aa44-8415-4bc4-c85c-363e866a3919"
      },
      "outputs": [
        {
          "output_type": "execute_result",
          "data": {
            "text/plain": [
              "========================================================================================================================\n",
              "Layer (type (var_name))                  Input Shape          Output Shape         Param #              Trainable\n",
              "========================================================================================================================\n",
              "ResNet (ResNet)                          [64, 3, 224, 224]    [64, 2]              --                   Partial\n",
              "├─Conv2d (conv1)                         [64, 3, 224, 224]    [64, 64, 112, 112]   (9,408)              False\n",
              "├─BatchNorm2d (bn1)                      [64, 64, 112, 112]   [64, 64, 112, 112]   (128)                False\n",
              "├─ReLU (relu)                            [64, 64, 112, 112]   [64, 64, 112, 112]   --                   --\n",
              "├─MaxPool2d (maxpool)                    [64, 64, 112, 112]   [64, 64, 56, 56]     --                   --\n",
              "├─Sequential (layer1)                    [64, 64, 56, 56]     [64, 64, 56, 56]     --                   False\n",
              "│    └─BasicBlock (0)                    [64, 64, 56, 56]     [64, 64, 56, 56]     --                   False\n",
              "│    │    └─Conv2d (conv1)               [64, 64, 56, 56]     [64, 64, 56, 56]     (36,864)             False\n",
              "│    │    └─BatchNorm2d (bn1)            [64, 64, 56, 56]     [64, 64, 56, 56]     (128)                False\n",
              "│    │    └─ReLU (relu)                  [64, 64, 56, 56]     [64, 64, 56, 56]     --                   --\n",
              "│    │    └─Conv2d (conv2)               [64, 64, 56, 56]     [64, 64, 56, 56]     (36,864)             False\n",
              "│    │    └─BatchNorm2d (bn2)            [64, 64, 56, 56]     [64, 64, 56, 56]     (128)                False\n",
              "│    │    └─ReLU (relu)                  [64, 64, 56, 56]     [64, 64, 56, 56]     --                   --\n",
              "│    └─BasicBlock (1)                    [64, 64, 56, 56]     [64, 64, 56, 56]     --                   False\n",
              "│    │    └─Conv2d (conv1)               [64, 64, 56, 56]     [64, 64, 56, 56]     (36,864)             False\n",
              "│    │    └─BatchNorm2d (bn1)            [64, 64, 56, 56]     [64, 64, 56, 56]     (128)                False\n",
              "│    │    └─ReLU (relu)                  [64, 64, 56, 56]     [64, 64, 56, 56]     --                   --\n",
              "│    │    └─Conv2d (conv2)               [64, 64, 56, 56]     [64, 64, 56, 56]     (36,864)             False\n",
              "│    │    └─BatchNorm2d (bn2)            [64, 64, 56, 56]     [64, 64, 56, 56]     (128)                False\n",
              "│    │    └─ReLU (relu)                  [64, 64, 56, 56]     [64, 64, 56, 56]     --                   --\n",
              "├─Sequential (layer2)                    [64, 64, 56, 56]     [64, 128, 28, 28]    --                   False\n",
              "│    └─BasicBlock (0)                    [64, 64, 56, 56]     [64, 128, 28, 28]    --                   False\n",
              "│    │    └─Conv2d (conv1)               [64, 64, 56, 56]     [64, 128, 28, 28]    (73,728)             False\n",
              "│    │    └─BatchNorm2d (bn1)            [64, 128, 28, 28]    [64, 128, 28, 28]    (256)                False\n",
              "│    │    └─ReLU (relu)                  [64, 128, 28, 28]    [64, 128, 28, 28]    --                   --\n",
              "│    │    └─Conv2d (conv2)               [64, 128, 28, 28]    [64, 128, 28, 28]    (147,456)            False\n",
              "│    │    └─BatchNorm2d (bn2)            [64, 128, 28, 28]    [64, 128, 28, 28]    (256)                False\n",
              "│    │    └─Sequential (downsample)      [64, 64, 56, 56]     [64, 128, 28, 28]    (8,448)              False\n",
              "│    │    └─ReLU (relu)                  [64, 128, 28, 28]    [64, 128, 28, 28]    --                   --\n",
              "│    └─BasicBlock (1)                    [64, 128, 28, 28]    [64, 128, 28, 28]    --                   False\n",
              "│    │    └─Conv2d (conv1)               [64, 128, 28, 28]    [64, 128, 28, 28]    (147,456)            False\n",
              "│    │    └─BatchNorm2d (bn1)            [64, 128, 28, 28]    [64, 128, 28, 28]    (256)                False\n",
              "│    │    └─ReLU (relu)                  [64, 128, 28, 28]    [64, 128, 28, 28]    --                   --\n",
              "│    │    └─Conv2d (conv2)               [64, 128, 28, 28]    [64, 128, 28, 28]    (147,456)            False\n",
              "│    │    └─BatchNorm2d (bn2)            [64, 128, 28, 28]    [64, 128, 28, 28]    (256)                False\n",
              "│    │    └─ReLU (relu)                  [64, 128, 28, 28]    [64, 128, 28, 28]    --                   --\n",
              "├─Sequential (layer3)                    [64, 128, 28, 28]    [64, 256, 14, 14]    --                   False\n",
              "│    └─BasicBlock (0)                    [64, 128, 28, 28]    [64, 256, 14, 14]    --                   False\n",
              "│    │    └─Conv2d (conv1)               [64, 128, 28, 28]    [64, 256, 14, 14]    (294,912)            False\n",
              "│    │    └─BatchNorm2d (bn1)            [64, 256, 14, 14]    [64, 256, 14, 14]    (512)                False\n",
              "│    │    └─ReLU (relu)                  [64, 256, 14, 14]    [64, 256, 14, 14]    --                   --\n",
              "│    │    └─Conv2d (conv2)               [64, 256, 14, 14]    [64, 256, 14, 14]    (589,824)            False\n",
              "│    │    └─BatchNorm2d (bn2)            [64, 256, 14, 14]    [64, 256, 14, 14]    (512)                False\n",
              "│    │    └─Sequential (downsample)      [64, 128, 28, 28]    [64, 256, 14, 14]    (33,280)             False\n",
              "│    │    └─ReLU (relu)                  [64, 256, 14, 14]    [64, 256, 14, 14]    --                   --\n",
              "│    └─BasicBlock (1)                    [64, 256, 14, 14]    [64, 256, 14, 14]    --                   False\n",
              "│    │    └─Conv2d (conv1)               [64, 256, 14, 14]    [64, 256, 14, 14]    (589,824)            False\n",
              "│    │    └─BatchNorm2d (bn1)            [64, 256, 14, 14]    [64, 256, 14, 14]    (512)                False\n",
              "│    │    └─ReLU (relu)                  [64, 256, 14, 14]    [64, 256, 14, 14]    --                   --\n",
              "│    │    └─Conv2d (conv2)               [64, 256, 14, 14]    [64, 256, 14, 14]    (589,824)            False\n",
              "│    │    └─BatchNorm2d (bn2)            [64, 256, 14, 14]    [64, 256, 14, 14]    (512)                False\n",
              "│    │    └─ReLU (relu)                  [64, 256, 14, 14]    [64, 256, 14, 14]    --                   --\n",
              "├─Sequential (layer4)                    [64, 256, 14, 14]    [64, 512, 7, 7]      --                   False\n",
              "│    └─BasicBlock (0)                    [64, 256, 14, 14]    [64, 512, 7, 7]      --                   False\n",
              "│    │    └─Conv2d (conv1)               [64, 256, 14, 14]    [64, 512, 7, 7]      (1,179,648)          False\n",
              "│    │    └─BatchNorm2d (bn1)            [64, 512, 7, 7]      [64, 512, 7, 7]      (1,024)              False\n",
              "│    │    └─ReLU (relu)                  [64, 512, 7, 7]      [64, 512, 7, 7]      --                   --\n",
              "│    │    └─Conv2d (conv2)               [64, 512, 7, 7]      [64, 512, 7, 7]      (2,359,296)          False\n",
              "│    │    └─BatchNorm2d (bn2)            [64, 512, 7, 7]      [64, 512, 7, 7]      (1,024)              False\n",
              "│    │    └─Sequential (downsample)      [64, 256, 14, 14]    [64, 512, 7, 7]      (132,096)            False\n",
              "│    │    └─ReLU (relu)                  [64, 512, 7, 7]      [64, 512, 7, 7]      --                   --\n",
              "│    └─BasicBlock (1)                    [64, 512, 7, 7]      [64, 512, 7, 7]      --                   False\n",
              "│    │    └─Conv2d (conv1)               [64, 512, 7, 7]      [64, 512, 7, 7]      (2,359,296)          False\n",
              "│    │    └─BatchNorm2d (bn1)            [64, 512, 7, 7]      [64, 512, 7, 7]      (1,024)              False\n",
              "│    │    └─ReLU (relu)                  [64, 512, 7, 7]      [64, 512, 7, 7]      --                   --\n",
              "│    │    └─Conv2d (conv2)               [64, 512, 7, 7]      [64, 512, 7, 7]      (2,359,296)          False\n",
              "│    │    └─BatchNorm2d (bn2)            [64, 512, 7, 7]      [64, 512, 7, 7]      (1,024)              False\n",
              "│    │    └─ReLU (relu)                  [64, 512, 7, 7]      [64, 512, 7, 7]      --                   --\n",
              "├─AdaptiveAvgPool2d (avgpool)            [64, 512, 7, 7]      [64, 512, 1, 1]      --                   --\n",
              "├─Sequential (fc)                        [64, 512]            [64, 2]              --                   True\n",
              "│    └─BatchNorm1d (0)                   [64, 512]            [64, 512]            1,024                True\n",
              "│    └─Linear (1)                        [64, 512]            [64, 256]            131,328              True\n",
              "│    └─ReLU (2)                          [64, 256]            [64, 256]            --                   --\n",
              "│    └─BatchNorm1d (3)                   [64, 256]            [64, 256]            512                  True\n",
              "│    └─Linear (4)                        [64, 256]            [64, 128]            32,896               True\n",
              "│    └─ReLU (5)                          [64, 128]            [64, 128]            --                   --\n",
              "│    └─BatchNorm1d (6)                   [64, 128]            [64, 128]            256                  True\n",
              "│    └─Dropout (7)                       [64, 128]            [64, 128]            --                   --\n",
              "│    └─Linear (8)                        [64, 128]            [64, 2]              258                  True\n",
              "========================================================================================================================\n",
              "Total params: 11,342,786\n",
              "Trainable params: 166,274\n",
              "Non-trainable params: 11,176,512\n",
              "Total mult-adds (G): 116.08\n",
              "========================================================================================================================\n",
              "Input size (MB): 38.54\n",
              "Forward/backward pass size (MB): 2543.98\n",
              "Params size (MB): 45.37\n",
              "Estimated Total Size (MB): 2627.88\n",
              "========================================================================================================================"
            ]
          },
          "metadata": {},
          "execution_count": 29
        }
      ],
      "source": [
        "summary(model=model, \n",
        "        input_size=(batch_size, 3, 224, 224), # make sure this is \"input_size\", not \"input_shape\"\n",
        "        col_names=[\"input_size\", \"output_size\", \"num_params\", \"trainable\"],\n",
        "        col_width=20,\n",
        "        row_settings=[\"var_names\"]\n",
        ")"
      ]
    },
    {
      "cell_type": "code",
      "execution_count": 30,
      "metadata": {
        "colab": {
          "base_uri": "https://localhost:8080/",
          "height": 576,
          "referenced_widgets": [
            "802fc2bb50b945fdb9e3c4ac69d5fb97",
            "2f90666e285948a79474e18f59c0b504",
            "a0cbef481e3c45c994a5ac40eb7e506e",
            "3e48d12637da41738a6821724dedb648",
            "7eaa4d7eb4e1405a823a0fd26d9d3ae6",
            "6a552621a8c9470d8b99dde84a91828d",
            "6feb6521ca494e59aad6bd5f765c7a97",
            "23e43ff57fc24cc7bf8f8ee7e7302c8b",
            "cd9c19d8735e4b248e01ef3af3cb4daf",
            "ed0c24c5ac984553a8ddd9d7208a6917",
            "3ef2bd0386014a1584914d2d8ae79efa"
          ]
        },
        "id": "-7YY7h2LCdyy",
        "outputId": "db2c9f73-4558-4773-de70-5971e21ced86"
      },
      "outputs": [
        {
          "data": {
            "application/vnd.jupyter.widget-view+json": {
              "model_id": "802fc2bb50b945fdb9e3c4ac69d5fb97",
              "version_major": 2,
              "version_minor": 0
            },
            "text/plain": [
              "  0%|          | 0/30 [00:00<?, ?it/s]"
            ]
          },
          "metadata": {},
          "output_type": "display_data"
        },
        {
          "output_type": "stream",
          "name": "stdout",
          "text": [
            "Epoch: 1 | train_loss: 0.8297 | train_acc: 0.5012 | test_loss: 0.7373 | test_acc: 0.2843\n",
            "Epoch: 2 | train_loss: 0.8480 | train_acc: 0.5076 | test_loss: 0.7308 | test_acc: 0.2843\n",
            "Epoch: 3 | train_loss: 0.8240 | train_acc: 0.5613 | test_loss: 0.7200 | test_acc: 0.3156\n",
            "Epoch: 4 | train_loss: 0.7089 | train_acc: 0.5843 | test_loss: 0.7124 | test_acc: 0.3932\n",
            "Epoch: 5 | train_loss: 0.7183 | train_acc: 0.5549 | test_loss: 0.6958 | test_acc: 0.4699\n",
            "Epoch: 6 | train_loss: 0.5576 | train_acc: 0.6844 | test_loss: 0.6652 | test_acc: 0.6307\n",
            "Epoch: 7 | train_loss: 0.5761 | train_acc: 0.6697 | test_loss: 0.6345 | test_acc: 0.7304\n",
            "Epoch: 8 | train_loss: 0.4506 | train_acc: 0.8153 | test_loss: 0.5934 | test_acc: 0.8007\n",
            "Epoch: 9 | train_loss: 0.4603 | train_acc: 0.7763 | test_loss: 0.5504 | test_acc: 0.8617\n",
            "Epoch: 10 | train_loss: 0.3767 | train_acc: 0.8920 | test_loss: 0.5023 | test_acc: 0.9160\n",
            "Epoch: 11 | train_loss: 0.4088 | train_acc: 0.8314 | test_loss: 0.4453 | test_acc: 0.9614\n",
            "Epoch: 12 | train_loss: 0.3090 | train_acc: 0.9306 | test_loss: 0.4031 | test_acc: 0.9688\n",
            "Epoch: 13 | train_loss: 0.3388 | train_acc: 0.8764 | test_loss: 0.3643 | test_acc: 0.9922\n",
            "Epoch: 14 | train_loss: 0.3015 | train_acc: 0.9081 | test_loss: 0.3251 | test_acc: 0.9848\n",
            "Epoch: 15 | train_loss: 0.3169 | train_acc: 0.8622 | test_loss: 0.2952 | test_acc: 0.9848\n",
            "Epoch: 16 | train_loss: 0.2768 | train_acc: 0.9306 | test_loss: 0.2635 | test_acc: 0.9922\n",
            "Epoch: 17 | train_loss: 0.2782 | train_acc: 0.9380 | test_loss: 0.2290 | test_acc: 1.0000\n",
            "Epoch: 18 | train_loss: 0.2579 | train_acc: 0.9384 | test_loss: 0.2082 | test_acc: 1.0000\n",
            "Epoch: 19 | train_loss: 0.2464 | train_acc: 0.9306 | test_loss: 0.1924 | test_acc: 1.0000\n",
            "Epoch: 20 | train_loss: 0.2255 | train_acc: 0.9541 | test_loss: 0.1708 | test_acc: 1.0000\n",
            "Epoch: 21 | train_loss: 0.2544 | train_acc: 0.9545 | test_loss: 0.1654 | test_acc: 1.0000\n",
            "Epoch: 22 | train_loss: 0.2152 | train_acc: 0.9619 | test_loss: 0.1499 | test_acc: 1.0000\n",
            "Epoch: 23 | train_loss: 0.2008 | train_acc: 0.9609 | test_loss: 0.1409 | test_acc: 1.0000\n",
            "Epoch: 24 | train_loss: 0.2496 | train_acc: 0.9086 | test_loss: 0.1362 | test_acc: 1.0000\n",
            "Epoch: 25 | train_loss: 0.1883 | train_acc: 0.9692 | test_loss: 0.1255 | test_acc: 1.0000\n",
            "Epoch: 26 | train_loss: 0.1379 | train_acc: 0.9848 | test_loss: 0.1121 | test_acc: 1.0000\n",
            "Epoch: 27 | train_loss: 0.1485 | train_acc: 0.9692 | test_loss: 0.1070 | test_acc: 1.0000\n",
            "Epoch: 28 | train_loss: 0.1239 | train_acc: 0.9922 | test_loss: 0.0992 | test_acc: 1.0000\n",
            "Epoch: 29 | train_loss: 0.1445 | train_acc: 0.9770 | test_loss: 0.0980 | test_acc: 1.0000\n",
            "Epoch: 30 | train_loss: 0.1484 | train_acc: 1.0000 | test_loss: 0.0889 | test_acc: 1.0000\n",
            "Total training time: 1629.171 seconds\n"
          ]
        }
      ],
      "source": [
        "#Tune hyperparameters\n",
        "NUM_EPOCHS = 30\n",
        "criterion = nn.CrossEntropyLoss()\n",
        "optimizer = opt.SGD(model.parameters(), lr =0.001, momentum = 0.9)\n",
        "\n",
        "# Start the timer\n",
        "from timeit import default_timer as timer \n",
        "start_time = timer()\n",
        "\n",
        "pt_results = train(model=model, \n",
        "                        train_dataloader=train_loader,\n",
        "                        test_dataloader=test_loader,\n",
        "                        optimizer=optimizer,\n",
        "                        loss_fn=criterion, \n",
        "                        epochs=NUM_EPOCHS)\n",
        "\n",
        "# End the timer and print out how long it took\n",
        "end_time = timer()\n",
        "print(f\"Total training time: {end_time-start_time:.3f} seconds\")\n"
      ]
    },
    {
      "cell_type": "code",
      "execution_count": 31,
      "metadata": {
        "id": "-1AoHiC9CpSe",
        "colab": {
          "base_uri": "https://localhost:8080/",
          "height": 458
        },
        "outputId": "4fc429dd-fa99-4168-b725-968931c4e5eb"
      },
      "outputs": [
        {
          "output_type": "display_data",
          "data": {
            "text/plain": [
              "<Figure size 1080x504 with 2 Axes>"
            ],
            "image/png": "[encoded data removed]"
          },
          "metadata": {
            "needs_background": "light"
          }
        }
      ],
      "source": [
        "plot_loss_curves(pt_results)"
      ]
    }
  ],
  "metadata": {
    "accelerator": "GPU",
    "colab": {
      "collapsed_sections": [],
      "provenance": [],
      "include_colab_link": true
    },
    "gpuClass": "standard",
    "kernelspec": {
      "display_name": "Python 3",
      "name": "python3"
    },
    "language_info": {
      "name": "python"
    },
    "widgets": {
      "application/vnd.jupyter.widget-state+json": {
        "802fc2bb50b945fdb9e3c4ac69d5fb97": {
          "model_module": "@jupyter-widgets/controls",
          "model_name": "HBoxModel",
          "model_module_version": "1.5.0",
          "state": {
            "_dom_classes": [],
            "_model_module": "@jupyter-widgets/controls",
            "_model_module_version": "1.5.0",
            "_model_name": "HBoxModel",
            "_view_count": null,
            "_view_module": "@jupyter-widgets/controls",
            "_view_module_version": "1.5.0",
            "_view_name": "HBoxView",
            "box_style": "",
            "children": [
              "IPY_MODEL_2f90666e285948a79474e18f59c0b504",
              "IPY_MODEL_a0cbef481e3c45c994a5ac40eb7e506e",
              "IPY_MODEL_3e48d12637da41738a6821724dedb648"
            ],
            "layout": "IPY_MODEL_7eaa4d7eb4e1405a823a0fd26d9d3ae6"
          }
        },
        "2f90666e285948a79474e18f59c0b504": {
          "model_module": "@jupyter-widgets/controls",
          "model_name": "HTMLModel",
          "model_module_version": "1.5.0",
          "state": {
            "_dom_classes": [],
            "_model_module": "@jupyter-widgets/controls",
            "_model_module_version": "1.5.0",
            "_model_name": "HTMLModel",
            "_view_count": null,
            "_view_module": "@jupyter-widgets/controls",
            "_view_module_version": "1.5.0",
            "_view_name": "HTMLView",
            "description": "",
            "description_tooltip": null,
            "layout": "IPY_MODEL_6a552621a8c9470d8b99dde84a91828d",
            "placeholder": "​",
            "style": "IPY_MODEL_6feb6521ca494e59aad6bd5f765c7a97",
            "value": "100%"
          }
        },
        "a0cbef481e3c45c994a5ac40eb7e506e": {
          "model_module": "@jupyter-widgets/controls",
          "model_name": "FloatProgressModel",
          "model_module_version": "1.5.0",
          "state": {
            "_dom_classes": [],
            "_model_module": "@jupyter-widgets/controls",
            "_model_module_version": "1.5.0",
            "_model_name": "FloatProgressModel",
            "_view_count": null,
            "_view_module": "@jupyter-widgets/controls",
            "_view_module_version": "1.5.0",
            "_view_name": "ProgressView",
            "bar_style": "success",
            "description": "",
            "description_tooltip": null,
            "layout": "IPY_MODEL_23e43ff57fc24cc7bf8f8ee7e7302c8b",
            "max": 30,
            "min": 0,
            "orientation": "horizontal",
            "style": "IPY_MODEL_cd9c19d8735e4b248e01ef3af3cb4daf",
            "value": 30
          }
        },
        "3e48d12637da41738a6821724dedb648": {
          "model_module": "@jupyter-widgets/controls",
          "model_name": "HTMLModel",
          "model_module_version": "1.5.0",
          "state": {
            "_dom_classes": [],
            "_model_module": "@jupyter-widgets/controls",
            "_model_module_version": "1.5.0",
            "_model_name": "HTMLModel",
            "_view_count": null,
            "_view_module": "@jupyter-widgets/controls",
            "_view_module_version": "1.5.0",
            "_view_name": "HTMLView",
            "description": "",
            "description_tooltip": null,
            "layout": "IPY_MODEL_ed0c24c5ac984553a8ddd9d7208a6917",
            "placeholder": "​",
            "style": "IPY_MODEL_3ef2bd0386014a1584914d2d8ae79efa",
            "value": " 30/30 [27:09&lt;00:00, 53.71s/it]"
          }
        },
        "7eaa4d7eb4e1405a823a0fd26d9d3ae6": {
          "model_module": "@jupyter-widgets/base",
          "model_name": "LayoutModel",
          "model_module_version": "1.2.0",
          "state": {
            "_model_module": "@jupyter-widgets/base",
            "_model_module_version": "1.2.0",
            "_model_name": "LayoutModel",
            "_view_count": null,
            "_view_module": "@jupyter-widgets/base",
            "_view_module_version": "1.2.0",
            "_view_name": "LayoutView",
            "align_content": null,
            "align_items": null,
            "align_self": null,
            "border": null,
            "bottom": null,
            "display": null,
            "flex": null,
            "flex_flow": null,
            "grid_area": null,
            "grid_auto_columns": null,
            "grid_auto_flow": null,
            "grid_auto_rows": null,
            "grid_column": null,
            "grid_gap": null,
            "grid_row": null,
            "grid_template_areas": null,
            "grid_template_columns": null,
            "grid_template_rows": null,
            "height": null,
            "justify_content": null,
            "justify_items": null,
            "left": null,
            "margin": null,
            "max_height": null,
            "max_width": null,
            "min_height": null,
            "min_width": null,
            "object_fit": null,
            "object_position": null,
            "order": null,
            "overflow": null,
            "overflow_x": null,
            "overflow_y": null,
            "padding": null,
            "right": null,
            "top": null,
            "visibility": null,
            "width": null
          }
        },
        "6a552621a8c9470d8b99dde84a91828d": {
          "model_module": "@jupyter-widgets/base",
          "model_name": "LayoutModel",
          "model_module_version": "1.2.0",
          "state": {
            "_model_module": "@jupyter-widgets/base",
            "_model_module_version": "1.2.0",
            "_model_name": "LayoutModel",
            "_view_count": null,
            "_view_module": "@jupyter-widgets/base",
            "_view_module_version": "1.2.0",
            "_view_name": "LayoutView",
            "align_content": null,
            "align_items": null,
            "align_self": null,
            "border": null,
            "bottom": null,
            "display": null,
            "flex": null,
            "flex_flow": null,
            "grid_area": null,
            "grid_auto_columns": null,
            "grid_auto_flow": null,
            "grid_auto_rows": null,
            "grid_column": null,
            "grid_gap": null,
            "grid_row": null,
            "grid_template_areas": null,
            "grid_template_columns": null,
            "grid_template_rows": null,
            "height": null,
            "justify_content": null,
            "justify_items": null,
            "left": null,
            "margin": null,
            "max_height": null,
            "max_width": null,
            "min_height": null,
            "min_width": null,
            "object_fit": null,
            "object_position": null,
            "order": null,
            "overflow": null,
            "overflow_x": null,
            "overflow_y": null,
            "padding": null,
            "right": null,
            "top": null,
            "visibility": null,
            "width": null
          }
        },
        "6feb6521ca494e59aad6bd5f765c7a97": {
          "model_module": "@jupyter-widgets/controls",
          "model_name": "DescriptionStyleModel",
          "model_module_version": "1.5.0",
          "state": {
            "_model_module": "@jupyter-widgets/controls",
            "_model_module_version": "1.5.0",
            "_model_name": "DescriptionStyleModel",
            "_view_count": null,
            "_view_module": "@jupyter-widgets/base",
            "_view_module_version": "1.2.0",
            "_view_name": "StyleView",
            "description_width": ""
          }
        },
        "23e43ff57fc24cc7bf8f8ee7e7302c8b": {
          "model_module": "@jupyter-widgets/base",
          "model_name": "LayoutModel",
          "model_module_version": "1.2.0",
          "state": {
            "_model_module": "@jupyter-widgets/base",
            "_model_module_version": "1.2.0",
            "_model_name": "LayoutModel",
            "_view_count": null,
            "_view_module": "@jupyter-widgets/base",
            "_view_module_version": "1.2.0",
            "_view_name": "LayoutView",
            "align_content": null,
            "align_items": null,
            "align_self": null,
            "border": null,
            "bottom": null,
            "display": null,
            "flex": null,
            "flex_flow": null,
            "grid_area": null,
            "grid_auto_columns": null,
            "grid_auto_flow": null,
            "grid_auto_rows": null,
            "grid_column": null,
            "grid_gap": null,
            "grid_row": null,
            "grid_template_areas": null,
            "grid_template_columns": null,
            "grid_template_rows": null,
            "height": null,
            "justify_content": null,
            "justify_items": null,
            "left": null,
            "margin": null,
            "max_height": null,
            "max_width": null,
            "min_height": null,
            "min_width": null,
            "object_fit": null,
            "object_position": null,
            "order": null,
            "overflow": null,
            "overflow_x": null,
            "overflow_y": null,
            "padding": null,
            "right": null,
            "top": null,
            "visibility": null,
            "width": null
          }
        },
        "cd9c19d8735e4b248e01ef3af3cb4daf": {
          "model_module": "@jupyter-widgets/controls",
          "model_name": "ProgressStyleModel",
          "model_module_version": "1.5.0",
          "state": {
            "_model_module": "@jupyter-widgets/controls",
            "_model_module_version": "1.5.0",
            "_model_name": "ProgressStyleModel",
            "_view_count": null,
            "_view_module": "@jupyter-widgets/base",
            "_view_module_version": "1.2.0",
            "_view_name": "StyleView",
            "bar_color": null,
            "description_width": ""
          }
        },
        "ed0c24c5ac984553a8ddd9d7208a6917": {
          "model_module": "@jupyter-widgets/base",
          "model_name": "LayoutModel",
          "model_module_version": "1.2.0",
          "state": {
            "_model_module": "@jupyter-widgets/base",
            "_model_module_version": "1.2.0",
            "_model_name": "LayoutModel",
            "_view_count": null,
            "_view_module": "@jupyter-widgets/base",
            "_view_module_version": "1.2.0",
            "_view_name": "LayoutView",
            "align_content": null,
            "align_items": null,
            "align_self": null,
            "border": null,
            "bottom": null,
            "display": null,
            "flex": null,
            "flex_flow": null,
            "grid_area": null,
            "grid_auto_columns": null,
            "grid_auto_flow": null,
            "grid_auto_rows": null,
            "grid_column": null,
            "grid_gap": null,
            "grid_row": null,
            "grid_template_areas": null,
            "grid_template_columns": null,
            "grid_template_rows": null,
            "height": null,
            "justify_content": null,
            "justify_items": null,
            "left": null,
            "margin": null,
            "max_height": null,
            "max_width": null,
            "min_height": null,
            "min_width": null,
            "object_fit": null,
            "object_position": null,
            "order": null,
            "overflow": null,
            "overflow_x": null,
            "overflow_y": null,
            "padding": null,
            "right": null,
            "top": null,
            "visibility": null,
            "width": null
          }
        },
        "3ef2bd0386014a1584914d2d8ae79efa": {
          "model_module": "@jupyter-widgets/controls",
          "model_name": "DescriptionStyleModel",
          "model_module_version": "1.5.0",
          "state": {
            "_model_module": "@jupyter-widgets/controls",
            "_model_module_version": "1.5.0",
            "_model_name": "DescriptionStyleModel",
            "_view_count": null,
            "_view_module": "@jupyter-widgets/base",
            "_view_module_version": "1.2.0",
            "_view_name": "StyleView",
            "description_width": ""
          }
        }
      }
    }
  },
  "nbformat": 4,
  "nbformat_minor": 0
}