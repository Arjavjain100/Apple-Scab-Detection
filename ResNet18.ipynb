{
  "cells": [
    {
      "cell_type": "markdown",
      "metadata": {
        "id": "view-in-github",
        "colab_type": "text"
      },
      "source": [
        "<a href=\"https://colab.research.google.com/github/Arjavjain100/Apple-Scab-Detection/blob/main/ResNet18.ipynb\" target=\"_parent\"><img src=\"https://colab.research.google.com/assets/colab-badge.svg\" alt=\"Open In Colab\"/></a>"
      ]
    },
    {
      "cell_type": "markdown",
      "source": [
        "# **Apple Scab Detection**"
      ],
      "metadata": {
        "id": "AC8mQG-Vr8yv"
      }
    },
    {
      "cell_type": "markdown",
      "source": [
        "Downloading and importing required Libraries"
      ],
      "metadata": {
        "id": "6JrkBg_9sFuo"
      }
    },
    {
      "cell_type": "code",
      "execution_count": null,
      "metadata": {
        "colab": {
          "base_uri": "https://localhost:8080/"
        },
        "id": "IgS9hK859Ts5",
        "outputId": "39d2b48d-30ce-4477-cb0e-026f638ee921"
      },
      "outputs": [
        {
          "output_type": "stream",
          "name": "stdout",
          "text": [
            "Looking in indexes: https://pypi.org/simple, https://us-python.pkg.dev/colab-wheels/public/simple/\n",
            "Requirement already satisfied: torchinfo in /usr/local/lib/python3.8/dist-packages (1.7.1)\n",
            "Looking in indexes: https://pypi.org/simple, https://us-python.pkg.dev/colab-wheels/public/simple/\n",
            "Requirement already satisfied: torchmetrics in /usr/local/lib/python3.8/dist-packages (0.11.0)\n",
            "Requirement already satisfied: typing-extensions in /usr/local/lib/python3.8/dist-packages (from torchmetrics) (4.1.1)\n",
            "Requirement already satisfied: packaging in /usr/local/lib/python3.8/dist-packages (from torchmetrics) (21.3)\n",
            "Requirement already satisfied: torch>=1.8.1 in /usr/local/lib/python3.8/dist-packages (from torchmetrics) (1.12.1+cu113)\n",
            "Requirement already satisfied: numpy>=1.17.2 in /usr/local/lib/python3.8/dist-packages (from torchmetrics) (1.21.6)\n",
            "Requirement already satisfied: pyparsing!=3.0.5,>=2.0.2 in /usr/local/lib/python3.8/dist-packages (from packaging->torchmetrics) (3.0.9)\n"
          ]
        }
      ],
      "source": [
        "!pip install torchinfo\n",
        "!pip install torchmetrics"
      ]
    },
    {
      "cell_type": "code",
      "execution_count": null,
      "metadata": {
        "colab": {
          "base_uri": "https://localhost:8080/"
        },
        "id": "zycdm4nqBonf",
        "outputId": "84b11a3a-b5ae-48ac-ff31-7dbbd947dc44"
      },
      "outputs": [
        {
          "output_type": "stream",
          "name": "stdout",
          "text": [
            "fatal: destination path 'Apple-Scab-Detection' already exists and is not an empty directory.\n"
          ]
        }
      ],
      "source": [
        "!git clone \"https://github.com/Arjavjain100/Apple-Scab-Detection.git\""
      ]
    },
    {
      "cell_type": "code",
      "execution_count": null,
      "metadata": {
        "id": "gIcgjnzepVAT"
      },
      "outputs": [],
      "source": [
        "# Importing required libraries\n",
        "import torch\n",
        "import torch.nn as nn\n",
        "import torch.nn.functional as F\n",
        "import torch.optim as opt\n",
        "from torchvision import datasets, transforms, models\n",
        "from tqdm.auto import tqdm\n",
        "from torchinfo import summary\n",
        "import matplotlib.pyplot as plt\n",
        "from torchmetrics.classification import BinaryF1Score, ConfusionMatrix"
      ]
    },
    {
      "cell_type": "code",
      "execution_count": null,
      "metadata": {
        "id": "0p2IgYKz9rjc"
      },
      "outputs": [],
      "source": [
        "torch.manual_seed(42) \n",
        "torch.cuda.manual_seed(42)"
      ]
    },
    {
      "cell_type": "code",
      "execution_count": null,
      "metadata": {
        "id": "yB7nF4vn46SP"
      },
      "outputs": [],
      "source": [
        "def train_step(model: torch.nn.Module, \n",
        "               dataloader: torch.utils.data.DataLoader, \n",
        "               loss_fn: torch.nn.Module, \n",
        "               optimizer: torch.optim.Optimizer):\n",
        "    # Put model in train mode\n",
        "    model.train()\n",
        "    \n",
        "    # Setup train loss and train accuracy values\n",
        "    train_loss, train_acc, train_f1 = 0, 0, 0\n",
        "    F1 = BinaryF1Score().to(device)\n",
        "\n",
        "    # Loop through data loader data batches\n",
        "    for batch, (X, y) in enumerate(dataloader):\n",
        "        # Send data to target device\n",
        "        X, y = X.to(device), y.to(device)\n",
        "\n",
        "        # 1. Forward pass\n",
        "        y_pred = model(X)\n",
        "\n",
        "        # 2. Calculate  and accumulate loss\n",
        "        loss = loss_fn(y_pred, y)\n",
        "        train_loss += loss.item() \n",
        "\n",
        "        # 3. Optimizer zero grad\n",
        "        optimizer.zero_grad()\n",
        "\n",
        "        # 4. Loss backward\n",
        "        loss.backward()\n",
        "\n",
        "        # 5. Optimizer step\n",
        "        optimizer.step()\n",
        "\n",
        "        # Calculate and accumulate accuracy metric across all batches\n",
        "        y_pred_class = torch.argmax(torch.softmax(y_pred, dim=1), dim=1)\n",
        "        train_acc += (y_pred_class == y).sum().item()/len(y_pred)\n",
        "        train_f1 += F1(y_pred_class, y).item()\n",
        "\n",
        "    # Adjust metrics to get average loss and accuracy per batch \n",
        "    train_loss = train_loss / len(dataloader)\n",
        "    train_acc = train_acc / len(dataloader)\n",
        "    train_f1 = train_f1 / len(dataloader)\n",
        "    return train_loss, train_acc, train_f1"
      ]
    },
    {
      "cell_type": "code",
      "execution_count": null,
      "metadata": {
        "id": "xRvo7Tx446ly"
      },
      "outputs": [],
      "source": [
        "def test_step(model: torch.nn.Module, \n",
        "              dataloader: torch.utils.data.DataLoader, \n",
        "              loss_fn: torch.nn.Module):\n",
        "    # Put model in eval mode\n",
        "    model.eval() \n",
        "\n",
        "    F1 = BinaryF1Score().to(device)\n",
        "\n",
        "    # Setup test loss and test accuracy values\n",
        "    test_loss, test_acc, test_f1 = 0, 0, 0\n",
        "    \n",
        "    # Turn on inference context manager\n",
        "    with torch.inference_mode():\n",
        "        # Loop through DataLoader batches\n",
        "        for batch, (X, y) in enumerate(dataloader):\n",
        "            # Send data to target device\n",
        "            X, y = X.to(device), y.to(device)\n",
        "    \n",
        "            # 1. Forward pass\n",
        "            test_pred_logits = model(X)\n",
        "\n",
        "            # 2. Calculate and accumulate loss\n",
        "            loss = loss_fn(test_pred_logits, y)\n",
        "            test_loss += loss.item()\n",
        "            \n",
        "            # Calculate and accumulate accuracy\n",
        "            test_pred_labels = test_pred_logits.argmax(dim=1)\n",
        "            test_acc += ((test_pred_labels == y).sum().item()/len(test_pred_labels))\n",
        "            test_f1 += F1(test_pred_labels, y).item()\n",
        "            \n",
        "    # Adjust metrics to get average loss and accuracy per batch \n",
        "    test_loss = test_loss / len(dataloader)\n",
        "    test_acc = test_acc / len(dataloader)\n",
        "    test_f1 = test_f1 / len(dataloader)\n",
        "    return test_loss, test_acc, test_f1"
      ]
    },
    {
      "cell_type": "code",
      "execution_count": null,
      "metadata": {
        "id": "QjMO-hdH462K"
      },
      "outputs": [],
      "source": [
        "\n",
        "# 1. Take in various parameters required for training and test steps\n",
        "def train(model: torch.nn.Module, \n",
        "          train_dataloader: torch.utils.data.DataLoader, \n",
        "          test_dataloader: torch.utils.data.DataLoader, \n",
        "          optimizer: torch.optim.Optimizer,\n",
        "          loss_fn: torch.nn.Module = nn.CrossEntropyLoss(),\n",
        "          epochs: int = 5):\n",
        "    \n",
        "    # 2. Create empty results dictionary\n",
        "    results = {\"train_loss\": [],\n",
        "        \"train_acc\": [],\n",
        "        \"test_loss\": [],\n",
        "        \"test_acc\": [],\n",
        "        \"train_f1\": [],\n",
        "        \"test_f1\": []\n",
        "    }\n",
        "    \n",
        "    # 3. Loop through training and testing steps for a number of epochs\n",
        "    for epoch in tqdm(range(epochs)):\n",
        "        train_loss, train_acc, train_f1 = train_step(model=model,\n",
        "                                           dataloader=train_dataloader,\n",
        "                                           loss_fn=loss_fn,\n",
        "                                           optimizer=optimizer)\n",
        "        test_loss, test_acc, test_f1 = test_step(model=model,\n",
        "            dataloader=test_dataloader,\n",
        "            loss_fn=loss_fn)\n",
        "        \n",
        "        # 4. Print out what's happening\n",
        "        print(\n",
        "            f\"Epoch: {epoch+1} | \"\n",
        "            f\"train_loss: {train_loss:.4f} | \"\n",
        "            f\"train_acc: {train_acc:.4f} | \"\n",
        "            f\"test_loss: {test_loss:.4f} | \"\n",
        "            f\"test_acc: {test_acc:.4f} | \"\n",
        "            f\"train_f1: {train_f1:.4f} | \"\n",
        "            f\"test_f1: {test_f1:.4f}\"\n",
        "\n",
        "        )\n",
        "\n",
        "        # 5. Update results dictionary\n",
        "        results[\"train_loss\"].append(train_loss)\n",
        "        results[\"train_acc\"].append(train_acc)\n",
        "        results[\"test_loss\"].append(test_loss)\n",
        "        results[\"test_acc\"].append(test_acc)\n",
        "        results[\"train_f1\"].append(train_f1)\n",
        "        results[\"test_f1\"].append(test_f1)\n",
        "\n",
        "\n",
        "    # 6. Return the filled results at the end of the epochs\n",
        "    return results"
      ]
    },
    {
      "cell_type": "code",
      "execution_count": null,
      "metadata": {
        "id": "sSQviNWr9yWu"
      },
      "outputs": [],
      "source": [
        "def plot_loss_curves(results):\n",
        "    \"\"\"Plots training curves of a results dictionary.\n",
        "\n",
        "    Args:\n",
        "        results (dict): dictionary containing list of values, e.g.\n",
        "            {\"train_loss\": [...],\n",
        "             \"train_acc\": [...],\n",
        "             \"test_loss\": [...],\n",
        "             \"test_acc\": [...]}\n",
        "    \"\"\"\n",
        "    \n",
        "    # Get the loss values of the results dictionary (training and test)\n",
        "    loss = results['train_loss']\n",
        "    test_loss = results['test_loss']\n",
        "\n",
        "    # Get the accuracy values of the results dictionary (training and test)\n",
        "    accuracy = results['train_acc']\n",
        "    test_accuracy = results['test_acc']\n",
        "\n",
        "    f1 = results['train_f1']\n",
        "    test_f1 = results['test_f1']\n",
        "    # Figure out how many epochs there were\n",
        "    epochs = range(len(results['train_loss']))\n",
        "\n",
        "    # Setup a plot \n",
        "    plt.figure(figsize=(24, 7))\n",
        "\n",
        "    # Plot loss\n",
        "    plt.subplot(1, 3, 1)\n",
        "    plt.plot(epochs, loss, label='train_loss')\n",
        "    plt.plot(epochs, test_loss, label='test_loss')\n",
        "    plt.title('Loss')\n",
        "    plt.xlabel('Epochs')\n",
        "    plt.legend()\n",
        "\n",
        "    # Plot accuracy\n",
        "    plt.subplot(1, 3, 2)\n",
        "    plt.plot(epochs, accuracy, label='train_accuracy')\n",
        "    plt.plot(epochs, test_accuracy, label='test_accuracy')\n",
        "    plt.title('Accuracy')\n",
        "    plt.xlabel('Epochs')\n",
        "    plt.legend()\n",
        "\n",
        "    # Plot F1 score\n",
        "    plt.subplot(1, 3, 3)\n",
        "    plt.plot(epochs, f1, label='train_f1')\n",
        "    plt.plot(epochs, test_f1, label='test_f1')\n",
        "    plt.title('F1 Score')\n",
        "    plt.xlabel('Epochs')\n",
        "    plt.legend()"
      ]
    },
    {
      "cell_type": "code",
      "source": [
        "auto_transforms = models.ResNet18_Weights.IMAGENET1K_V1.transforms()\n",
        "auto_transforms"
      ],
      "metadata": {
        "colab": {
          "base_uri": "https://localhost:8080/"
        },
        "id": "-wgcndaQoTii",
        "outputId": "90bfddb0-1bba-4dca-daaf-b31d959200c8"
      },
      "execution_count": null,
      "outputs": [
        {
          "output_type": "execute_result",
          "data": {
            "text/plain": [
              "ImageClassification(\n",
              "    crop_size=[224]\n",
              "    resize_size=[256]\n",
              "    mean=[0.485, 0.456, 0.406]\n",
              "    std=[0.229, 0.224, 0.225]\n",
              "    interpolation=InterpolationMode.BILINEAR\n",
              ")"
            ]
          },
          "metadata": {},
          "execution_count": 42
        }
      ]
    },
    {
      "cell_type": "code",
      "execution_count": null,
      "metadata": {
        "id": "0DjtQKqcCB2H"
      },
      "outputs": [],
      "source": [
        "batch_size = 64\n",
        "# Change Tranforms accordong to the model\n",
        "transform = {\n",
        "    'train': transforms.Compose([\n",
        "        transforms.ToTensor(),\n",
        "        transforms.Resize((256, 256)),\n",
        "        transforms.Normalize(mean=[0.485, 0.456, 0.406],\n",
        "                             std=[0.229, 0.224, 0.225])]),\n",
        "    'test': transforms.Compose([\n",
        "        transforms.ToTensor(),\n",
        "        transforms.Resize((256, 256)),\n",
        "        transforms.Normalize(mean=[0.485, 0.456, 0.406],\n",
        "                             std=[0.229, 0.224, 0.225])])\n",
        "}\n",
        "test_data = datasets.ImageFolder('/content/Apple-Scab-Detection/Augmented Dataset/Test', transform = transform[\"train\"])\n",
        "train_data = datasets.ImageFolder('/content/Apple-Scab-Detection/Augmented Dataset/Test',  transform = transform[\"test\"])\n",
        "\n",
        "train_loader = torch.utils.data.DataLoader(train_data, shuffle=True, batch_size=batch_size)\n",
        "test_loader = torch.utils.data.DataLoader(test_data, shuffle=True, batch_size=batch_size)"
      ]
    },
    {
      "cell_type": "code",
      "execution_count": null,
      "metadata": {
        "id": "ywOkNd3bwBdp",
        "colab": {
          "base_uri": "https://localhost:8080/"
        },
        "outputId": "9516b7a4-75ce-4aba-dd4d-8eee04c881f5"
      },
      "outputs": [
        {
          "output_type": "stream",
          "name": "stderr",
          "text": [
            "/usr/local/lib/python3.8/dist-packages/torchvision/models/_utils.py:135: UserWarning: Using 'weights' as positional parameter(s) is deprecated since 0.13 and will be removed in 0.15. Please use keyword parameter(s) instead.\n",
            "  warnings.warn(\n"
          ]
        }
      ],
      "source": [
        "device = torch.device('cuda' if torch.cuda.is_available() else 'cpu')\n",
        "\n",
        "# Change model\n",
        "model = models.resnet18(models.ResNet18_Weights.IMAGENET1K_V1).to(device)\n",
        "\n",
        "#Freeze all base layers in the \"features\" section of the model (the feature extractor) by setting requires_grad=False\n",
        "for param in model.parameters():\n",
        "    param.requires_grad = False\n",
        "\n",
        "model.fc = nn.Sequential(\n",
        "    nn.BatchNorm1d(512), \n",
        "    nn.Dropout(0.2),   \n",
        "    nn.Linear(512, 256),\n",
        "    nn.ReLU(),\n",
        "    nn.BatchNorm1d(256),\n",
        "    nn.Dropout(0.2),   \n",
        "    nn.Linear(256, 128),\n",
        "    nn.ReLU(),\n",
        "    nn.BatchNorm1d(128),\n",
        "    nn.Dropout(0.2),\n",
        "    nn.Linear(128, 2),\n",
        "    ).to(device)"
      ]
    },
    {
      "cell_type": "markdown",
      "source": [
        "Model Summary"
      ],
      "metadata": {
        "id": "71gHxF8usdae"
      }
    },
    {
      "cell_type": "code",
      "execution_count": null,
      "metadata": {
        "colab": {
          "base_uri": "https://localhost:8080/"
        },
        "id": "jzBnmJov_HnC",
        "outputId": "961aff99-70d3-4558-8f30-f4e2c86b8a97"
      },
      "outputs": [
        {
          "output_type": "execute_result",
          "data": {
            "text/plain": [
              "========================================================================================================================\n",
              "Layer (type (var_name))                  Input Shape          Output Shape         Param #              Trainable\n",
              "========================================================================================================================\n",
              "ResNet (ResNet)                          [64, 3, 224, 224]    [64, 2]              --                   Partial\n",
              "├─Conv2d (conv1)                         [64, 3, 224, 224]    [64, 64, 112, 112]   (9,408)              False\n",
              "├─BatchNorm2d (bn1)                      [64, 64, 112, 112]   [64, 64, 112, 112]   (128)                False\n",
              "├─ReLU (relu)                            [64, 64, 112, 112]   [64, 64, 112, 112]   --                   --\n",
              "├─MaxPool2d (maxpool)                    [64, 64, 112, 112]   [64, 64, 56, 56]     --                   --\n",
              "├─Sequential (layer1)                    [64, 64, 56, 56]     [64, 64, 56, 56]     --                   False\n",
              "│    └─BasicBlock (0)                    [64, 64, 56, 56]     [64, 64, 56, 56]     --                   False\n",
              "│    │    └─Conv2d (conv1)               [64, 64, 56, 56]     [64, 64, 56, 56]     (36,864)             False\n",
              "│    │    └─BatchNorm2d (bn1)            [64, 64, 56, 56]     [64, 64, 56, 56]     (128)                False\n",
              "│    │    └─ReLU (relu)                  [64, 64, 56, 56]     [64, 64, 56, 56]     --                   --\n",
              "│    │    └─Conv2d (conv2)               [64, 64, 56, 56]     [64, 64, 56, 56]     (36,864)             False\n",
              "│    │    └─BatchNorm2d (bn2)            [64, 64, 56, 56]     [64, 64, 56, 56]     (128)                False\n",
              "│    │    └─ReLU (relu)                  [64, 64, 56, 56]     [64, 64, 56, 56]     --                   --\n",
              "│    └─BasicBlock (1)                    [64, 64, 56, 56]     [64, 64, 56, 56]     --                   False\n",
              "│    │    └─Conv2d (conv1)               [64, 64, 56, 56]     [64, 64, 56, 56]     (36,864)             False\n",
              "│    │    └─BatchNorm2d (bn1)            [64, 64, 56, 56]     [64, 64, 56, 56]     (128)                False\n",
              "│    │    └─ReLU (relu)                  [64, 64, 56, 56]     [64, 64, 56, 56]     --                   --\n",
              "│    │    └─Conv2d (conv2)               [64, 64, 56, 56]     [64, 64, 56, 56]     (36,864)             False\n",
              "│    │    └─BatchNorm2d (bn2)            [64, 64, 56, 56]     [64, 64, 56, 56]     (128)                False\n",
              "│    │    └─ReLU (relu)                  [64, 64, 56, 56]     [64, 64, 56, 56]     --                   --\n",
              "├─Sequential (layer2)                    [64, 64, 56, 56]     [64, 128, 28, 28]    --                   False\n",
              "│    └─BasicBlock (0)                    [64, 64, 56, 56]     [64, 128, 28, 28]    --                   False\n",
              "│    │    └─Conv2d (conv1)               [64, 64, 56, 56]     [64, 128, 28, 28]    (73,728)             False\n",
              "│    │    └─BatchNorm2d (bn1)            [64, 128, 28, 28]    [64, 128, 28, 28]    (256)                False\n",
              "│    │    └─ReLU (relu)                  [64, 128, 28, 28]    [64, 128, 28, 28]    --                   --\n",
              "│    │    └─Conv2d (conv2)               [64, 128, 28, 28]    [64, 128, 28, 28]    (147,456)            False\n",
              "│    │    └─BatchNorm2d (bn2)            [64, 128, 28, 28]    [64, 128, 28, 28]    (256)                False\n",
              "│    │    └─Sequential (downsample)      [64, 64, 56, 56]     [64, 128, 28, 28]    (8,448)              False\n",
              "│    │    └─ReLU (relu)                  [64, 128, 28, 28]    [64, 128, 28, 28]    --                   --\n",
              "│    └─BasicBlock (1)                    [64, 128, 28, 28]    [64, 128, 28, 28]    --                   False\n",
              "│    │    └─Conv2d (conv1)               [64, 128, 28, 28]    [64, 128, 28, 28]    (147,456)            False\n",
              "│    │    └─BatchNorm2d (bn1)            [64, 128, 28, 28]    [64, 128, 28, 28]    (256)                False\n",
              "│    │    └─ReLU (relu)                  [64, 128, 28, 28]    [64, 128, 28, 28]    --                   --\n",
              "│    │    └─Conv2d (conv2)               [64, 128, 28, 28]    [64, 128, 28, 28]    (147,456)            False\n",
              "│    │    └─BatchNorm2d (bn2)            [64, 128, 28, 28]    [64, 128, 28, 28]    (256)                False\n",
              "│    │    └─ReLU (relu)                  [64, 128, 28, 28]    [64, 128, 28, 28]    --                   --\n",
              "├─Sequential (layer3)                    [64, 128, 28, 28]    [64, 256, 14, 14]    --                   False\n",
              "│    └─BasicBlock (0)                    [64, 128, 28, 28]    [64, 256, 14, 14]    --                   False\n",
              "│    │    └─Conv2d (conv1)               [64, 128, 28, 28]    [64, 256, 14, 14]    (294,912)            False\n",
              "│    │    └─BatchNorm2d (bn1)            [64, 256, 14, 14]    [64, 256, 14, 14]    (512)                False\n",
              "│    │    └─ReLU (relu)                  [64, 256, 14, 14]    [64, 256, 14, 14]    --                   --\n",
              "│    │    └─Conv2d (conv2)               [64, 256, 14, 14]    [64, 256, 14, 14]    (589,824)            False\n",
              "│    │    └─BatchNorm2d (bn2)            [64, 256, 14, 14]    [64, 256, 14, 14]    (512)                False\n",
              "│    │    └─Sequential (downsample)      [64, 128, 28, 28]    [64, 256, 14, 14]    (33,280)             False\n",
              "│    │    └─ReLU (relu)                  [64, 256, 14, 14]    [64, 256, 14, 14]    --                   --\n",
              "│    └─BasicBlock (1)                    [64, 256, 14, 14]    [64, 256, 14, 14]    --                   False\n",
              "│    │    └─Conv2d (conv1)               [64, 256, 14, 14]    [64, 256, 14, 14]    (589,824)            False\n",
              "│    │    └─BatchNorm2d (bn1)            [64, 256, 14, 14]    [64, 256, 14, 14]    (512)                False\n",
              "│    │    └─ReLU (relu)                  [64, 256, 14, 14]    [64, 256, 14, 14]    --                   --\n",
              "│    │    └─Conv2d (conv2)               [64, 256, 14, 14]    [64, 256, 14, 14]    (589,824)            False\n",
              "│    │    └─BatchNorm2d (bn2)            [64, 256, 14, 14]    [64, 256, 14, 14]    (512)                False\n",
              "│    │    └─ReLU (relu)                  [64, 256, 14, 14]    [64, 256, 14, 14]    --                   --\n",
              "├─Sequential (layer4)                    [64, 256, 14, 14]    [64, 512, 7, 7]      --                   False\n",
              "│    └─BasicBlock (0)                    [64, 256, 14, 14]    [64, 512, 7, 7]      --                   False\n",
              "│    │    └─Conv2d (conv1)               [64, 256, 14, 14]    [64, 512, 7, 7]      (1,179,648)          False\n",
              "│    │    └─BatchNorm2d (bn1)            [64, 512, 7, 7]      [64, 512, 7, 7]      (1,024)              False\n",
              "│    │    └─ReLU (relu)                  [64, 512, 7, 7]      [64, 512, 7, 7]      --                   --\n",
              "│    │    └─Conv2d (conv2)               [64, 512, 7, 7]      [64, 512, 7, 7]      (2,359,296)          False\n",
              "│    │    └─BatchNorm2d (bn2)            [64, 512, 7, 7]      [64, 512, 7, 7]      (1,024)              False\n",
              "│    │    └─Sequential (downsample)      [64, 256, 14, 14]    [64, 512, 7, 7]      (132,096)            False\n",
              "│    │    └─ReLU (relu)                  [64, 512, 7, 7]      [64, 512, 7, 7]      --                   --\n",
              "│    └─BasicBlock (1)                    [64, 512, 7, 7]      [64, 512, 7, 7]      --                   False\n",
              "│    │    └─Conv2d (conv1)               [64, 512, 7, 7]      [64, 512, 7, 7]      (2,359,296)          False\n",
              "│    │    └─BatchNorm2d (bn1)            [64, 512, 7, 7]      [64, 512, 7, 7]      (1,024)              False\n",
              "│    │    └─ReLU (relu)                  [64, 512, 7, 7]      [64, 512, 7, 7]      --                   --\n",
              "│    │    └─Conv2d (conv2)               [64, 512, 7, 7]      [64, 512, 7, 7]      (2,359,296)          False\n",
              "│    │    └─BatchNorm2d (bn2)            [64, 512, 7, 7]      [64, 512, 7, 7]      (1,024)              False\n",
              "│    │    └─ReLU (relu)                  [64, 512, 7, 7]      [64, 512, 7, 7]      --                   --\n",
              "├─AdaptiveAvgPool2d (avgpool)            [64, 512, 7, 7]      [64, 512, 1, 1]      --                   --\n",
              "├─Sequential (fc)                        [64, 512]            [64, 2]              --                   True\n",
              "│    └─BatchNorm1d (0)                   [64, 512]            [64, 512]            1,024                True\n",
              "│    └─Dropout (1)                       [64, 512]            [64, 512]            --                   --\n",
              "│    └─Linear (2)                        [64, 512]            [64, 256]            131,328              True\n",
              "│    └─ReLU (3)                          [64, 256]            [64, 256]            --                   --\n",
              "│    └─BatchNorm1d (4)                   [64, 256]            [64, 256]            512                  True\n",
              "│    └─Dropout (5)                       [64, 256]            [64, 256]            --                   --\n",
              "│    └─Linear (6)                        [64, 256]            [64, 128]            32,896               True\n",
              "│    └─ReLU (7)                          [64, 128]            [64, 128]            --                   --\n",
              "│    └─BatchNorm1d (8)                   [64, 128]            [64, 128]            256                  True\n",
              "│    └─Dropout (9)                       [64, 128]            [64, 128]            --                   --\n",
              "│    └─Linear (10)                       [64, 128]            [64, 2]              258                  True\n",
              "========================================================================================================================\n",
              "Total params: 11,342,786\n",
              "Trainable params: 166,274\n",
              "Non-trainable params: 11,176,512\n",
              "Total mult-adds (G): 116.08\n",
              "========================================================================================================================\n",
              "Input size (MB): 38.54\n",
              "Forward/backward pass size (MB): 2543.98\n",
              "Params size (MB): 45.37\n",
              "Estimated Total Size (MB): 2627.88\n",
              "========================================================================================================================"
            ]
          },
          "metadata": {},
          "execution_count": 45
        }
      ],
      "source": [
        "\n",
        "summary(model=model, \n",
        "        input_size=(batch_size, 3, 224, 224), # make sure this is \"input_size\", not \"input_shape\"\n",
        "        col_names=[\"input_size\", \"output_size\", \"num_params\", \"trainable\"],\n",
        "        col_width=20,\n",
        "        row_settings=[\"var_names\"]\n",
        ")"
      ]
    },
    {
      "cell_type": "markdown",
      "source": [
        "Training the model"
      ],
      "metadata": {
        "id": "8Og1TSzpsZ9w"
      }
    },
    {
      "cell_type": "code",
      "execution_count": null,
      "metadata": {
        "colab": {
          "base_uri": "https://localhost:8080/",
          "height": 587,
          "referenced_widgets": [
            "dda54ba76a2a4a78843259df5d8ccaf0",
            "d5adea620bf6493799d1470d6577e299",
            "8dd500b42417467fb14a0bc22ed1dba8",
            "4a640b49e71844d58b096b5bdd9a8d6d",
            "9348848bab33442395c958aedfe12297",
            "2d42e50e10884042bb93ebb52f7bd286",
            "bc75a840a6564a92aaa668880dd58364",
            "2b50e9c52dc8405e804b94ff653df9ae",
            "c774ef7a5b5a44e0bd5fd9b5d0d3fae3",
            "9603d967858e4f5d863acf0456258589",
            "ec26264fa84943a6b5461fe8164cb6d2"
          ]
        },
        "id": "-7YY7h2LCdyy",
        "outputId": "c116def2-9fb0-4940-bb3b-b9332627b1f3"
      },
      "outputs": [
        {
          "output_type": "display_data",
          "data": {
            "text/plain": [
              "  0%|          | 0/30 [00:00<?, ?it/s]"
            ],
            "application/vnd.jupyter.widget-view+json": {
              "version_major": 2,
              "version_minor": 0,
              "model_id": "dda54ba76a2a4a78843259df5d8ccaf0"
            }
          },
          "metadata": {}
        },
        {
          "output_type": "stream",
          "name": "stdout",
          "text": [
            "Epoch: 1 | train_loss: 0.7396 | train_acc: 0.6155 | test_loss: 0.6975 | test_acc: 0.4773 | train_f1: 0.6950 | test_f1: 0.5147\n",
            "Epoch: 2 | train_loss: 0.7719 | train_acc: 0.5926 | test_loss: 0.7004 | test_acc: 0.4451 | train_f1: 0.6935 | test_f1: 0.4108\n",
            "Epoch: 3 | train_loss: 0.8478 | train_acc: 0.4323 | test_loss: 0.7080 | test_acc: 0.4001 | train_f1: 0.5421 | test_f1: 0.3089\n",
            "Epoch: 4 | train_loss: 0.7089 | train_acc: 0.5466 | test_loss: 0.7093 | test_acc: 0.4695 | train_f1: 0.5833 | test_f1: 0.4605\n",
            "Epoch: 5 | train_loss: 0.6621 | train_acc: 0.6302 | test_loss: 0.6967 | test_acc: 0.4773 | train_f1: 0.6992 | test_f1: 0.4253\n",
            "Epoch: 6 | train_loss: 0.6806 | train_acc: 0.6302 | test_loss: 0.6856 | test_acc: 0.5159 | train_f1: 0.6984 | test_f1: 0.5472\n",
            "Epoch: 7 | train_loss: 0.6091 | train_acc: 0.6771 | test_loss: 0.6782 | test_acc: 0.5701 | train_f1: 0.7409 | test_f1: 0.6235\n",
            "Epoch: 8 | train_loss: 0.5923 | train_acc: 0.6771 | test_loss: 0.6603 | test_acc: 0.6307 | train_f1: 0.7501 | test_f1: 0.6546\n",
            "Epoch: 9 | train_loss: 0.6723 | train_acc: 0.5862 | test_loss: 0.6380 | test_acc: 0.7069 | train_f1: 0.6677 | test_f1: 0.7514\n",
            "Epoch: 10 | train_loss: 0.5767 | train_acc: 0.7768 | test_loss: 0.6215 | test_acc: 0.7382 | train_f1: 0.8319 | test_f1: 0.7846\n",
            "Epoch: 11 | train_loss: 0.6441 | train_acc: 0.6932 | test_loss: 0.6019 | test_acc: 0.7386 | train_f1: 0.7636 | test_f1: 0.7877\n",
            "Epoch: 12 | train_loss: 0.5492 | train_acc: 0.7616 | test_loss: 0.5744 | test_acc: 0.7538 | train_f1: 0.8118 | test_f1: 0.8056\n",
            "Epoch: 13 | train_loss: 0.5605 | train_acc: 0.7377 | test_loss: 0.5429 | test_acc: 0.8149 | train_f1: 0.7936 | test_f1: 0.8557\n",
            "Epoch: 14 | train_loss: 0.5358 | train_acc: 0.7152 | test_loss: 0.5075 | test_acc: 0.8374 | train_f1: 0.7758 | test_f1: 0.8752\n",
            "Epoch: 15 | train_loss: 0.4929 | train_acc: 0.8075 | test_loss: 0.4869 | test_acc: 0.8535 | train_f1: 0.8565 | test_f1: 0.8903\n",
            "Epoch: 16 | train_loss: 0.4775 | train_acc: 0.8149 | test_loss: 0.4805 | test_acc: 0.8613 | train_f1: 0.8605 | test_f1: 0.8970\n",
            "Epoch: 17 | train_loss: 0.5283 | train_acc: 0.7860 | test_loss: 0.4500 | test_acc: 0.8617 | train_f1: 0.8376 | test_f1: 0.8936\n",
            "Epoch: 18 | train_loss: 0.4999 | train_acc: 0.8007 | test_loss: 0.4430 | test_acc: 0.8930 | train_f1: 0.8489 | test_f1: 0.9236\n",
            "Epoch: 19 | train_loss: 0.4810 | train_acc: 0.7841 | test_loss: 0.3965 | test_acc: 0.9302 | train_f1: 0.8348 | test_f1: 0.9503\n",
            "Epoch: 20 | train_loss: 0.4487 | train_acc: 0.7772 | test_loss: 0.4095 | test_acc: 0.9081 | train_f1: 0.8328 | test_f1: 0.9338\n",
            "Epoch: 21 | train_loss: 0.4073 | train_acc: 0.8456 | test_loss: 0.3954 | test_acc: 0.9160 | train_f1: 0.8826 | test_f1: 0.9363\n",
            "Epoch: 22 | train_loss: 0.4573 | train_acc: 0.8007 | test_loss: 0.3679 | test_acc: 0.9463 | train_f1: 0.8575 | test_f1: 0.9595\n",
            "Epoch: 23 | train_loss: 0.4746 | train_acc: 0.8007 | test_loss: 0.3489 | test_acc: 0.9766 | train_f1: 0.8489 | test_f1: 0.9835\n",
            "Epoch: 24 | train_loss: 0.4010 | train_acc: 0.8999 | test_loss: 0.3432 | test_acc: 0.9619 | train_f1: 0.9264 | test_f1: 0.9720\n",
            "Epoch: 25 | train_loss: 0.4097 | train_acc: 0.8466 | test_loss: 0.3373 | test_acc: 0.9692 | train_f1: 0.8883 | test_f1: 0.9785\n",
            "Epoch: 26 | train_loss: 0.3833 | train_acc: 0.8774 | test_loss: 0.3221 | test_acc: 0.9844 | train_f1: 0.9104 | test_f1: 0.9898\n",
            "Epoch: 27 | train_loss: 0.4080 | train_acc: 0.8471 | test_loss: 0.3232 | test_acc: 0.9844 | train_f1: 0.8889 | test_f1: 0.9886\n",
            "Epoch: 28 | train_loss: 0.3492 | train_acc: 0.8530 | test_loss: 0.2961 | test_acc: 0.9844 | train_f1: 0.8884 | test_f1: 0.9900\n",
            "Epoch: 29 | train_loss: 0.3612 | train_acc: 0.9228 | test_loss: 0.2919 | test_acc: 0.9844 | train_f1: 0.9442 | test_f1: 0.9886\n",
            "Epoch: 30 | train_loss: 0.2791 | train_acc: 0.9609 | test_loss: 0.2828 | test_acc: 0.9848 | train_f1: 0.9737 | test_f1: 0.9889\n",
            "Total training time: 1706.190 seconds\n"
          ]
        }
      ],
      "source": [
        "#Tune hyperparameters\n",
        "NUM_EPOCHS = 30\n",
        "criterion = nn.CrossEntropyLoss()\n",
        "optimizer = opt.SGD(model.parameters(), lr =0.0005, momentum = 0.9)\n",
        "\n",
        "# Start the timer\n",
        "from timeit import default_timer as timer \n",
        "start_time = timer()\n",
        "\n",
        "pt_results = train(model=model, \n",
        "                        train_dataloader=train_loader,\n",
        "                        test_dataloader=test_loader,\n",
        "                        optimizer=optimizer,\n",
        "                        loss_fn=criterion, \n",
        "                        epochs=NUM_EPOCHS)\n",
        "\n",
        "# End the timer and print out how long it took\n",
        "end_time = timer()\n",
        "print(f\"Total training time: {end_time-start_time:.3f} seconds\")\n"
      ]
    },
    {
      "cell_type": "markdown",
      "source": [
        "Training and Testing Graphs"
      ],
      "metadata": {
        "id": "hmkw_2QUsRHe"
      }
    },
    {
      "cell_type": "code",
      "execution_count": null,
      "metadata": {
        "id": "-1AoHiC9CpSe",
        "colab": {
          "base_uri": "https://localhost:8080/",
          "height": 458
        },
        "outputId": "e3f7b316-4157-4a9d-df61-c4814090f980"
      },
      "outputs": [
        {
          "output_type": "display_data",
          "data": {
            "text/plain": [
              "<Figure size 1728x504 with 3 Axes>"
            ],
            "image/png": "[encoded data removed]"
          },
          "metadata": {
            "needs_background": "light"
          }
        }
      ],
      "source": [
        "plot_loss_curves(pt_results)"
      ]
    },
    {
      "cell_type": "code",
      "source": [
        "from sklearn.metrics import confusion_matrix\n",
        "import seaborn as sns\n",
        "import numpy as np\n",
        "\n",
        "def CF(model: torch.nn.Module, dataloader: torch.utils.data.DataLoader):\n",
        "  \n",
        "    # Put model in eval mode\n",
        "    model.eval() \n",
        "    y_pred = []\n",
        "    y_true = []\n",
        "    with torch.inference_mode():\n",
        "\n",
        "        for (X, y) in dataloader:\n",
        "          X,y = X.to(device),y.to(device)\n",
        "          output = model(X)\n",
        "          output = (torch.max(torch.exp(output), 1)[1]).data.cpu().numpy()\n",
        "          y_pred.extend(output) # Save Prediction\n",
        "          \n",
        "          y = y.data.cpu().numpy()\n",
        "          y_true.extend(y) # Save Truth\n",
        "            \n",
        "    \n",
        "    cf_matrix = confusion_matrix(y_true, y_pred)\n",
        "    precision = cf_matrix[1,1] / sum(cf_matrix[:,1])\n",
        "    recall    = cf_matrix[1,1] / sum(cf_matrix[1,:])\n",
        "    f1_score  = 2*precision*recall / (precision + recall)\n",
        "\n",
        "    print(\"\\nPrecision={:0.3f}\\nRecall={:0.3f}\\nF1 Score={:0.3f}\".format(precision,recall,f1_score))\n",
        "\n",
        "    group_names = ['True Neg','False Pos','False Neg','True Pos']\n",
        "\n",
        "    group_counts = [\"{0:0.0f}\".format(value) for value in cf_matrix.flatten()]\n",
        "\n",
        "    group_percentages = [\"{0:.2%}\".format(value) for value in cf_matrix.flatten()/np.sum(cf_matrix)]\n",
        "\n",
        "    labels = [f\"{v1}\\n{v2}\\n{v3}\" for v1, v2, v3 in zip(group_names,group_counts,group_percentages)]\n",
        "\n",
        "    labels = np.asarray(labels).reshape(2,2)\n",
        "    return (sns.heatmap(cf_matrix, annot=labels, fmt='', cmap='Reds'))\n",
        "  \n",
        "\n"
      ],
      "metadata": {
        "id": "1OuZLdxzdjhG"
      },
      "execution_count": null,
      "outputs": []
    },
    {
      "cell_type": "markdown",
      "source": [
        "Confusion Matrix"
      ],
      "metadata": {
        "id": "DiID61ezsVpD"
      }
    },
    {
      "cell_type": "code",
      "source": [
        "CF(model,test_loader)"
      ],
      "metadata": {
        "id": "eq_u5oUrewPr",
        "outputId": "f95fa8ef-eaf9-4f82-d8ac-b920f7b29ab7",
        "colab": {
          "base_uri": "https://localhost:8080/",
          "height": 356
        }
      },
      "execution_count": null,
      "outputs": [
        {
          "output_type": "stream",
          "name": "stdout",
          "text": [
            "\n",
            "Precision=0.986\n",
            "Recall=1.000\n",
            "F1 Score=0.993\n"
          ]
        },
        {
          "output_type": "execute_result",
          "data": {
            "text/plain": [
              "<matplotlib.axes._subplots.AxesSubplot at 0x7f95156f1970>"
            ]
          },
          "metadata": {},
          "execution_count": 133
        },
        {
          "output_type": "display_data",
          "data": {
            "text/plain": [
              "<Figure size 432x288 with 2 Axes>"
            ],
            "image/png": "[encoded data removed]"
          },
          "metadata": {
            "needs_background": "light"
          }
        }
      ]
    },
    {
      "cell_type": "code",
      "source": [
        "# Specify a path\n",
        "PATH = \"entire_model.pt\"\n",
        "\n",
        "# Save\n",
        "torch.save(model, PATH)\n",
        "# Load\n",
        "# model = torch.load(PATH)\n",
        "# model.eval()"
      ],
      "metadata": {
        "id": "4EjA4m08LTsL"
      },
      "execution_count": null,
      "outputs": []
    }
  ],
  "metadata": {
    "accelerator": "GPU",
    "colab": {
      "provenance": [],
      "include_colab_link": true
    },
    "gpuClass": "standard",
    "kernelspec": {
      "display_name": "Python 3",
      "name": "python3"
    },
    "language_info": {
      "name": "python"
    },
    "widgets": {
      "application/vnd.jupyter.widget-state+json": {
        "dda54ba76a2a4a78843259df5d8ccaf0": {
          "model_module": "@jupyter-widgets/controls",
          "model_name": "HBoxModel",
          "model_module_version": "1.5.0",
          "state": {
            "_dom_classes": [],
            "_model_module": "@jupyter-widgets/controls",
            "_model_module_version": "1.5.0",
            "_model_name": "HBoxModel",
            "_view_count": null,
            "_view_module": "@jupyter-widgets/controls",
            "_view_module_version": "1.5.0",
            "_view_name": "HBoxView",
            "box_style": "",
            "children": [
              "IPY_MODEL_d5adea620bf6493799d1470d6577e299",
              "IPY_MODEL_8dd500b42417467fb14a0bc22ed1dba8",
              "IPY_MODEL_4a640b49e71844d58b096b5bdd9a8d6d"
            ],
            "layout": "IPY_MODEL_9348848bab33442395c958aedfe12297"
          }
        },
        "d5adea620bf6493799d1470d6577e299": {
          "model_module": "@jupyter-widgets/controls",
          "model_name": "HTMLModel",
          "model_module_version": "1.5.0",
          "state": {
            "_dom_classes": [],
            "_model_module": "@jupyter-widgets/controls",
            "_model_module_version": "1.5.0",
            "_model_name": "HTMLModel",
            "_view_count": null,
            "_view_module": "@jupyter-widgets/controls",
            "_view_module_version": "1.5.0",
            "_view_name": "HTMLView",
            "description": "",
            "description_tooltip": null,
            "layout": "IPY_MODEL_2d42e50e10884042bb93ebb52f7bd286",
            "placeholder": "​",
            "style": "IPY_MODEL_bc75a840a6564a92aaa668880dd58364",
            "value": "100%"
          }
        },
        "8dd500b42417467fb14a0bc22ed1dba8": {
          "model_module": "@jupyter-widgets/controls",
          "model_name": "FloatProgressModel",
          "model_module_version": "1.5.0",
          "state": {
            "_dom_classes": [],
            "_model_module": "@jupyter-widgets/controls",
            "_model_module_version": "1.5.0",
            "_model_name": "FloatProgressModel",
            "_view_count": null,
            "_view_module": "@jupyter-widgets/controls",
            "_view_module_version": "1.5.0",
            "_view_name": "ProgressView",
            "bar_style": "success",
            "description": "",
            "description_tooltip": null,
            "layout": "IPY_MODEL_2b50e9c52dc8405e804b94ff653df9ae",
            "max": 30,
            "min": 0,
            "orientation": "horizontal",
            "style": "IPY_MODEL_c774ef7a5b5a44e0bd5fd9b5d0d3fae3",
            "value": 30
          }
        },
        "4a640b49e71844d58b096b5bdd9a8d6d": {
          "model_module": "@jupyter-widgets/controls",
          "model_name": "HTMLModel",
          "model_module_version": "1.5.0",
          "state": {
            "_dom_classes": [],
            "_model_module": "@jupyter-widgets/controls",
            "_model_module_version": "1.5.0",
            "_model_name": "HTMLModel",
            "_view_count": null,
            "_view_module": "@jupyter-widgets/controls",
            "_view_module_version": "1.5.0",
            "_view_name": "HTMLView",
            "description": "",
            "description_tooltip": null,
            "layout": "IPY_MODEL_9603d967858e4f5d863acf0456258589",
            "placeholder": "​",
            "style": "IPY_MODEL_ec26264fa84943a6b5461fe8164cb6d2",
            "value": " 30/30 [28:26&lt;00:00, 59.42s/it]"
          }
        },
        "9348848bab33442395c958aedfe12297": {
          "model_module": "@jupyter-widgets/base",
          "model_name": "LayoutModel",
          "model_module_version": "1.2.0",
          "state": {
            "_model_module": "@jupyter-widgets/base",
            "_model_module_version": "1.2.0",
            "_model_name": "LayoutModel",
            "_view_count": null,
            "_view_module": "@jupyter-widgets/base",
            "_view_module_version": "1.2.0",
            "_view_name": "LayoutView",
            "align_content": null,
            "align_items": null,
            "align_self": null,
            "border": null,
            "bottom": null,
            "display": null,
            "flex": null,
            "flex_flow": null,
            "grid_area": null,
            "grid_auto_columns": null,
            "grid_auto_flow": null,
            "grid_auto_rows": null,
            "grid_column": null,
            "grid_gap": null,
            "grid_row": null,
            "grid_template_areas": null,
            "grid_template_columns": null,
            "grid_template_rows": null,
            "height": null,
            "justify_content": null,
            "justify_items": null,
            "left": null,
            "margin": null,
            "max_height": null,
            "max_width": null,
            "min_height": null,
            "min_width": null,
            "object_fit": null,
            "object_position": null,
            "order": null,
            "overflow": null,
            "overflow_x": null,
            "overflow_y": null,
            "padding": null,
            "right": null,
            "top": null,
            "visibility": null,
            "width": null
          }
        },
        "2d42e50e10884042bb93ebb52f7bd286": {
          "model_module": "@jupyter-widgets/base",
          "model_name": "LayoutModel",
          "model_module_version": "1.2.0",
          "state": {
            "_model_module": "@jupyter-widgets/base",
            "_model_module_version": "1.2.0",
            "_model_name": "LayoutModel",
            "_view_count": null,
            "_view_module": "@jupyter-widgets/base",
            "_view_module_version": "1.2.0",
            "_view_name": "LayoutView",
            "align_content": null,
            "align_items": null,
            "align_self": null,
            "border": null,
            "bottom": null,
            "display": null,
            "flex": null,
            "flex_flow": null,
            "grid_area": null,
            "grid_auto_columns": null,
            "grid_auto_flow": null,
            "grid_auto_rows": null,
            "grid_column": null,
            "grid_gap": null,
            "grid_row": null,
            "grid_template_areas": null,
            "grid_template_columns": null,
            "grid_template_rows": null,
            "height": null,
            "justify_content": null,
            "justify_items": null,
            "left": null,
            "margin": null,
            "max_height": null,
            "max_width": null,
            "min_height": null,
            "min_width": null,
            "object_fit": null,
            "object_position": null,
            "order": null,
            "overflow": null,
            "overflow_x": null,
            "overflow_y": null,
            "padding": null,
            "right": null,
            "top": null,
            "visibility": null,
            "width": null
          }
        },
        "bc75a840a6564a92aaa668880dd58364": {
          "model_module": "@jupyter-widgets/controls",
          "model_name": "DescriptionStyleModel",
          "model_module_version": "1.5.0",
          "state": {
            "_model_module": "@jupyter-widgets/controls",
            "_model_module_version": "1.5.0",
            "_model_name": "DescriptionStyleModel",
            "_view_count": null,
            "_view_module": "@jupyter-widgets/base",
            "_view_module_version": "1.2.0",
            "_view_name": "StyleView",
            "description_width": ""
          }
        },
        "2b50e9c52dc8405e804b94ff653df9ae": {
          "model_module": "@jupyter-widgets/base",
          "model_name": "LayoutModel",
          "model_module_version": "1.2.0",
          "state": {
            "_model_module": "@jupyter-widgets/base",
            "_model_module_version": "1.2.0",
            "_model_name": "LayoutModel",
            "_view_count": null,
            "_view_module": "@jupyter-widgets/base",
            "_view_module_version": "1.2.0",
            "_view_name": "LayoutView",
            "align_content": null,
            "align_items": null,
            "align_self": null,
            "border": null,
            "bottom": null,
            "display": null,
            "flex": null,
            "flex_flow": null,
            "grid_area": null,
            "grid_auto_columns": null,
            "grid_auto_flow": null,
            "grid_auto_rows": null,
            "grid_column": null,
            "grid_gap": null,
            "grid_row": null,
            "grid_template_areas": null,
            "grid_template_columns": null,
            "grid_template_rows": null,
            "height": null,
            "justify_content": null,
            "justify_items": null,
            "left": null,
            "margin": null,
            "max_height": null,
            "max_width": null,
            "min_height": null,
            "min_width": null,
            "object_fit": null,
            "object_position": null,
            "order": null,
            "overflow": null,
            "overflow_x": null,
            "overflow_y": null,
            "padding": null,
            "right": null,
            "top": null,
            "visibility": null,
            "width": null
          }
        },
        "c774ef7a5b5a44e0bd5fd9b5d0d3fae3": {
          "model_module": "@jupyter-widgets/controls",
          "model_name": "ProgressStyleModel",
          "model_module_version": "1.5.0",
          "state": {
            "_model_module": "@jupyter-widgets/controls",
            "_model_module_version": "1.5.0",
            "_model_name": "ProgressStyleModel",
            "_view_count": null,
            "_view_module": "@jupyter-widgets/base",
            "_view_module_version": "1.2.0",
            "_view_name": "StyleView",
            "bar_color": null,
            "description_width": ""
          }
        },
        "9603d967858e4f5d863acf0456258589": {
          "model_module": "@jupyter-widgets/base",
          "model_name": "LayoutModel",
          "model_module_version": "1.2.0",
          "state": {
            "_model_module": "@jupyter-widgets/base",
            "_model_module_version": "1.2.0",
            "_model_name": "LayoutModel",
            "_view_count": null,
            "_view_module": "@jupyter-widgets/base",
            "_view_module_version": "1.2.0",
            "_view_name": "LayoutView",
            "align_content": null,
            "align_items": null,
            "align_self": null,
            "border": null,
            "bottom": null,
            "display": null,
            "flex": null,
            "flex_flow": null,
            "grid_area": null,
            "grid_auto_columns": null,
            "grid_auto_flow": null,
            "grid_auto_rows": null,
            "grid_column": null,
            "grid_gap": null,
            "grid_row": null,
            "grid_template_areas": null,
            "grid_template_columns": null,
            "grid_template_rows": null,
            "height": null,
            "justify_content": null,
            "justify_items": null,
            "left": null,
            "margin": null,
            "max_height": null,
            "max_width": null,
            "min_height": null,
            "min_width": null,
            "object_fit": null,
            "object_position": null,
            "order": null,
            "overflow": null,
            "overflow_x": null,
            "overflow_y": null,
            "padding": null,
            "right": null,
            "top": null,
            "visibility": null,
            "width": null
          }
        },
        "ec26264fa84943a6b5461fe8164cb6d2": {
          "model_module": "@jupyter-widgets/controls",
          "model_name": "DescriptionStyleModel",
          "model_module_version": "1.5.0",
          "state": {
            "_model_module": "@jupyter-widgets/controls",
            "_model_module_version": "1.5.0",
            "_model_name": "DescriptionStyleModel",
            "_view_count": null,
            "_view_module": "@jupyter-widgets/base",
            "_view_module_version": "1.2.0",
            "_view_name": "StyleView",
            "description_width": ""
          }
        }
      }
    }
  },
  "nbformat": 4,
  "nbformat_minor": 0
}