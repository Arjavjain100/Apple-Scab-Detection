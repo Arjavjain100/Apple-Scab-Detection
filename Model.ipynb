{
  "cells": [
    {
      "cell_type": "markdown",
      "metadata": {
        "id": "view-in-github",
        "colab_type": "text"
      },
      "source": [
        "<a href=\"https://colab.research.google.com/github/Arjavjain100/Apple-Scab-Detection/blob/main/Model.ipynb\" target=\"_parent\"><img src=\"https://colab.research.google.com/assets/colab-badge.svg\" alt=\"Open In Colab\"/></a>"
      ]
    },
    {
      "cell_type": "code",
      "execution_count": null,
      "metadata": {
        "id": "gIcgjnzepVAT"
      },
      "outputs": [],
      "source": [
        "import torch\n",
        "import torch.nn as nn\n",
        "import torch.nn.functional as F\n",
        "import torch.optim as opt\n",
        "from torchvision import datasets, transforms, models"
      ]
    },
    {
      "cell_type": "code",
      "execution_count": null,
      "metadata": {
        "id": "RLB9W7cLp6DQ"
      },
      "outputs": [],
      "source": [
        "\n",
        "class AlexNet(nn.Module):\n",
        "    def __init__(self, num_classes=10):\n",
        "        super(AlexNet, self).__init__()\n",
        "        self.layer1 = nn.Sequential(\n",
        "            nn.Conv2d(3, 96, kernel_size=11, stride=4, padding=0),\n",
        "            nn.BatchNorm2d(96),\n",
        "            nn.ReLU(),\n",
        "            nn.MaxPool2d(kernel_size = 3, stride = 2, padding=0))\n",
        "        self.layer2 = nn.Sequential(\n",
        "            nn.Conv2d(96, 256, kernel_size=5, stride=1, padding=2),\n",
        "            nn.BatchNorm2d(256),\n",
        "            nn.ReLU(),\n",
        "            nn.MaxPool2d(kernel_size = 3, stride = 2))\n",
        "        self.layer3 = nn.Sequential(\n",
        "            nn.Conv2d(256, 384, kernel_size=3, stride=1, padding=1),\n",
        "            nn.BatchNorm2d(384),\n",
        "            nn.ReLU())\n",
        "        self.layer4 = nn.Sequential(\n",
        "            nn.Conv2d(384, 384, kernel_size=3, stride=1, padding=1),\n",
        "            nn.BatchNorm2d(384),\n",
        "            nn.ReLU())\n",
        "        self.layer5 = nn.Sequential(\n",
        "            nn.Conv2d(384, 256, kernel_size=3, stride=1, padding=1),\n",
        "            nn.BatchNorm2d(256),\n",
        "            nn.ReLU(),\n",
        "            nn.MaxPool2d(kernel_size = 3, stride = 2))\n",
        "        self.fc = nn.Sequential(\n",
        "            nn.Dropout(0.5),\n",
        "            nn.Linear(9216, 4096),\n",
        "            nn.ReLU())\n",
        "        self.fc1 = nn.Sequential(\n",
        "            nn.Dropout(0.5),\n",
        "            nn.Linear(4096, 4096),\n",
        "            nn.ReLU())\n",
        "        self.fc2= nn.Sequential(\n",
        "            nn.Linear(4096, num_classes))\n",
        "        \n",
        "    def forward(self, x):\n",
        "        # print(x.shape)\n",
        "        out = self.layer1(x)\n",
        "        # print(out.shape)\n",
        "        out = self.layer2(out)\n",
        "        # print(out.shape)\n",
        "        out = self.layer3(out)\n",
        "        # print(out.shape)\n",
        "        out = self.layer4(out)\n",
        "        # print(out.shape)\n",
        "        out = self.layer5(out)\n",
        "        # print(out.shape)\n",
        "        out = torch.flatten(out, start_dim =1)\n",
        "        # print(out.shape)\n",
        "        out = self.fc(out)\n",
        "        # print(out.shape)\n",
        "        out = self.fc1(out)\n",
        "        # print(out.shape)\n",
        "        out = self.fc2(out)\n",
        "        # print(out.shape)\n",
        "        return out"
      ]
    },
    {
      "cell_type": "code",
      "execution_count": null,
      "metadata": {
        "id": "Kp200KbN1Fry"
      },
      "outputs": [],
      "source": [
        "def train(model, epochs, criterion, optimizer, trainloader, testloader, device):\n",
        "  \n",
        "  total_step = len(trainloader)\n",
        "\n",
        "  for epoch in range(epochs):\n",
        "      for i, (images, labels) in enumerate(trainloader):  \n",
        "          # Move tensors to the configured device\n",
        "          images = images.to(device)\n",
        "          labels = labels.to(device)\n",
        "          \n",
        "          # Forward pass\n",
        "          outputs = model(images)\n",
        "          loss = criterion(outputs, labels)\n",
        "          \n",
        "          # Backward and optimize\n",
        "          optimizer.zero_grad()\n",
        "          loss.backward()\n",
        "          optimizer.step()\n",
        "\n",
        "          print ('Epoch [{}/{}], Step [{}/{}], Loss: {:.4f}' \n",
        "                    .format(epoch+1, epochs, i+1, total_step, loss.item()))\n",
        "              \n",
        "      # Validation\n",
        "      with torch.no_grad():\n",
        "          correct = 0\n",
        "          total = 0\n",
        "          for images, labels in testloader:\n",
        "              images = images.to(device)\n",
        "              labels = labels.to(device)\n",
        "              outputs = model(images)\n",
        "              _, predicted = torch.max(outputs.data, 1)\n",
        "              total += labels.size(0)\n",
        "              correct += (predicted == labels).sum().item()\n",
        "              del images, labels, outputs\n",
        "      \n",
        "          print('Validation Accuracy: {} %'.format(100 * correct / total)) "
      ]
    },
    {
      "cell_type": "code",
      "execution_count": null,
      "metadata": {
        "colab": {
          "base_uri": "https://localhost:8080/"
        },
        "id": "ywOkNd3bwBdp",
        "outputId": "2417dfde-9e7f-4e05-9261-9047307d4fa3"
      },
      "outputs": [
        {
          "data": {
            "text/plain": [
              "device(type='cuda')"
            ]
          },
          "execution_count": 13,
          "metadata": {},
          "output_type": "execute_result"
        }
      ],
      "source": [
        "device = torch.device('cuda' if torch.cuda.is_available() else 'cpu')\n",
        "device"
      ]
    },
    {
      "cell_type": "code",
      "execution_count": null,
      "metadata": {
        "colab": {
          "base_uri": "https://localhost:8080/"
        },
        "id": "uZZ4MNbbUzSS",
        "outputId": "7149c378-18ab-4396-dd70-1a5dd861032d"
      },
      "outputs": [
        {
          "data": {
            "text/plain": [
              "AlexNet(\n",
              "  (layer1): Sequential(\n",
              "    (0): Conv2d(3, 96, kernel_size=(11, 11), stride=(4, 4))\n",
              "    (1): BatchNorm2d(96, eps=1e-05, momentum=0.1, affine=True, track_running_stats=True)\n",
              "    (2): ReLU()\n",
              "    (3): MaxPool2d(kernel_size=3, stride=2, padding=0, dilation=1, ceil_mode=False)\n",
              "  )\n",
              "  (layer2): Sequential(\n",
              "    (0): Conv2d(96, 256, kernel_size=(5, 5), stride=(1, 1), padding=(2, 2))\n",
              "    (1): BatchNorm2d(256, eps=1e-05, momentum=0.1, affine=True, track_running_stats=True)\n",
              "    (2): ReLU()\n",
              "    (3): MaxPool2d(kernel_size=3, stride=2, padding=0, dilation=1, ceil_mode=False)\n",
              "  )\n",
              "  (layer3): Sequential(\n",
              "    (0): Conv2d(256, 384, kernel_size=(3, 3), stride=(1, 1), padding=(1, 1))\n",
              "    (1): BatchNorm2d(384, eps=1e-05, momentum=0.1, affine=True, track_running_stats=True)\n",
              "    (2): ReLU()\n",
              "  )\n",
              "  (layer4): Sequential(\n",
              "    (0): Conv2d(384, 384, kernel_size=(3, 3), stride=(1, 1), padding=(1, 1))\n",
              "    (1): BatchNorm2d(384, eps=1e-05, momentum=0.1, affine=True, track_running_stats=True)\n",
              "    (2): ReLU()\n",
              "  )\n",
              "  (layer5): Sequential(\n",
              "    (0): Conv2d(384, 256, kernel_size=(3, 3), stride=(1, 1), padding=(1, 1))\n",
              "    (1): BatchNorm2d(256, eps=1e-05, momentum=0.1, affine=True, track_running_stats=True)\n",
              "    (2): ReLU()\n",
              "    (3): MaxPool2d(kernel_size=3, stride=2, padding=0, dilation=1, ceil_mode=False)\n",
              "  )\n",
              "  (fc): Sequential(\n",
              "    (0): Dropout(p=0.5, inplace=False)\n",
              "    (1): Linear(in_features=9216, out_features=4096, bias=True)\n",
              "    (2): ReLU()\n",
              "  )\n",
              "  (fc1): Sequential(\n",
              "    (0): Dropout(p=0.5, inplace=False)\n",
              "    (1): Linear(in_features=4096, out_features=4096, bias=True)\n",
              "    (2): ReLU()\n",
              "  )\n",
              "  (fc2): Sequential(\n",
              "    (0): Linear(in_features=4096, out_features=2, bias=True)\n",
              "  )\n",
              ")"
            ]
          },
          "execution_count": 14,
          "metadata": {},
          "output_type": "execute_result"
        }
      ],
      "source": [
        "model = AlexNet(2)\n",
        "optimizer = opt.Adam(model.parameters(),lr=0.001)\n",
        "criterion = nn.CrossEntropyLoss()\n",
        "model = model.to(device)\n",
        "model"
      ]
    },
    {
      "cell_type": "code",
      "execution_count": null,
      "metadata": {
        "id": "DyqG2K8SWQ3t"
      },
      "outputs": [],
      "source": [
        "batch_size = 16\n",
        "\n",
        "transform = {\n",
        "    'train': transforms.Compose([\n",
        "        transforms.ToTensor(),\n",
        "        transforms.Resize((227, 227)),\n",
        "        transforms.Normalize(mean=[0.485, 0.456, 0.406],\n",
        "                             std=[0.229, 0.224, 0.225])]),\n",
        "    'test': transforms.Compose([\n",
        "        transforms.ToTensor(),\n",
        "        transforms.Resize((227, 227)),\n",
        "        transforms.Normalize(mean=[0.485, 0.456, 0.406],\n",
        "                             std=[0.229, 0.224, 0.225])])\n",
        "}\n",
        "test_data = datasets.ImageFolder('/content/drive/MyDrive/Minor Project 1/Augmented Dataset/Test', transform = transform['test'])\n",
        "train_data = datasets.ImageFolder('/content/drive/MyDrive/Minor Project 1/Augmented Dataset/Train',  transform = transform['train'])\n",
        "train_loader = torch.utils.data.DataLoader(\n",
        "    train_data, shuffle=True, batch_size=batch_size)\n",
        "test_loader = torch.utils.data.DataLoader(\n",
        "    test_data, shuffle=True, batch_size=batch_size)\n"
      ]
    },
    {
      "cell_type": "code",
      "execution_count": null,
      "metadata": {
        "colab": {
          "background_save": true,
          "base_uri": "https://localhost:8080/"
        },
        "id": "JSTJcaMVVomy",
        "outputId": "8ce375ff-0a4a-4b96-bded-65334a42fb8a"
      },
      "outputs": [
        {
          "name": "stdout",
          "output_type": "stream",
          "text": [
            "Epoch [1/10], Step [1/17], Loss: 0.7744\n",
            "Epoch [1/10], Step [2/17], Loss: 43.7225\n",
            "Epoch [1/10], Step [3/17], Loss: 20.0636\n",
            "Epoch [1/10], Step [4/17], Loss: 1.9246\n",
            "Epoch [1/10], Step [5/17], Loss: 2.9387\n",
            "Epoch [1/10], Step [6/17], Loss: 1.6263\n",
            "Epoch [1/10], Step [7/17], Loss: 0.8443\n",
            "Epoch [1/10], Step [8/17], Loss: 0.8461\n",
            "Epoch [1/10], Step [9/17], Loss: 0.5260\n",
            "Epoch [1/10], Step [10/17], Loss: 0.8043\n",
            "Epoch [1/10], Step [11/17], Loss: 0.6214\n",
            "Epoch [1/10], Step [12/17], Loss: 0.8151\n",
            "Epoch [1/10], Step [13/17], Loss: 0.7098\n",
            "Epoch [1/10], Step [14/17], Loss: 0.5998\n",
            "Epoch [1/10], Step [15/17], Loss: 0.6105\n",
            "Epoch [1/10], Step [16/17], Loss: 0.8261\n",
            "Epoch [1/10], Step [17/17], Loss: 0.4384\n",
            "Validation Accuracy: 53.84615384615385 %\n",
            "Epoch [2/10], Step [1/17], Loss: 0.5769\n",
            "Epoch [2/10], Step [2/17], Loss: 0.7618\n",
            "Epoch [2/10], Step [3/17], Loss: 0.6961\n",
            "Epoch [2/10], Step [4/17], Loss: 0.5777\n",
            "Epoch [2/10], Step [5/17], Loss: 0.4527\n",
            "Epoch [2/10], Step [6/17], Loss: 0.5947\n",
            "Epoch [2/10], Step [7/17], Loss: 0.5118\n",
            "Epoch [2/10], Step [8/17], Loss: 0.4786\n",
            "Epoch [2/10], Step [9/17], Loss: 0.7559\n",
            "Epoch [2/10], Step [10/17], Loss: 0.6109\n",
            "Epoch [2/10], Step [11/17], Loss: 0.8008\n",
            "Epoch [2/10], Step [12/17], Loss: 0.3641\n",
            "Epoch [2/10], Step [13/17], Loss: 0.6309\n",
            "Epoch [2/10], Step [14/17], Loss: 0.6987\n",
            "Epoch [2/10], Step [15/17], Loss: 0.4369\n",
            "Epoch [2/10], Step [16/17], Loss: 0.6563\n",
            "Epoch [2/10], Step [17/17], Loss: 0.1870\n",
            "Validation Accuracy: 52.99145299145299 %\n",
            "Epoch [3/10], Step [1/17], Loss: 0.9279\n",
            "Epoch [3/10], Step [2/17], Loss: 0.6188\n",
            "Epoch [3/10], Step [3/17], Loss: 0.5105\n",
            "Epoch [3/10], Step [4/17], Loss: 0.4555\n",
            "Epoch [3/10], Step [5/17], Loss: 0.5420\n",
            "Epoch [3/10], Step [6/17], Loss: 0.4662\n",
            "Epoch [3/10], Step [7/17], Loss: 0.6965\n",
            "Epoch [3/10], Step [8/17], Loss: 0.4936\n",
            "Epoch [3/10], Step [9/17], Loss: 0.3160\n",
            "Epoch [3/10], Step [10/17], Loss: 0.4968\n",
            "Epoch [3/10], Step [11/17], Loss: 0.3500\n",
            "Epoch [3/10], Step [12/17], Loss: 0.5108\n",
            "Epoch [3/10], Step [13/17], Loss: 0.7793\n",
            "Epoch [3/10], Step [14/17], Loss: 0.3341\n",
            "Epoch [3/10], Step [15/17], Loss: 0.4080\n",
            "Epoch [3/10], Step [16/17], Loss: 0.4397\n",
            "Epoch [3/10], Step [17/17], Loss: 0.9096\n",
            "Validation Accuracy: 44.44444444444444 %\n",
            "Epoch [4/10], Step [1/17], Loss: 0.4769\n",
            "Epoch [4/10], Step [2/17], Loss: 0.4002\n",
            "Epoch [4/10], Step [3/17], Loss: 0.2047\n",
            "Epoch [4/10], Step [4/17], Loss: 0.5931\n",
            "Epoch [4/10], Step [5/17], Loss: 0.6130\n",
            "Epoch [4/10], Step [6/17], Loss: 0.4149\n",
            "Epoch [4/10], Step [7/17], Loss: 0.8212\n",
            "Epoch [4/10], Step [8/17], Loss: 0.4626\n",
            "Epoch [4/10], Step [9/17], Loss: 0.1673\n",
            "Epoch [4/10], Step [10/17], Loss: 0.3052\n",
            "Epoch [4/10], Step [11/17], Loss: 0.4154\n",
            "Epoch [4/10], Step [12/17], Loss: 0.2807\n",
            "Epoch [4/10], Step [13/17], Loss: 0.5306\n",
            "Epoch [4/10], Step [14/17], Loss: 0.1356\n",
            "Epoch [4/10], Step [15/17], Loss: 0.3873\n",
            "Epoch [4/10], Step [16/17], Loss: 0.0588\n",
            "Epoch [4/10], Step [17/17], Loss: 2.2799\n",
            "Validation Accuracy: 47.863247863247864 %\n",
            "Epoch [5/10], Step [1/17], Loss: 0.2900\n",
            "Epoch [5/10], Step [2/17], Loss: 0.2004\n",
            "Epoch [5/10], Step [3/17], Loss: 0.5520\n",
            "Epoch [5/10], Step [4/17], Loss: 0.4786\n",
            "Epoch [5/10], Step [5/17], Loss: 0.4336\n",
            "Epoch [5/10], Step [6/17], Loss: 0.2938\n",
            "Epoch [5/10], Step [7/17], Loss: 0.2203\n",
            "Epoch [5/10], Step [8/17], Loss: 0.5345\n",
            "Epoch [5/10], Step [9/17], Loss: 0.2058\n",
            "Epoch [5/10], Step [10/17], Loss: 0.2013\n",
            "Epoch [5/10], Step [11/17], Loss: 0.5973\n",
            "Epoch [5/10], Step [12/17], Loss: 0.1733\n",
            "Epoch [5/10], Step [13/17], Loss: 0.4362\n",
            "Epoch [5/10], Step [14/17], Loss: 0.1118\n",
            "Epoch [5/10], Step [15/17], Loss: 0.4325\n",
            "Epoch [5/10], Step [16/17], Loss: 0.6037\n",
            "Epoch [5/10], Step [17/17], Loss: 0.0649\n",
            "Validation Accuracy: 40.17094017094017 %\n",
            "Epoch [6/10], Step [1/17], Loss: 0.1238\n",
            "Epoch [6/10], Step [2/17], Loss: 0.1224\n",
            "Epoch [6/10], Step [3/17], Loss: 0.4234\n",
            "Epoch [6/10], Step [4/17], Loss: 0.3169\n",
            "Epoch [6/10], Step [5/17], Loss: 0.3808\n",
            "Epoch [6/10], Step [6/17], Loss: 0.2374\n",
            "Epoch [6/10], Step [7/17], Loss: 0.8404\n",
            "Epoch [6/10], Step [8/17], Loss: 0.3577\n",
            "Epoch [6/10], Step [9/17], Loss: 0.2615\n",
            "Epoch [6/10], Step [10/17], Loss: 0.2855\n",
            "Epoch [6/10], Step [11/17], Loss: 0.2021\n",
            "Epoch [6/10], Step [12/17], Loss: 0.2466\n",
            "Epoch [6/10], Step [13/17], Loss: 0.3671\n",
            "Epoch [6/10], Step [14/17], Loss: 0.2114\n",
            "Epoch [6/10], Step [15/17], Loss: 0.2662\n",
            "Epoch [6/10], Step [16/17], Loss: 0.2941\n",
            "Epoch [6/10], Step [17/17], Loss: 0.0550\n",
            "Validation Accuracy: 47.00854700854701 %\n",
            "Epoch [7/10], Step [1/17], Loss: 0.1398\n",
            "Epoch [7/10], Step [2/17], Loss: 0.1585\n",
            "Epoch [7/10], Step [3/17], Loss: 0.1376\n",
            "Epoch [7/10], Step [4/17], Loss: 0.5429\n",
            "Epoch [7/10], Step [5/17], Loss: 0.0780\n",
            "Epoch [7/10], Step [6/17], Loss: 0.2741\n",
            "Epoch [7/10], Step [7/17], Loss: 0.1261\n",
            "Epoch [7/10], Step [8/17], Loss: 0.2607\n",
            "Epoch [7/10], Step [9/17], Loss: 0.2988\n",
            "Epoch [7/10], Step [10/17], Loss: 0.6712\n",
            "Epoch [7/10], Step [11/17], Loss: 0.1426\n",
            "Epoch [7/10], Step [12/17], Loss: 0.2941\n",
            "Epoch [7/10], Step [13/17], Loss: 0.2466\n",
            "Epoch [7/10], Step [14/17], Loss: 0.3717\n",
            "Epoch [7/10], Step [15/17], Loss: 0.1122\n",
            "Epoch [7/10], Step [16/17], Loss: 0.2011\n",
            "Epoch [7/10], Step [17/17], Loss: 0.1439\n",
            "Validation Accuracy: 47.863247863247864 %\n",
            "Epoch [8/10], Step [1/17], Loss: 0.3531\n",
            "Epoch [8/10], Step [2/17], Loss: 0.1084\n",
            "Epoch [8/10], Step [3/17], Loss: 0.3095\n",
            "Epoch [8/10], Step [4/17], Loss: 0.7558\n",
            "Epoch [8/10], Step [5/17], Loss: 0.0767\n",
            "Epoch [8/10], Step [6/17], Loss: 0.1669\n",
            "Epoch [8/10], Step [7/17], Loss: 0.1171\n",
            "Epoch [8/10], Step [8/17], Loss: 0.3245\n",
            "Epoch [8/10], Step [9/17], Loss: 0.6087\n",
            "Epoch [8/10], Step [10/17], Loss: 0.2767\n",
            "Epoch [8/10], Step [11/17], Loss: 0.0551\n",
            "Epoch [8/10], Step [12/17], Loss: 0.0910\n",
            "Epoch [8/10], Step [13/17], Loss: 0.4033\n",
            "Epoch [8/10], Step [14/17], Loss: 0.5865\n",
            "Epoch [8/10], Step [15/17], Loss: 0.5013\n",
            "Epoch [8/10], Step [16/17], Loss: 0.5889\n",
            "Epoch [8/10], Step [17/17], Loss: 2.7235\n",
            "Validation Accuracy: 43.58974358974359 %\n",
            "Epoch [9/10], Step [1/17], Loss: 0.3384\n",
            "Epoch [9/10], Step [2/17], Loss: 0.1183\n",
            "Epoch [9/10], Step [3/17], Loss: 0.4112\n",
            "Epoch [9/10], Step [4/17], Loss: 0.7115\n",
            "Epoch [9/10], Step [5/17], Loss: 0.5215\n",
            "Epoch [9/10], Step [6/17], Loss: 0.6173\n",
            "Epoch [9/10], Step [7/17], Loss: 0.2009\n",
            "Epoch [9/10], Step [8/17], Loss: 0.3448\n",
            "Epoch [9/10], Step [9/17], Loss: 0.2658\n",
            "Epoch [9/10], Step [10/17], Loss: 0.3847\n",
            "Epoch [9/10], Step [11/17], Loss: 0.2525\n",
            "Epoch [9/10], Step [12/17], Loss: 0.3198\n",
            "Epoch [9/10], Step [13/17], Loss: 0.5008\n",
            "Epoch [9/10], Step [14/17], Loss: 0.1980\n",
            "Epoch [9/10], Step [15/17], Loss: 0.6488\n",
            "Epoch [9/10], Step [16/17], Loss: 0.4127\n",
            "Epoch [9/10], Step [17/17], Loss: 0.0038\n",
            "Validation Accuracy: 47.00854700854701 %\n",
            "Epoch [10/10], Step [1/17], Loss: 0.9405\n",
            "Epoch [10/10], Step [2/17], Loss: 0.8469\n",
            "Epoch [10/10], Step [3/17], Loss: 0.1808\n",
            "Epoch [10/10], Step [4/17], Loss: 0.0422\n",
            "Epoch [10/10], Step [5/17], Loss: 0.0759\n",
            "Epoch [10/10], Step [6/17], Loss: 1.5879\n",
            "Epoch [10/10], Step [7/17], Loss: 0.1500\n",
            "Epoch [10/10], Step [8/17], Loss: 0.1782\n",
            "Epoch [10/10], Step [9/17], Loss: 0.1417\n",
            "Epoch [10/10], Step [10/17], Loss: 0.2818\n",
            "Epoch [10/10], Step [11/17], Loss: 0.2855\n",
            "Epoch [10/10], Step [12/17], Loss: 0.1127\n",
            "Epoch [10/10], Step [13/17], Loss: 0.1950\n",
            "Epoch [10/10], Step [14/17], Loss: 0.1687\n",
            "Epoch [10/10], Step [15/17], Loss: 0.0817\n",
            "Epoch [10/10], Step [16/17], Loss: 0.3874\n",
            "Epoch [10/10], Step [17/17], Loss: 0.8813\n",
            "Validation Accuracy: 47.00854700854701 %\n"
          ]
        }
      ],
      "source": [
        "train(model, 10 , criterion, optimizer, train_loader, test_loader, device)"
      ]
    },
    {
      "cell_type": "code",
      "execution_count": null,
      "metadata": {
        "colab": {
          "background_save": true
        },
        "id": "u9vM_fsKZtof",
        "outputId": "ffdb37e9-f91c-4467-b53a-e24a5bcaa12a"
      },
      "outputs": [
        {
          "data": {
            "text/plain": [
              "Sequential(\n",
              "  (0): AlexNet(\n",
              "    (features): Sequential(\n",
              "      (0): Conv2d(3, 64, kernel_size=(11, 11), stride=(4, 4), padding=(2, 2))\n",
              "      (1): ReLU(inplace=True)\n",
              "      (2): MaxPool2d(kernel_size=3, stride=2, padding=0, dilation=1, ceil_mode=False)\n",
              "      (3): Conv2d(64, 192, kernel_size=(5, 5), stride=(1, 1), padding=(2, 2))\n",
              "      (4): ReLU(inplace=True)\n",
              "      (5): MaxPool2d(kernel_size=3, stride=2, padding=0, dilation=1, ceil_mode=False)\n",
              "      (6): Conv2d(192, 384, kernel_size=(3, 3), stride=(1, 1), padding=(1, 1))\n",
              "      (7): ReLU(inplace=True)\n",
              "      (8): Conv2d(384, 256, kernel_size=(3, 3), stride=(1, 1), padding=(1, 1))\n",
              "      (9): ReLU(inplace=True)\n",
              "      (10): Conv2d(256, 256, kernel_size=(3, 3), stride=(1, 1), padding=(1, 1))\n",
              "      (11): ReLU(inplace=True)\n",
              "      (12): MaxPool2d(kernel_size=3, stride=2, padding=0, dilation=1, ceil_mode=False)\n",
              "    )\n",
              "    (avgpool): AdaptiveAvgPool2d(output_size=(6, 6))\n",
              "    (classifier): Sequential(\n",
              "      (0): Dropout(p=0.5, inplace=False)\n",
              "      (1): Linear(in_features=9216, out_features=4096, bias=True)\n",
              "      (2): ReLU(inplace=True)\n",
              "      (3): Dropout(p=0.5, inplace=False)\n",
              "      (4): Linear(in_features=4096, out_features=4096, bias=True)\n",
              "      (5): ReLU(inplace=True)\n",
              "      (6): Linear(in_features=4096, out_features=1000, bias=True)\n",
              "    )\n",
              "  )\n",
              "  (1): Linear(in_features=1000, out_features=2, bias=True)\n",
              ")"
            ]
          },
          "execution_count": 17,
          "metadata": {},
          "output_type": "execute_result"
        }
      ],
      "source": [
        "alex = models.alexnet(pretrained=True)\n",
        "\n",
        "net_add =  nn.Linear(1000, 2)\n",
        "model_pt = nn.Sequential(alex, net_add)\n",
        "model_pt = model_pt.to(device)\n",
        "\n",
        "model_pt"
      ]
    },
    {
      "cell_type": "code",
      "execution_count": null,
      "metadata": {
        "id": "FWh9VjSEfLey"
      },
      "outputs": [],
      "source": [
        "train(model_pt, 20 , criterion, optimizer, train_loader, test_loader, device)"
      ]
    },
    {
      "cell_type": "code",
      "execution_count": null,
      "metadata": {
        "id": "l3T8OcxlqHvn"
      },
      "outputs": [],
      "source": []
    }
  ],
  "metadata": {
    "accelerator": "GPU",
    "colab": {
      "collapsed_sections": [],
      "provenance": [],
      "mount_file_id": "1KQrpj8-JNkHPId-bRg7sWWHksjcNB4Xu",
      "authorship_tag": "ABX9TyMC7q5wg37j0r5sUGUVVV5X",
      "include_colab_link": true
    },
    "gpuClass": "standard",
    "kernelspec": {
      "display_name": "Python 3",
      "name": "python3"
    },
    "language_info": {
      "name": "python"
    }
  },
  "nbformat": 4,
  "nbformat_minor": 0
}