{
  "cells": [
    {
      "cell_type": "markdown",
      "metadata": {
        "id": "view-in-github",
        "colab_type": "text"
      },
      "source": [
        "<a href=\"https://colab.research.google.com/github/Arjavjain100/Apple-Scab-Detection/blob/main/Efficient.ipynb\" target=\"_parent\"><img src=\"https://colab.research.google.com/assets/colab-badge.svg\" alt=\"Open In Colab\"/></a>"
      ]
    },
    {
      "cell_type": "code",
      "execution_count": 1,
      "metadata": {
        "colab": {
          "base_uri": "https://localhost:8080/"
        },
        "id": "IgS9hK859Ts5",
        "outputId": "18c48f66-2a1b-4c03-efa6-61d8d581dd21"
      },
      "outputs": [
        {
          "output_type": "stream",
          "name": "stdout",
          "text": [
            "Looking in indexes: https://pypi.org/simple, https://us-python.pkg.dev/colab-wheels/public/simple/\n",
            "Collecting torchinfo\n",
            "  Downloading torchinfo-1.7.1-py3-none-any.whl (22 kB)\n",
            "Installing collected packages: torchinfo\n",
            "Successfully installed torchinfo-1.7.1\n"
          ]
        }
      ],
      "source": [
        "!pip install torchinfo"
      ]
    },
    {
      "cell_type": "code",
      "execution_count": 2,
      "metadata": {
        "colab": {
          "base_uri": "https://localhost:8080/"
        },
        "id": "zycdm4nqBonf",
        "outputId": "d779ac50-2f49-4431-fd71-a80ae43fbc38"
      },
      "outputs": [
        {
          "output_type": "stream",
          "name": "stdout",
          "text": [
            "Cloning into 'Apple-Scab-Detection'...\n",
            "remote: Enumerating objects: 570, done.\u001b[K\n",
            "remote: Counting objects: 100% (60/60), done.\u001b[K\n",
            "remote: Compressing objects: 100% (37/37), done.\u001b[K\n",
            "remote: Total 570 (delta 26), reused 48 (delta 21), pack-reused 510\u001b[K\n",
            "Receiving objects: 100% (570/570), 1.17 GiB | 17.58 MiB/s, done.\n",
            "Resolving deltas: 100% (29/29), done.\n",
            "Checking out files: 100% (1032/1032), done.\n"
          ]
        }
      ],
      "source": [
        "!git clone \"https://github.com/Arjavjain100/Apple-Scab-Detection.git\""
      ]
    },
    {
      "cell_type": "code",
      "execution_count": 3,
      "metadata": {
        "id": "gIcgjnzepVAT"
      },
      "outputs": [],
      "source": [
        "# Importing required libraries\n",
        "import torch\n",
        "import torch.nn as nn\n",
        "import torch.nn.functional as F\n",
        "import torch.optim as opt\n",
        "from torchvision import datasets, transforms, models\n",
        "from tqdm.auto import tqdm\n",
        "from torchinfo import summary\n",
        "import matplotlib.pyplot as plt"
      ]
    },
    {
      "cell_type": "code",
      "execution_count": 4,
      "metadata": {
        "id": "0p2IgYKz9rjc"
      },
      "outputs": [],
      "source": [
        "torch.manual_seed(42) \n",
        "torch.cuda.manual_seed(42)"
      ]
    },
    {
      "cell_type": "code",
      "execution_count": 5,
      "metadata": {
        "id": "yB7nF4vn46SP"
      },
      "outputs": [],
      "source": [
        "def train_step(model: torch.nn.Module, \n",
        "               dataloader: torch.utils.data.DataLoader, \n",
        "               loss_fn: torch.nn.Module, \n",
        "               optimizer: torch.optim.Optimizer):\n",
        "    # Put model in train mode\n",
        "    model.train()\n",
        "    \n",
        "    # Setup train loss and train accuracy values\n",
        "    train_loss, train_acc = 0, 0\n",
        "    \n",
        "    # Loop through data loader data batches\n",
        "    for batch, (X, y) in enumerate(dataloader):\n",
        "        # Send data to target device\n",
        "        X, y = X.to(device), y.to(device)\n",
        "\n",
        "        # 1. Forward pass\n",
        "        y_pred = model(X)\n",
        "\n",
        "        # 2. Calculate  and accumulate loss\n",
        "        loss = loss_fn(y_pred, y)\n",
        "        train_loss += loss.item() \n",
        "\n",
        "        # 3. Optimizer zero grad\n",
        "        optimizer.zero_grad()\n",
        "\n",
        "        # 4. Loss backward\n",
        "        loss.backward()\n",
        "\n",
        "        # 5. Optimizer step\n",
        "        optimizer.step()\n",
        "\n",
        "        # Calculate and accumulate accuracy metric across all batches\n",
        "        y_pred_class = torch.argmax(torch.softmax(y_pred, dim=1), dim=1)\n",
        "        train_acc += (y_pred_class == y).sum().item()/len(y_pred)\n",
        "\n",
        "    # Adjust metrics to get average loss and accuracy per batch \n",
        "    train_loss = train_loss / len(dataloader)\n",
        "    train_acc = train_acc / len(dataloader)\n",
        "    return train_loss, train_acc"
      ]
    },
    {
      "cell_type": "code",
      "execution_count": 6,
      "metadata": {
        "id": "xRvo7Tx446ly"
      },
      "outputs": [],
      "source": [
        "def test_step(model: torch.nn.Module, \n",
        "              dataloader: torch.utils.data.DataLoader, \n",
        "              loss_fn: torch.nn.Module):\n",
        "    # Put model in eval mode\n",
        "    model.eval() \n",
        "    \n",
        "    # Setup test loss and test accuracy values\n",
        "    test_loss, test_acc = 0, 0\n",
        "    \n",
        "    # Turn on inference context manager\n",
        "    with torch.inference_mode():\n",
        "        # Loop through DataLoader batches\n",
        "        for batch, (X, y) in enumerate(dataloader):\n",
        "            # Send data to target device\n",
        "            X, y = X.to(device), y.to(device)\n",
        "    \n",
        "            # 1. Forward pass\n",
        "            test_pred_logits = model(X)\n",
        "\n",
        "            # 2. Calculate and accumulate loss\n",
        "            loss = loss_fn(test_pred_logits, y)\n",
        "            test_loss += loss.item()\n",
        "            \n",
        "            # Calculate and accumulate accuracy\n",
        "            test_pred_labels = test_pred_logits.argmax(dim=1)\n",
        "            test_acc += ((test_pred_labels == y).sum().item()/len(test_pred_labels))\n",
        "            \n",
        "    # Adjust metrics to get average loss and accuracy per batch \n",
        "    test_loss = test_loss / len(dataloader)\n",
        "    test_acc = test_acc / len(dataloader)\n",
        "    return test_loss, test_acc"
      ]
    },
    {
      "cell_type": "code",
      "execution_count": 7,
      "metadata": {
        "id": "QjMO-hdH462K"
      },
      "outputs": [],
      "source": [
        "\n",
        "# 1. Take in various parameters required for training and test steps\n",
        "def train(model: torch.nn.Module, \n",
        "          train_dataloader: torch.utils.data.DataLoader, \n",
        "          test_dataloader: torch.utils.data.DataLoader, \n",
        "          optimizer: torch.optim.Optimizer,\n",
        "          loss_fn: torch.nn.Module = nn.CrossEntropyLoss(),\n",
        "          epochs: int = 5):\n",
        "    \n",
        "    # 2. Create empty results dictionary\n",
        "    results = {\"train_loss\": [],\n",
        "        \"train_acc\": [],\n",
        "        \"test_loss\": [],\n",
        "        \"test_acc\": []\n",
        "    }\n",
        "    \n",
        "    # 3. Loop through training and testing steps for a number of epochs\n",
        "    for epoch in tqdm(range(epochs)):\n",
        "        train_loss, train_acc = train_step(model=model,\n",
        "                                           dataloader=train_dataloader,\n",
        "                                           loss_fn=loss_fn,\n",
        "                                           optimizer=optimizer)\n",
        "        test_loss, test_acc = test_step(model=model,\n",
        "            dataloader=test_dataloader,\n",
        "            loss_fn=loss_fn)\n",
        "        \n",
        "        # 4. Print out what's happening\n",
        "        print(\n",
        "            f\"Epoch: {epoch+1} | \"\n",
        "            f\"train_loss: {train_loss:.4f} | \"\n",
        "            f\"train_acc: {train_acc:.4f} | \"\n",
        "            f\"test_loss: {test_loss:.4f} | \"\n",
        "            f\"test_acc: {test_acc:.4f}\"\n",
        "        )\n",
        "\n",
        "        # 5. Update results dictionary\n",
        "        results[\"train_loss\"].append(train_loss)\n",
        "        results[\"train_acc\"].append(train_acc)\n",
        "        results[\"test_loss\"].append(test_loss)\n",
        "        results[\"test_acc\"].append(test_acc)\n",
        "\n",
        "    # 6. Return the filled results at the end of the epochs\n",
        "    return results"
      ]
    },
    {
      "cell_type": "code",
      "execution_count": 8,
      "metadata": {
        "id": "sSQviNWr9yWu"
      },
      "outputs": [],
      "source": [
        "def plot_loss_curves(results):\n",
        "    \"\"\"Plots training curves of a results dictionary.\n",
        "\n",
        "    Args:\n",
        "        results (dict): dictionary containing list of values, e.g.\n",
        "            {\"train_loss\": [...],\n",
        "             \"train_acc\": [...],\n",
        "             \"test_loss\": [...],\n",
        "             \"test_acc\": [...]}\n",
        "    \"\"\"\n",
        "    \n",
        "    # Get the loss values of the results dictionary (training and test)\n",
        "    loss = results['train_loss']\n",
        "    test_loss = results['test_loss']\n",
        "\n",
        "    # Get the accuracy values of the results dictionary (training and test)\n",
        "    accuracy = results['train_acc']\n",
        "    test_accuracy = results['test_acc']\n",
        "\n",
        "    # Figure out how many epochs there were\n",
        "    epochs = range(len(results['train_loss']))\n",
        "\n",
        "    # Setup a plot \n",
        "    plt.figure(figsize=(15, 7))\n",
        "\n",
        "    # Plot loss\n",
        "    plt.subplot(1, 2, 1)\n",
        "    plt.plot(epochs, loss, label='train_loss')\n",
        "    plt.plot(epochs, test_loss, label='test_loss')\n",
        "    plt.title('Loss')\n",
        "    plt.xlabel('Epochs')\n",
        "    plt.legend()\n",
        "\n",
        "    # Plot accuracy\n",
        "    plt.subplot(1, 2, 2)\n",
        "    plt.plot(epochs, accuracy, label='train_accuracy')\n",
        "    plt.plot(epochs, test_accuracy, label='test_accuracy')\n",
        "    plt.title('Accuracy')\n",
        "    plt.xlabel('Epochs')\n",
        "    plt.legend();"
      ]
    },
    {
      "cell_type": "code",
      "source": [
        "auto_transforms = models.EfficientNet_B0_Weights.IMAGENET1K_V1.transforms()\n",
        "auto_transforms"
      ],
      "metadata": {
        "colab": {
          "base_uri": "https://localhost:8080/"
        },
        "id": "-wgcndaQoTii",
        "outputId": "6dd3a428-33a9-4562-9a4c-ad2c37941257"
      },
      "execution_count": 9,
      "outputs": [
        {
          "output_type": "execute_result",
          "data": {
            "text/plain": [
              "ImageClassification(\n",
              "    crop_size=[224]\n",
              "    resize_size=[256]\n",
              "    mean=[0.485, 0.456, 0.406]\n",
              "    std=[0.229, 0.224, 0.225]\n",
              "    interpolation=InterpolationMode.BICUBIC\n",
              ")"
            ]
          },
          "metadata": {},
          "execution_count": 9
        }
      ]
    },
    {
      "cell_type": "code",
      "execution_count": 10,
      "metadata": {
        "id": "0DjtQKqcCB2H"
      },
      "outputs": [],
      "source": [
        "batch_size = 32\n",
        "# Change Tranforms accordong to the model\n",
        "transform = {\n",
        "    'train': transforms.Compose([\n",
        "        transforms.ToTensor(),\n",
        "        transforms.Resize((227, 227)),\n",
        "        transforms.Normalize(mean=[0.485, 0.456, 0.406],\n",
        "                             std=[0.229, 0.224, 0.225])]),\n",
        "    'test': transforms.Compose([\n",
        "        transforms.ToTensor(),\n",
        "        transforms.Resize((227, 227)),\n",
        "        transforms.Normalize(mean=[0.485, 0.456, 0.406],\n",
        "                             std=[0.229, 0.224, 0.225])])\n",
        "}\n",
        "test_data = datasets.ImageFolder('/content/Apple-Scab-Detection/Augmented Dataset/Test', transform = auto_transforms)\n",
        "train_data = datasets.ImageFolder('/content/Apple-Scab-Detection/Augmented Dataset/Test',  transform = auto_transforms)\n",
        "train_loader = torch.utils.data.DataLoader(\n",
        "    train_data, shuffle=True, batch_size=batch_size)\n",
        "test_loader = torch.utils.data.DataLoader(\n",
        "    test_data, shuffle=True, batch_size=batch_size)"
      ]
    },
    {
      "cell_type": "code",
      "execution_count": 11,
      "metadata": {
        "id": "ywOkNd3bwBdp",
        "colab": {
          "base_uri": "https://localhost:8080/",
          "height": 120,
          "referenced_widgets": [
            "992409b4bc3e442784f98c5e411dc8a3",
            "85ebaf657f384d8f8620512a5a5c379b",
            "e1cc48d985774b10b326152ca5490b1c",
            "03006d59a4364baeaac67309577c6dc3",
            "39eb751e13194c359f7c3023a3e06d1a",
            "f4a60e305b7547869f913ae3c0e9b2a2",
            "8e485c7e09884b0abbe3fe3033fb709c",
            "ecffbe2df301447bbc86d7f9d2ab5fff",
            "0cfc28c4bd654b1a95c22cfa5cae9d0e",
            "4a6198da561347819a0175ecf2e49815",
            "9308134f74b64494a4ca2d1eedbc8085"
          ]
        },
        "outputId": "ac084006-d077-404d-80f0-4228c48d2974"
      },
      "outputs": [
        {
          "output_type": "stream",
          "name": "stderr",
          "text": [
            "/usr/local/lib/python3.7/dist-packages/torchvision/models/_utils.py:136: UserWarning: Using 'weights' as positional parameter(s) is deprecated since 0.13 and will be removed in 0.15. Please use keyword parameter(s) instead.\n",
            "  f\"Using {sequence_to_str(tuple(keyword_only_kwargs.keys()), separate_last='and ')} as positional \"\n",
            "Downloading: \"https://download.pytorch.org/models/efficientnet_b0_rwightman-3dd342df.pth\" to /root/.cache/torch/hub/checkpoints/efficientnet_b0_rwightman-3dd342df.pth\n"
          ]
        },
        {
          "output_type": "display_data",
          "data": {
            "text/plain": [
              "  0%|          | 0.00/20.5M [00:00<?, ?B/s]"
            ],
            "application/vnd.jupyter.widget-view+json": {
              "version_major": 2,
              "version_minor": 0,
              "model_id": "992409b4bc3e442784f98c5e411dc8a3"
            }
          },
          "metadata": {}
        }
      ],
      "source": [
        "device = torch.device('cuda' if torch.cuda.is_available() else 'cpu')\n",
        "\n",
        "# Change model\n",
        "model = models.efficientnet_b0(models.EfficientNet_B0_Weights.IMAGENET1K_V1)\n",
        "\n",
        "# Freeze all base layers in the \"features\" section of the model (the feature extractor) by setting requires_grad=False\n",
        "for param in model.features.parameters():\n",
        "    param.requires_grad = False\n",
        "\n",
        "model.classifier = torch.nn.Sequential(\n",
        "    torch.nn.Dropout(p=0.2, inplace=True), \n",
        "    torch.nn.Linear(in_features=1280, \n",
        "                    out_features=2, # same number of output units as our number of classes\n",
        "                    bias=True)).to(device)\n"
      ]
    },
    {
      "cell_type": "code",
      "execution_count": 12,
      "metadata": {
        "colab": {
          "base_uri": "https://localhost:8080/"
        },
        "id": "jzBnmJov_HnC",
        "outputId": "023b0863-b892-4fb1-fe65-3c248bce8ed2"
      },
      "outputs": [
        {
          "output_type": "execute_result",
          "data": {
            "text/plain": [
              "============================================================================================================================================\n",
              "Layer (type (var_name))                                      Input Shape          Output Shape         Param #              Trainable\n",
              "============================================================================================================================================\n",
              "EfficientNet (EfficientNet)                                  [32, 3, 224, 224]    [32, 2]              --                   Partial\n",
              "├─Sequential (features)                                      [32, 3, 224, 224]    [32, 1280, 7, 7]     --                   False\n",
              "│    └─Conv2dNormActivation (0)                              [32, 3, 224, 224]    [32, 32, 112, 112]   --                   False\n",
              "│    │    └─Conv2d (0)                                       [32, 3, 224, 224]    [32, 32, 112, 112]   (864)                False\n",
              "│    │    └─BatchNorm2d (1)                                  [32, 32, 112, 112]   [32, 32, 112, 112]   (64)                 False\n",
              "│    │    └─SiLU (2)                                         [32, 32, 112, 112]   [32, 32, 112, 112]   --                   --\n",
              "│    └─Sequential (1)                                        [32, 32, 112, 112]   [32, 16, 112, 112]   --                   False\n",
              "│    │    └─MBConv (0)                                       [32, 32, 112, 112]   [32, 16, 112, 112]   (1,448)              False\n",
              "│    └─Sequential (2)                                        [32, 16, 112, 112]   [32, 24, 56, 56]     --                   False\n",
              "│    │    └─MBConv (0)                                       [32, 16, 112, 112]   [32, 24, 56, 56]     (6,004)              False\n",
              "│    │    └─MBConv (1)                                       [32, 24, 56, 56]     [32, 24, 56, 56]     (10,710)             False\n",
              "│    └─Sequential (3)                                        [32, 24, 56, 56]     [32, 40, 28, 28]     --                   False\n",
              "│    │    └─MBConv (0)                                       [32, 24, 56, 56]     [32, 40, 28, 28]     (15,350)             False\n",
              "│    │    └─MBConv (1)                                       [32, 40, 28, 28]     [32, 40, 28, 28]     (31,290)             False\n",
              "│    └─Sequential (4)                                        [32, 40, 28, 28]     [32, 80, 14, 14]     --                   False\n",
              "│    │    └─MBConv (0)                                       [32, 40, 28, 28]     [32, 80, 14, 14]     (37,130)             False\n",
              "│    │    └─MBConv (1)                                       [32, 80, 14, 14]     [32, 80, 14, 14]     (102,900)            False\n",
              "│    │    └─MBConv (2)                                       [32, 80, 14, 14]     [32, 80, 14, 14]     (102,900)            False\n",
              "│    └─Sequential (5)                                        [32, 80, 14, 14]     [32, 112, 14, 14]    --                   False\n",
              "│    │    └─MBConv (0)                                       [32, 80, 14, 14]     [32, 112, 14, 14]    (126,004)            False\n",
              "│    │    └─MBConv (1)                                       [32, 112, 14, 14]    [32, 112, 14, 14]    (208,572)            False\n",
              "│    │    └─MBConv (2)                                       [32, 112, 14, 14]    [32, 112, 14, 14]    (208,572)            False\n",
              "│    └─Sequential (6)                                        [32, 112, 14, 14]    [32, 192, 7, 7]      --                   False\n",
              "│    │    └─MBConv (0)                                       [32, 112, 14, 14]    [32, 192, 7, 7]      (262,492)            False\n",
              "│    │    └─MBConv (1)                                       [32, 192, 7, 7]      [32, 192, 7, 7]      (587,952)            False\n",
              "│    │    └─MBConv (2)                                       [32, 192, 7, 7]      [32, 192, 7, 7]      (587,952)            False\n",
              "│    │    └─MBConv (3)                                       [32, 192, 7, 7]      [32, 192, 7, 7]      (587,952)            False\n",
              "│    └─Sequential (7)                                        [32, 192, 7, 7]      [32, 320, 7, 7]      --                   False\n",
              "│    │    └─MBConv (0)                                       [32, 192, 7, 7]      [32, 320, 7, 7]      (717,232)            False\n",
              "│    └─Conv2dNormActivation (8)                              [32, 320, 7, 7]      [32, 1280, 7, 7]     --                   False\n",
              "│    │    └─Conv2d (0)                                       [32, 320, 7, 7]      [32, 1280, 7, 7]     (409,600)            False\n",
              "│    │    └─BatchNorm2d (1)                                  [32, 1280, 7, 7]     [32, 1280, 7, 7]     (2,560)              False\n",
              "│    │    └─SiLU (2)                                         [32, 1280, 7, 7]     [32, 1280, 7, 7]     --                   --\n",
              "├─AdaptiveAvgPool2d (avgpool)                                [32, 1280, 7, 7]     [32, 1280, 1, 1]     --                   --\n",
              "├─Sequential (classifier)                                    [32, 1280]           [32, 2]              --                   True\n",
              "│    └─Dropout (0)                                           [32, 1280]           [32, 1280]           --                   --\n",
              "│    └─Linear (1)                                            [32, 1280]           [32, 2]              2,562                True\n",
              "============================================================================================================================================\n",
              "Total params: 4,010,110\n",
              "Trainable params: 2,562\n",
              "Non-trainable params: 4,007,548\n",
              "Total mult-adds (G): 12.31\n",
              "============================================================================================================================================\n",
              "Input size (MB): 19.27\n",
              "Forward/backward pass size (MB): 3452.09\n",
              "Params size (MB): 16.04\n",
              "Estimated Total Size (MB): 3487.40\n",
              "============================================================================================================================================"
            ]
          },
          "metadata": {},
          "execution_count": 12
        }
      ],
      "source": [
        "summary(model=model, \n",
        "        input_size=(32, 3, 224, 224), # make sure this is \"input_size\", not \"input_shape\"\n",
        "        col_names=[\"input_size\", \"output_size\", \"num_params\", \"trainable\"],\n",
        "        col_width=20,\n",
        "        row_settings=[\"var_names\"]\n",
        ")"
      ]
    },
    {
      "cell_type": "code",
      "execution_count": 13,
      "metadata": {
        "colab": {
          "base_uri": "https://localhost:8080/",
          "height": 1000,
          "referenced_widgets": [
            "4ad04675771d4d1fae7e3ae9c91624a4",
            "806781d54901480d9926083fc290dfd9",
            "00b5545dc8ff4ea9bbc8fe096be8f6e8",
            "82f451c4838f435f8dd19fe4bbdeffc1",
            "0be2d89aee404d0f846971f3a2b68779",
            "60c998b51a0d4bf9898dbca4b45e7683",
            "4eeb06e9e88b4ebf869dbac68ed215d6",
            "8457a7bf88444709b4fc6c2d4c20cd87",
            "13b28eef0c994e4aa7a330ef0cb4dbff",
            "011a09f3139d43e69b3a22c73867ecdc",
            "d9677de74b094b77a9989a340cfd5475"
          ]
        },
        "id": "-7YY7h2LCdyy",
        "outputId": "a75db0ce-62ec-4f05-a883-028998e885bc"
      },
      "outputs": [
        {
          "data": {
            "application/vnd.jupyter.widget-view+json": {
              "model_id": "4ad04675771d4d1fae7e3ae9c91624a4",
              "version_major": 2,
              "version_minor": 0
            },
            "text/plain": [
              "  0%|          | 0/100 [00:00<?, ?it/s]"
            ]
          },
          "metadata": {},
          "output_type": "display_data"
        },
        {
          "output_type": "stream",
          "name": "stdout",
          "text": [
            "Epoch: 1 | train_loss: 0.7214 | train_acc: 0.3750 | test_loss: 0.6675 | test_acc: 0.6484\n",
            "Epoch: 2 | train_loss: 0.6826 | train_acc: 0.6562 | test_loss: 0.6468 | test_acc: 0.7500\n",
            "Epoch: 3 | train_loss: 0.5951 | train_acc: 0.7969 | test_loss: 0.5553 | test_acc: 0.7969\n",
            "Epoch: 4 | train_loss: 0.5209 | train_acc: 0.7891 | test_loss: 0.5026 | test_acc: 0.7812\n",
            "Epoch: 5 | train_loss: 0.4912 | train_acc: 0.8047 | test_loss: 0.4742 | test_acc: 0.7891\n",
            "Epoch: 6 | train_loss: 0.4291 | train_acc: 0.7969 | test_loss: 0.4619 | test_acc: 0.7891\n",
            "Epoch: 7 | train_loss: 0.4340 | train_acc: 0.7891 | test_loss: 0.6996 | test_acc: 0.5469\n",
            "Epoch: 8 | train_loss: 0.8269 | train_acc: 0.5469 | test_loss: 0.4336 | test_acc: 0.7891\n",
            "Epoch: 9 | train_loss: 0.4496 | train_acc: 0.7891 | test_loss: 0.4413 | test_acc: 0.7969\n",
            "Epoch: 10 | train_loss: 0.4395 | train_acc: 0.7969 | test_loss: 0.4404 | test_acc: 0.8203\n",
            "Epoch: 11 | train_loss: 0.4200 | train_acc: 0.8047 | test_loss: 0.4112 | test_acc: 0.8672\n",
            "Epoch: 12 | train_loss: 0.4093 | train_acc: 0.8359 | test_loss: 0.4670 | test_acc: 0.8906\n",
            "Epoch: 13 | train_loss: 0.4201 | train_acc: 0.8047 | test_loss: 0.3731 | test_acc: 0.8750\n",
            "Epoch: 14 | train_loss: 0.3631 | train_acc: 0.8438 | test_loss: 0.3904 | test_acc: 0.8906\n",
            "Epoch: 15 | train_loss: 0.3690 | train_acc: 0.8672 | test_loss: 0.3368 | test_acc: 0.9141\n",
            "Epoch: 16 | train_loss: 0.6836 | train_acc: 0.6016 | test_loss: 0.4650 | test_acc: 0.9141\n",
            "Epoch: 17 | train_loss: 0.6828 | train_acc: 0.6016 | test_loss: 0.3786 | test_acc: 0.9453\n",
            "Epoch: 18 | train_loss: 0.3703 | train_acc: 0.8750 | test_loss: 0.3446 | test_acc: 0.9766\n",
            "Epoch: 19 | train_loss: 0.3749 | train_acc: 0.9297 | test_loss: 0.3162 | test_acc: 0.9766\n",
            "Epoch: 20 | train_loss: 0.4035 | train_acc: 0.9531 | test_loss: 0.3570 | test_acc: 0.9766\n",
            "Epoch: 21 | train_loss: 0.3501 | train_acc: 0.9453 | test_loss: 0.3740 | test_acc: 0.9766\n",
            "Epoch: 22 | train_loss: 0.6194 | train_acc: 0.6484 | test_loss: 0.3722 | test_acc: 0.9766\n",
            "Epoch: 23 | train_loss: 0.3495 | train_acc: 0.9219 | test_loss: 0.2977 | test_acc: 0.9688\n",
            "Epoch: 24 | train_loss: 0.5823 | train_acc: 0.6719 | test_loss: 0.2974 | test_acc: 0.9766\n",
            "Epoch: 25 | train_loss: 0.3330 | train_acc: 0.9297 | test_loss: 0.3249 | test_acc: 0.9766\n",
            "Epoch: 26 | train_loss: 0.5759 | train_acc: 0.6953 | test_loss: 0.2823 | test_acc: 0.9688\n",
            "Epoch: 27 | train_loss: 0.5263 | train_acc: 0.7188 | test_loss: 0.3571 | test_acc: 0.9688\n",
            "Epoch: 28 | train_loss: 0.4824 | train_acc: 0.7109 | test_loss: 0.3039 | test_acc: 0.9688\n",
            "Epoch: 29 | train_loss: 0.4872 | train_acc: 0.7344 | test_loss: 0.3305 | test_acc: 0.9531\n",
            "Epoch: 30 | train_loss: 0.4619 | train_acc: 0.7266 | test_loss: 0.3456 | test_acc: 0.9531\n",
            "Epoch: 31 | train_loss: 0.4495 | train_acc: 0.9062 | test_loss: 0.4103 | test_acc: 0.9531\n",
            "Epoch: 32 | train_loss: 0.4553 | train_acc: 0.9375 | test_loss: 0.3868 | test_acc: 0.9453\n",
            "Epoch: 33 | train_loss: 0.4019 | train_acc: 0.9453 | test_loss: 0.3595 | test_acc: 0.9609\n",
            "Epoch: 34 | train_loss: 0.3523 | train_acc: 0.9688 | test_loss: 0.2965 | test_acc: 0.9609\n",
            "Epoch: 35 | train_loss: 0.3247 | train_acc: 0.9766 | test_loss: 0.2801 | test_acc: 0.9766\n",
            "Epoch: 36 | train_loss: 0.6210 | train_acc: 0.7031 | test_loss: 0.2369 | test_acc: 0.9688\n",
            "Epoch: 37 | train_loss: 0.2892 | train_acc: 0.9609 | test_loss: 0.2147 | test_acc: 0.9766\n",
            "Epoch: 38 | train_loss: 0.5806 | train_acc: 0.7031 | test_loss: 0.3425 | test_acc: 0.9766\n",
            "Epoch: 39 | train_loss: 0.2670 | train_acc: 0.9453 | test_loss: 0.2399 | test_acc: 0.9844\n",
            "Epoch: 40 | train_loss: 0.2669 | train_acc: 0.9766 | test_loss: 0.2917 | test_acc: 0.9844\n",
            "Epoch: 41 | train_loss: 0.5113 | train_acc: 0.7188 | test_loss: 0.2804 | test_acc: 0.9766\n",
            "Epoch: 42 | train_loss: 0.4614 | train_acc: 0.7344 | test_loss: 0.2632 | test_acc: 0.9766\n",
            "Epoch: 43 | train_loss: 0.3191 | train_acc: 0.9688 | test_loss: 0.2613 | test_acc: 0.9688\n",
            "Epoch: 44 | train_loss: 0.4933 | train_acc: 0.7344 | test_loss: 0.2431 | test_acc: 0.9688\n",
            "Epoch: 45 | train_loss: 0.2907 | train_acc: 0.9766 | test_loss: 0.2502 | test_acc: 0.9688\n",
            "Epoch: 46 | train_loss: 0.3005 | train_acc: 0.9844 | test_loss: 0.2171 | test_acc: 0.9688\n",
            "Epoch: 47 | train_loss: 0.2778 | train_acc: 0.9766 | test_loss: 0.2410 | test_acc: 0.9844\n",
            "Epoch: 48 | train_loss: 0.2513 | train_acc: 0.9766 | test_loss: 0.2280 | test_acc: 0.9844\n",
            "Epoch: 49 | train_loss: 0.5794 | train_acc: 0.7109 | test_loss: 0.2797 | test_acc: 0.9844\n",
            "Epoch: 50 | train_loss: 0.2348 | train_acc: 0.9766 | test_loss: 0.2039 | test_acc: 0.9766\n",
            "Epoch: 51 | train_loss: 0.5689 | train_acc: 0.7109 | test_loss: 0.1899 | test_acc: 0.9844\n",
            "Epoch: 52 | train_loss: 0.2370 | train_acc: 0.9766 | test_loss: 0.1947 | test_acc: 0.9844\n",
            "Epoch: 53 | train_loss: 0.2601 | train_acc: 0.9844 | test_loss: 0.1875 | test_acc: 0.9844\n",
            "Epoch: 54 | train_loss: 0.4609 | train_acc: 0.7266 | test_loss: 0.1903 | test_acc: 0.9844\n",
            "Epoch: 55 | train_loss: 0.2343 | train_acc: 0.9766 | test_loss: 0.2058 | test_acc: 0.9766\n",
            "Epoch: 56 | train_loss: 0.2626 | train_acc: 0.9688 | test_loss: 0.2135 | test_acc: 0.9766\n",
            "Epoch: 57 | train_loss: 0.2535 | train_acc: 0.9766 | test_loss: 0.2138 | test_acc: 0.9844\n",
            "Epoch: 58 | train_loss: 0.2619 | train_acc: 0.9766 | test_loss: 0.2206 | test_acc: 0.9844\n",
            "Epoch: 59 | train_loss: 0.2111 | train_acc: 0.9766 | test_loss: 0.1660 | test_acc: 0.9844\n",
            "Epoch: 60 | train_loss: 0.2162 | train_acc: 0.9531 | test_loss: 0.1616 | test_acc: 0.9844\n",
            "Epoch: 61 | train_loss: 0.5377 | train_acc: 0.7188 | test_loss: 0.2523 | test_acc: 0.9766\n",
            "Epoch: 62 | train_loss: 0.5105 | train_acc: 0.7188 | test_loss: 0.1982 | test_acc: 0.9844\n",
            "Epoch: 63 | train_loss: 0.2763 | train_acc: 0.9688 | test_loss: 0.1889 | test_acc: 0.9844\n",
            "Epoch: 64 | train_loss: 0.2344 | train_acc: 0.9766 | test_loss: 0.3670 | test_acc: 0.7422\n",
            "Epoch: 65 | train_loss: 0.2232 | train_acc: 0.9766 | test_loss: 0.2555 | test_acc: 0.9844\n",
            "Epoch: 66 | train_loss: 0.2144 | train_acc: 0.9844 | test_loss: 0.2172 | test_acc: 0.9844\n",
            "Epoch: 67 | train_loss: 0.2199 | train_acc: 0.9688 | test_loss: 0.1969 | test_acc: 0.9844\n",
            "Epoch: 68 | train_loss: 0.2113 | train_acc: 0.9766 | test_loss: 0.1863 | test_acc: 0.9844\n",
            "Epoch: 69 | train_loss: 0.1869 | train_acc: 0.9766 | test_loss: 0.1653 | test_acc: 0.9844\n",
            "Epoch: 70 | train_loss: 0.1816 | train_acc: 0.9766 | test_loss: 0.2065 | test_acc: 0.9844\n",
            "Epoch: 71 | train_loss: 0.6279 | train_acc: 0.7188 | test_loss: 0.1758 | test_acc: 0.9844\n",
            "Epoch: 72 | train_loss: 0.5741 | train_acc: 0.6875 | test_loss: 0.1710 | test_acc: 0.9844\n",
            "Epoch: 73 | train_loss: 0.2329 | train_acc: 0.9766 | test_loss: 0.2118 | test_acc: 0.9766\n",
            "Epoch: 74 | train_loss: 0.2258 | train_acc: 0.9766 | test_loss: 0.1965 | test_acc: 0.9688\n",
            "Epoch: 75 | train_loss: 0.5285 | train_acc: 0.7422 | test_loss: 0.1685 | test_acc: 0.9844\n",
            "Epoch: 76 | train_loss: 0.2589 | train_acc: 0.9688 | test_loss: 0.2067 | test_acc: 0.9766\n",
            "Epoch: 77 | train_loss: 0.2886 | train_acc: 0.9766 | test_loss: 0.1977 | test_acc: 0.9844\n",
            "Epoch: 78 | train_loss: 0.2067 | train_acc: 0.9844 | test_loss: 0.2106 | test_acc: 0.9922\n",
            "Epoch: 79 | train_loss: 0.1886 | train_acc: 0.9844 | test_loss: 0.1515 | test_acc: 0.9844\n",
            "Epoch: 80 | train_loss: 0.1957 | train_acc: 0.9844 | test_loss: 0.1695 | test_acc: 0.9922\n",
            "Epoch: 81 | train_loss: 0.5243 | train_acc: 0.7344 | test_loss: 0.1616 | test_acc: 0.9844\n",
            "Epoch: 82 | train_loss: 0.4848 | train_acc: 0.7344 | test_loss: 0.1470 | test_acc: 0.9844\n",
            "Epoch: 83 | train_loss: 0.4891 | train_acc: 0.7422 | test_loss: 0.1979 | test_acc: 0.9844\n",
            "Epoch: 84 | train_loss: 0.2562 | train_acc: 0.9766 | test_loss: 0.2043 | test_acc: 0.9922\n",
            "Epoch: 85 | train_loss: 0.2487 | train_acc: 0.9844 | test_loss: 0.1795 | test_acc: 0.9922\n",
            "Epoch: 86 | train_loss: 0.4237 | train_acc: 0.7344 | test_loss: 0.2534 | test_acc: 0.9922\n",
            "Epoch: 87 | train_loss: 0.2467 | train_acc: 0.9922 | test_loss: 0.2287 | test_acc: 0.9844\n",
            "Epoch: 88 | train_loss: 0.4094 | train_acc: 0.7344 | test_loss: 0.1618 | test_acc: 0.9922\n",
            "Epoch: 89 | train_loss: 0.2397 | train_acc: 0.9844 | test_loss: 0.1478 | test_acc: 0.9922\n",
            "Epoch: 90 | train_loss: 0.2692 | train_acc: 0.9688 | test_loss: 0.1703 | test_acc: 0.9844\n",
            "Epoch: 91 | train_loss: 0.4459 | train_acc: 0.7266 | test_loss: 0.1536 | test_acc: 0.9922\n",
            "Epoch: 92 | train_loss: 0.2275 | train_acc: 0.9922 | test_loss: 0.1598 | test_acc: 1.0000\n",
            "Epoch: 93 | train_loss: 0.4123 | train_acc: 0.7344 | test_loss: 0.1742 | test_acc: 0.9844\n",
            "Epoch: 94 | train_loss: 0.1920 | train_acc: 0.9844 | test_loss: 0.1970 | test_acc: 0.9766\n",
            "Epoch: 95 | train_loss: 0.4313 | train_acc: 0.7422 | test_loss: 0.1953 | test_acc: 0.9922\n",
            "Epoch: 96 | train_loss: 0.1793 | train_acc: 1.0000 | test_loss: 0.1439 | test_acc: 0.9922\n",
            "Epoch: 97 | train_loss: 0.4733 | train_acc: 0.7422 | test_loss: 0.1586 | test_acc: 0.9922\n",
            "Epoch: 98 | train_loss: 0.3880 | train_acc: 0.7266 | test_loss: 0.1604 | test_acc: 0.9844\n",
            "Epoch: 99 | train_loss: 0.2600 | train_acc: 0.9844 | test_loss: 0.2350 | test_acc: 0.9922\n",
            "Epoch: 100 | train_loss: 0.2497 | train_acc: 0.9922 | test_loss: 0.1970 | test_acc: 0.9766\n",
            "Total training time: 4801.652 seconds\n"
          ]
        }
      ],
      "source": [
        "#Tune hyperparameters\n",
        "NUM_EPOCHS = 100\n",
        "criterion = nn.CrossEntropyLoss()\n",
        "optimizer = opt.SGD(model.parameters(), lr =0.001, momentum = 0.9)\n",
        "\n",
        "# Start the timer\n",
        "from timeit import default_timer as timer \n",
        "start_time = timer()\n",
        "\n",
        "pt_results = train(model=model, \n",
        "                        train_dataloader=train_loader,\n",
        "                        test_dataloader=test_loader,\n",
        "                        optimizer=optimizer,\n",
        "                        loss_fn=criterion, \n",
        "                        epochs=NUM_EPOCHS)\n",
        "\n",
        "# End the timer and print out how long it took\n",
        "end_time = timer()\n",
        "print(f\"Total training time: {end_time-start_time:.3f} seconds\")\n"
      ]
    },
    {
      "cell_type": "code",
      "execution_count": 14,
      "metadata": {
        "id": "-1AoHiC9CpSe",
        "colab": {
          "base_uri": "https://localhost:8080/",
          "height": 458
        },
        "outputId": "05f82d22-e36b-4e8c-cb75-ae8753591cff"
      },
      "outputs": [
        {
          "output_type": "display_data",
          "data": {
            "text/plain": [
              "<Figure size 1080x504 with 2 Axes>"
            ],
            "image/png": "[encoded data removed]"
          },
          "metadata": {
            "needs_background": "light"
          }
        }
      ],
      "source": [
        "plot_loss_curves(pt_results)"
      ]
    }
  ],
  "metadata": {
    "accelerator": "GPU",
    "colab": {
      "collapsed_sections": [],
      "provenance": [],
      "include_colab_link": true
    },
    "gpuClass": "standard",
    "kernelspec": {
      "display_name": "Python 3",
      "name": "python3"
    },
    "language_info": {
      "name": "python"
    },
    "widgets": {
      "application/vnd.jupyter.widget-state+json": {
        "992409b4bc3e442784f98c5e411dc8a3": {
          "model_module": "@jupyter-widgets/controls",
          "model_name": "HBoxModel",
          "model_module_version": "1.5.0",
          "state": {
            "_dom_classes": [],
            "_model_module": "@jupyter-widgets/controls",
            "_model_module_version": "1.5.0",
            "_model_name": "HBoxModel",
            "_view_count": null,
            "_view_module": "@jupyter-widgets/controls",
            "_view_module_version": "1.5.0",
            "_view_name": "HBoxView",
            "box_style": "",
            "children": [
              "IPY_MODEL_85ebaf657f384d8f8620512a5a5c379b",
              "IPY_MODEL_e1cc48d985774b10b326152ca5490b1c",
              "IPY_MODEL_03006d59a4364baeaac67309577c6dc3"
            ],
            "layout": "IPY_MODEL_39eb751e13194c359f7c3023a3e06d1a"
          }
        },
        "85ebaf657f384d8f8620512a5a5c379b": {
          "model_module": "@jupyter-widgets/controls",
          "model_name": "HTMLModel",
          "model_module_version": "1.5.0",
          "state": {
            "_dom_classes": [],
            "_model_module": "@jupyter-widgets/controls",
            "_model_module_version": "1.5.0",
            "_model_name": "HTMLModel",
            "_view_count": null,
            "_view_module": "@jupyter-widgets/controls",
            "_view_module_version": "1.5.0",
            "_view_name": "HTMLView",
            "description": "",
            "description_tooltip": null,
            "layout": "IPY_MODEL_f4a60e305b7547869f913ae3c0e9b2a2",
            "placeholder": "​",
            "style": "IPY_MODEL_8e485c7e09884b0abbe3fe3033fb709c",
            "value": "100%"
          }
        },
        "e1cc48d985774b10b326152ca5490b1c": {
          "model_module": "@jupyter-widgets/controls",
          "model_name": "FloatProgressModel",
          "model_module_version": "1.5.0",
          "state": {
            "_dom_classes": [],
            "_model_module": "@jupyter-widgets/controls",
            "_model_module_version": "1.5.0",
            "_model_name": "FloatProgressModel",
            "_view_count": null,
            "_view_module": "@jupyter-widgets/controls",
            "_view_module_version": "1.5.0",
            "_view_name": "ProgressView",
            "bar_style": "success",
            "description": "",
            "description_tooltip": null,
            "layout": "IPY_MODEL_ecffbe2df301447bbc86d7f9d2ab5fff",
            "max": 21444401,
            "min": 0,
            "orientation": "horizontal",
            "style": "IPY_MODEL_0cfc28c4bd654b1a95c22cfa5cae9d0e",
            "value": 21444401
          }
        },
        "03006d59a4364baeaac67309577c6dc3": {
          "model_module": "@jupyter-widgets/controls",
          "model_name": "HTMLModel",
          "model_module_version": "1.5.0",
          "state": {
            "_dom_classes": [],
            "_model_module": "@jupyter-widgets/controls",
            "_model_module_version": "1.5.0",
            "_model_name": "HTMLModel",
            "_view_count": null,
            "_view_module": "@jupyter-widgets/controls",
            "_view_module_version": "1.5.0",
            "_view_name": "HTMLView",
            "description": "",
            "description_tooltip": null,
            "layout": "IPY_MODEL_4a6198da561347819a0175ecf2e49815",
            "placeholder": "​",
            "style": "IPY_MODEL_9308134f74b64494a4ca2d1eedbc8085",
            "value": " 20.5M/20.5M [00:00&lt;00:00, 77.4MB/s]"
          }
        },
        "39eb751e13194c359f7c3023a3e06d1a": {
          "model_module": "@jupyter-widgets/base",
          "model_name": "LayoutModel",
          "model_module_version": "1.2.0",
          "state": {
            "_model_module": "@jupyter-widgets/base",
            "_model_module_version": "1.2.0",
            "_model_name": "LayoutModel",
            "_view_count": null,
            "_view_module": "@jupyter-widgets/base",
            "_view_module_version": "1.2.0",
            "_view_name": "LayoutView",
            "align_content": null,
            "align_items": null,
            "align_self": null,
            "border": null,
            "bottom": null,
            "display": null,
            "flex": null,
            "flex_flow": null,
            "grid_area": null,
            "grid_auto_columns": null,
            "grid_auto_flow": null,
            "grid_auto_rows": null,
            "grid_column": null,
            "grid_gap": null,
            "grid_row": null,
            "grid_template_areas": null,
            "grid_template_columns": null,
            "grid_template_rows": null,
            "height": null,
            "justify_content": null,
            "justify_items": null,
            "left": null,
            "margin": null,
            "max_height": null,
            "max_width": null,
            "min_height": null,
            "min_width": null,
            "object_fit": null,
            "object_position": null,
            "order": null,
            "overflow": null,
            "overflow_x": null,
            "overflow_y": null,
            "padding": null,
            "right": null,
            "top": null,
            "visibility": null,
            "width": null
          }
        },
        "f4a60e305b7547869f913ae3c0e9b2a2": {
          "model_module": "@jupyter-widgets/base",
          "model_name": "LayoutModel",
          "model_module_version": "1.2.0",
          "state": {
            "_model_module": "@jupyter-widgets/base",
            "_model_module_version": "1.2.0",
            "_model_name": "LayoutModel",
            "_view_count": null,
            "_view_module": "@jupyter-widgets/base",
            "_view_module_version": "1.2.0",
            "_view_name": "LayoutView",
            "align_content": null,
            "align_items": null,
            "align_self": null,
            "border": null,
            "bottom": null,
            "display": null,
            "flex": null,
            "flex_flow": null,
            "grid_area": null,
            "grid_auto_columns": null,
            "grid_auto_flow": null,
            "grid_auto_rows": null,
            "grid_column": null,
            "grid_gap": null,
            "grid_row": null,
            "grid_template_areas": null,
            "grid_template_columns": null,
            "grid_template_rows": null,
            "height": null,
            "justify_content": null,
            "justify_items": null,
            "left": null,
            "margin": null,
            "max_height": null,
            "max_width": null,
            "min_height": null,
            "min_width": null,
            "object_fit": null,
            "object_position": null,
            "order": null,
            "overflow": null,
            "overflow_x": null,
            "overflow_y": null,
            "padding": null,
            "right": null,
            "top": null,
            "visibility": null,
            "width": null
          }
        },
        "8e485c7e09884b0abbe3fe3033fb709c": {
          "model_module": "@jupyter-widgets/controls",
          "model_name": "DescriptionStyleModel",
          "model_module_version": "1.5.0",
          "state": {
            "_model_module": "@jupyter-widgets/controls",
            "_model_module_version": "1.5.0",
            "_model_name": "DescriptionStyleModel",
            "_view_count": null,
            "_view_module": "@jupyter-widgets/base",
            "_view_module_version": "1.2.0",
            "_view_name": "StyleView",
            "description_width": ""
          }
        },
        "ecffbe2df301447bbc86d7f9d2ab5fff": {
          "model_module": "@jupyter-widgets/base",
          "model_name": "LayoutModel",
          "model_module_version": "1.2.0",
          "state": {
            "_model_module": "@jupyter-widgets/base",
            "_model_module_version": "1.2.0",
            "_model_name": "LayoutModel",
            "_view_count": null,
            "_view_module": "@jupyter-widgets/base",
            "_view_module_version": "1.2.0",
            "_view_name": "LayoutView",
            "align_content": null,
            "align_items": null,
            "align_self": null,
            "border": null,
            "bottom": null,
            "display": null,
            "flex": null,
            "flex_flow": null,
            "grid_area": null,
            "grid_auto_columns": null,
            "grid_auto_flow": null,
            "grid_auto_rows": null,
            "grid_column": null,
            "grid_gap": null,
            "grid_row": null,
            "grid_template_areas": null,
            "grid_template_columns": null,
            "grid_template_rows": null,
            "height": null,
            "justify_content": null,
            "justify_items": null,
            "left": null,
            "margin": null,
            "max_height": null,
            "max_width": null,
            "min_height": null,
            "min_width": null,
            "object_fit": null,
            "object_position": null,
            "order": null,
            "overflow": null,
            "overflow_x": null,
            "overflow_y": null,
            "padding": null,
            "right": null,
            "top": null,
            "visibility": null,
            "width": null
          }
        },
        "0cfc28c4bd654b1a95c22cfa5cae9d0e": {
          "model_module": "@jupyter-widgets/controls",
          "model_name": "ProgressStyleModel",
          "model_module_version": "1.5.0",
          "state": {
            "_model_module": "@jupyter-widgets/controls",
            "_model_module_version": "1.5.0",
            "_model_name": "ProgressStyleModel",
            "_view_count": null,
            "_view_module": "@jupyter-widgets/base",
            "_view_module_version": "1.2.0",
            "_view_name": "StyleView",
            "bar_color": null,
            "description_width": ""
          }
        },
        "4a6198da561347819a0175ecf2e49815": {
          "model_module": "@jupyter-widgets/base",
          "model_name": "LayoutModel",
          "model_module_version": "1.2.0",
          "state": {
            "_model_module": "@jupyter-widgets/base",
            "_model_module_version": "1.2.0",
            "_model_name": "LayoutModel",
            "_view_count": null,
            "_view_module": "@jupyter-widgets/base",
            "_view_module_version": "1.2.0",
            "_view_name": "LayoutView",
            "align_content": null,
            "align_items": null,
            "align_self": null,
            "border": null,
            "bottom": null,
            "display": null,
            "flex": null,
            "flex_flow": null,
            "grid_area": null,
            "grid_auto_columns": null,
            "grid_auto_flow": null,
            "grid_auto_rows": null,
            "grid_column": null,
            "grid_gap": null,
            "grid_row": null,
            "grid_template_areas": null,
            "grid_template_columns": null,
            "grid_template_rows": null,
            "height": null,
            "justify_content": null,
            "justify_items": null,
            "left": null,
            "margin": null,
            "max_height": null,
            "max_width": null,
            "min_height": null,
            "min_width": null,
            "object_fit": null,
            "object_position": null,
            "order": null,
            "overflow": null,
            "overflow_x": null,
            "overflow_y": null,
            "padding": null,
            "right": null,
            "top": null,
            "visibility": null,
            "width": null
          }
        },
        "9308134f74b64494a4ca2d1eedbc8085": {
          "model_module": "@jupyter-widgets/controls",
          "model_name": "DescriptionStyleModel",
          "model_module_version": "1.5.0",
          "state": {
            "_model_module": "@jupyter-widgets/controls",
            "_model_module_version": "1.5.0",
            "_model_name": "DescriptionStyleModel",
            "_view_count": null,
            "_view_module": "@jupyter-widgets/base",
            "_view_module_version": "1.2.0",
            "_view_name": "StyleView",
            "description_width": ""
          }
        },
        "4ad04675771d4d1fae7e3ae9c91624a4": {
          "model_module": "@jupyter-widgets/controls",
          "model_name": "HBoxModel",
          "model_module_version": "1.5.0",
          "state": {
            "_dom_classes": [],
            "_model_module": "@jupyter-widgets/controls",
            "_model_module_version": "1.5.0",
            "_model_name": "HBoxModel",
            "_view_count": null,
            "_view_module": "@jupyter-widgets/controls",
            "_view_module_version": "1.5.0",
            "_view_name": "HBoxView",
            "box_style": "",
            "children": [
              "IPY_MODEL_806781d54901480d9926083fc290dfd9",
              "IPY_MODEL_00b5545dc8ff4ea9bbc8fe096be8f6e8",
              "IPY_MODEL_82f451c4838f435f8dd19fe4bbdeffc1"
            ],
            "layout": "IPY_MODEL_0be2d89aee404d0f846971f3a2b68779"
          }
        },
        "806781d54901480d9926083fc290dfd9": {
          "model_module": "@jupyter-widgets/controls",
          "model_name": "HTMLModel",
          "model_module_version": "1.5.0",
          "state": {
            "_dom_classes": [],
            "_model_module": "@jupyter-widgets/controls",
            "_model_module_version": "1.5.0",
            "_model_name": "HTMLModel",
            "_view_count": null,
            "_view_module": "@jupyter-widgets/controls",
            "_view_module_version": "1.5.0",
            "_view_name": "HTMLView",
            "description": "",
            "description_tooltip": null,
            "layout": "IPY_MODEL_60c998b51a0d4bf9898dbca4b45e7683",
            "placeholder": "​",
            "style": "IPY_MODEL_4eeb06e9e88b4ebf869dbac68ed215d6",
            "value": "100%"
          }
        },
        "00b5545dc8ff4ea9bbc8fe096be8f6e8": {
          "model_module": "@jupyter-widgets/controls",
          "model_name": "FloatProgressModel",
          "model_module_version": "1.5.0",
          "state": {
            "_dom_classes": [],
            "_model_module": "@jupyter-widgets/controls",
            "_model_module_version": "1.5.0",
            "_model_name": "FloatProgressModel",
            "_view_count": null,
            "_view_module": "@jupyter-widgets/controls",
            "_view_module_version": "1.5.0",
            "_view_name": "ProgressView",
            "bar_style": "success",
            "description": "",
            "description_tooltip": null,
            "layout": "IPY_MODEL_8457a7bf88444709b4fc6c2d4c20cd87",
            "max": 100,
            "min": 0,
            "orientation": "horizontal",
            "style": "IPY_MODEL_13b28eef0c994e4aa7a330ef0cb4dbff",
            "value": 100
          }
        },
        "82f451c4838f435f8dd19fe4bbdeffc1": {
          "model_module": "@jupyter-widgets/controls",
          "model_name": "HTMLModel",
          "model_module_version": "1.5.0",
          "state": {
            "_dom_classes": [],
            "_model_module": "@jupyter-widgets/controls",
            "_model_module_version": "1.5.0",
            "_model_name": "HTMLModel",
            "_view_count": null,
            "_view_module": "@jupyter-widgets/controls",
            "_view_module_version": "1.5.0",
            "_view_name": "HTMLView",
            "description": "",
            "description_tooltip": null,
            "layout": "IPY_MODEL_011a09f3139d43e69b3a22c73867ecdc",
            "placeholder": "​",
            "style": "IPY_MODEL_d9677de74b094b77a9989a340cfd5475",
            "value": " 100/100 [1:20:01&lt;00:00, 47.43s/it]"
          }
        },
        "0be2d89aee404d0f846971f3a2b68779": {
          "model_module": "@jupyter-widgets/base",
          "model_name": "LayoutModel",
          "model_module_version": "1.2.0",
          "state": {
            "_model_module": "@jupyter-widgets/base",
            "_model_module_version": "1.2.0",
            "_model_name": "LayoutModel",
            "_view_count": null,
            "_view_module": "@jupyter-widgets/base",
            "_view_module_version": "1.2.0",
            "_view_name": "LayoutView",
            "align_content": null,
            "align_items": null,
            "align_self": null,
            "border": null,
            "bottom": null,
            "display": null,
            "flex": null,
            "flex_flow": null,
            "grid_area": null,
            "grid_auto_columns": null,
            "grid_auto_flow": null,
            "grid_auto_rows": null,
            "grid_column": null,
            "grid_gap": null,
            "grid_row": null,
            "grid_template_areas": null,
            "grid_template_columns": null,
            "grid_template_rows": null,
            "height": null,
            "justify_content": null,
            "justify_items": null,
            "left": null,
            "margin": null,
            "max_height": null,
            "max_width": null,
            "min_height": null,
            "min_width": null,
            "object_fit": null,
            "object_position": null,
            "order": null,
            "overflow": null,
            "overflow_x": null,
            "overflow_y": null,
            "padding": null,
            "right": null,
            "top": null,
            "visibility": null,
            "width": null
          }
        },
        "60c998b51a0d4bf9898dbca4b45e7683": {
          "model_module": "@jupyter-widgets/base",
          "model_name": "LayoutModel",
          "model_module_version": "1.2.0",
          "state": {
            "_model_module": "@jupyter-widgets/base",
            "_model_module_version": "1.2.0",
            "_model_name": "LayoutModel",
            "_view_count": null,
            "_view_module": "@jupyter-widgets/base",
            "_view_module_version": "1.2.0",
            "_view_name": "LayoutView",
            "align_content": null,
            "align_items": null,
            "align_self": null,
            "border": null,
            "bottom": null,
            "display": null,
            "flex": null,
            "flex_flow": null,
            "grid_area": null,
            "grid_auto_columns": null,
            "grid_auto_flow": null,
            "grid_auto_rows": null,
            "grid_column": null,
            "grid_gap": null,
            "grid_row": null,
            "grid_template_areas": null,
            "grid_template_columns": null,
            "grid_template_rows": null,
            "height": null,
            "justify_content": null,
            "justify_items": null,
            "left": null,
            "margin": null,
            "max_height": null,
            "max_width": null,
            "min_height": null,
            "min_width": null,
            "object_fit": null,
            "object_position": null,
            "order": null,
            "overflow": null,
            "overflow_x": null,
            "overflow_y": null,
            "padding": null,
            "right": null,
            "top": null,
            "visibility": null,
            "width": null
          }
        },
        "4eeb06e9e88b4ebf869dbac68ed215d6": {
          "model_module": "@jupyter-widgets/controls",
          "model_name": "DescriptionStyleModel",
          "model_module_version": "1.5.0",
          "state": {
            "_model_module": "@jupyter-widgets/controls",
            "_model_module_version": "1.5.0",
            "_model_name": "DescriptionStyleModel",
            "_view_count": null,
            "_view_module": "@jupyter-widgets/base",
            "_view_module_version": "1.2.0",
            "_view_name": "StyleView",
            "description_width": ""
          }
        },
        "8457a7bf88444709b4fc6c2d4c20cd87": {
          "model_module": "@jupyter-widgets/base",
          "model_name": "LayoutModel",
          "model_module_version": "1.2.0",
          "state": {
            "_model_module": "@jupyter-widgets/base",
            "_model_module_version": "1.2.0",
            "_model_name": "LayoutModel",
            "_view_count": null,
            "_view_module": "@jupyter-widgets/base",
            "_view_module_version": "1.2.0",
            "_view_name": "LayoutView",
            "align_content": null,
            "align_items": null,
            "align_self": null,
            "border": null,
            "bottom": null,
            "display": null,
            "flex": null,
            "flex_flow": null,
            "grid_area": null,
            "grid_auto_columns": null,
            "grid_auto_flow": null,
            "grid_auto_rows": null,
            "grid_column": null,
            "grid_gap": null,
            "grid_row": null,
            "grid_template_areas": null,
            "grid_template_columns": null,
            "grid_template_rows": null,
            "height": null,
            "justify_content": null,
            "justify_items": null,
            "left": null,
            "margin": null,
            "max_height": null,
            "max_width": null,
            "min_height": null,
            "min_width": null,
            "object_fit": null,
            "object_position": null,
            "order": null,
            "overflow": null,
            "overflow_x": null,
            "overflow_y": null,
            "padding": null,
            "right": null,
            "top": null,
            "visibility": null,
            "width": null
          }
        },
        "13b28eef0c994e4aa7a330ef0cb4dbff": {
          "model_module": "@jupyter-widgets/controls",
          "model_name": "ProgressStyleModel",
          "model_module_version": "1.5.0",
          "state": {
            "_model_module": "@jupyter-widgets/controls",
            "_model_module_version": "1.5.0",
            "_model_name": "ProgressStyleModel",
            "_view_count": null,
            "_view_module": "@jupyter-widgets/base",
            "_view_module_version": "1.2.0",
            "_view_name": "StyleView",
            "bar_color": null,
            "description_width": ""
          }
        },
        "011a09f3139d43e69b3a22c73867ecdc": {
          "model_module": "@jupyter-widgets/base",
          "model_name": "LayoutModel",
          "model_module_version": "1.2.0",
          "state": {
            "_model_module": "@jupyter-widgets/base",
            "_model_module_version": "1.2.0",
            "_model_name": "LayoutModel",
            "_view_count": null,
            "_view_module": "@jupyter-widgets/base",
            "_view_module_version": "1.2.0",
            "_view_name": "LayoutView",
            "align_content": null,
            "align_items": null,
            "align_self": null,
            "border": null,
            "bottom": null,
            "display": null,
            "flex": null,
            "flex_flow": null,
            "grid_area": null,
            "grid_auto_columns": null,
            "grid_auto_flow": null,
            "grid_auto_rows": null,
            "grid_column": null,
            "grid_gap": null,
            "grid_row": null,
            "grid_template_areas": null,
            "grid_template_columns": null,
            "grid_template_rows": null,
            "height": null,
            "justify_content": null,
            "justify_items": null,
            "left": null,
            "margin": null,
            "max_height": null,
            "max_width": null,
            "min_height": null,
            "min_width": null,
            "object_fit": null,
            "object_position": null,
            "order": null,
            "overflow": null,
            "overflow_x": null,
            "overflow_y": null,
            "padding": null,
            "right": null,
            "top": null,
            "visibility": null,
            "width": null
          }
        },
        "d9677de74b094b77a9989a340cfd5475": {
          "model_module": "@jupyter-widgets/controls",
          "model_name": "DescriptionStyleModel",
          "model_module_version": "1.5.0",
          "state": {
            "_model_module": "@jupyter-widgets/controls",
            "_model_module_version": "1.5.0",
            "_model_name": "DescriptionStyleModel",
            "_view_count": null,
            "_view_module": "@jupyter-widgets/base",
            "_view_module_version": "1.2.0",
            "_view_name": "StyleView",
            "description_width": ""
          }
        }
      }
    }
  },
  "nbformat": 4,
  "nbformat_minor": 0
}