{
  "nbformat": 4,
  "nbformat_minor": 0,
  "metadata": {
    "colab": {
      "provenance": [],
      "authorship_tag": "ABX9TyM2NLvSUha2HBc5doVXWhrP",
      "include_colab_link": true
    },
    "kernelspec": {
      "name": "python3",
      "display_name": "Python 3"
    },
    "language_info": {
      "name": "python"
    }
  },
  "cells": [
    {
      "cell_type": "markdown",
      "metadata": {
        "id": "view-in-github",
        "colab_type": "text"
      },
      "source": [
        "<a href=\"https://colab.research.google.com/github/Arjavjain100/Apple-Scab-Detection/blob/main/TOS_Summarization.ipynb\" target=\"_parent\"><img src=\"https://colab.research.google.com/assets/colab-badge.svg\" alt=\"Open In Colab\"/></a>"
      ]
    },
    {
      "cell_type": "code",
      "source": [
        "!git clone \"https://github.com/Arjavjain100/TOS-Summarization.git\""
      ],
      "metadata": {
        "colab": {
          "base_uri": "https://localhost:8080/"
        },
        "id": "zMei2XtXrRR2",
        "outputId": "53056df4-84e3-4987-a42d-0dcd2ae0374d"
      },
      "execution_count": 1,
      "outputs": [
        {
          "output_type": "stream",
          "name": "stdout",
          "text": [
            "Cloning into 'TOS-Summarization'...\n",
            "remote: Enumerating objects: 6, done.\u001b[K\n",
            "remote: Counting objects: 100% (6/6), done.\u001b[K\n",
            "remote: Compressing objects: 100% (4/4), done.\u001b[K\n",
            "remote: Total 6 (delta 0), reused 0 (delta 0), pack-reused 0\u001b[K\n",
            "Unpacking objects: 100% (6/6), 208.76 KiB | 9.94 MiB/s, done.\n"
          ]
        }
      ]
    },
    {
      "cell_type": "code",
      "source": [
        "!unzip \"./TOS-Summarization/dataset.zip\""
      ],
      "metadata": {
        "colab": {
          "base_uri": "https://localhost:8080/"
        },
        "id": "ASnG5Gm5rwMv",
        "outputId": "a4a9dca9-d9e2-4833-a5dd-cd567396933a"
      },
      "execution_count": 7,
      "outputs": [
        {
          "output_type": "stream",
          "name": "stdout",
          "text": [
            "Archive:  ./TOS-Summarization/dataset.zip\n",
            "   creating: dataset/\n",
            "  inflating: dataset/all_v1_transpose.csv  \n",
            "  inflating: dataset/tldrlegal_v1_transpose.csv  \n",
            "  inflating: dataset/tosdr_annotated_v1_transpose.csv  \n"
          ]
        }
      ]
    },
    {
      "cell_type": "code",
      "execution_count": 2,
      "metadata": {
        "id": "u5EgT-ALqShs"
      },
      "outputs": [],
      "source": [
        "import nltk\n",
        "import pandas as pd\n",
        "import numpy as np"
      ]
    },
    {
      "cell_type": "code",
      "source": [
        "data = pd.read_csv('/content/dataset/all_v1_transpose.csv')"
      ],
      "metadata": {
        "id": "PqmYC_sOrrt2"
      },
      "execution_count": 11,
      "outputs": []
    },
    {
      "cell_type": "code",
      "source": [
        "data.shape"
      ],
      "metadata": {
        "colab": {
          "base_uri": "https://localhost:8080/"
        },
        "id": "TdsDq7chslOU",
        "outputId": "cde864ee-a090-4e7b-ffa1-2b11a2c787ca"
      },
      "execution_count": 17,
      "outputs": [
        {
          "output_type": "execute_result",
          "data": {
            "text/plain": [
              "(446, 14)"
            ]
          },
          "metadata": {},
          "execution_count": 17
        }
      ]
    },
    {
      "cell_type": "code",
      "source": [
        "data.head()"
      ],
      "metadata": {
        "colab": {
          "base_uri": "https://localhost:8080/",
          "height": 523
        },
        "id": "TPT7TupcrcNA",
        "outputId": "b17897b1-f54f-42e3-aefe-819fa126cd80"
      },
      "execution_count": 12,
      "outputs": [
        {
          "output_type": "execute_result",
          "data": {
            "text/plain": [
              "                           doc                        id  \\\n",
              "0  Pokemon GO Terms of Service  5786730a6cca83a54c0035b7   \n",
              "1  Pokemon GO Terms of Service  57866df76cca83a54c0035a1   \n",
              "2  Pokemon GO Terms of Service  5786730a6cca83a54c0035b6   \n",
              "3  Pokemon GO Terms of Service  57866df76cca83a54c0035a0   \n",
              "4  Pokemon GO Terms of Service  57866df76cca83a54c00359f   \n",
              "\n",
              "                                       original_text  \\\n",
              "0  welcome to the pokémon go video game services ...   \n",
              "1  by using our services you are agreeing to thes...   \n",
              "2  if you want to use certain features of the ser...   \n",
              "3  during game play please be aware of your surro...   \n",
              "4  subject to your compliance with these terms ni...   \n",
              "\n",
              "                                   reference_summary  \\\n",
              "0                                                hi.   \n",
              "1  by playing this game you agree to these terms....   \n",
              "2  you have to use google pokemon trainer club or...   \n",
              "3  don t die or hurt others and if you do it s no...   \n",
              "4  don t copy modify resell distribute or reverse...   \n",
              "\n",
              "                                  title         uid case_code case_text note  \\\n",
              "0                                   NaN  legalsum01       NaN       NaN  NaN   \n",
              "1                    Agreement To Terms  legalsum02       NaN       NaN  NaN   \n",
              "2  Eligibility and Account Registration  legalsum03       NaN       NaN  NaN   \n",
              "3                             Safe Play  legalsum04       NaN       NaN  NaN   \n",
              "4                         Rights in App  legalsum05       NaN       NaN  NaN   \n",
              "\n",
              "  title_code title_text urls tldr_code tldr_text  \n",
              "0        NaN        NaN  NaN       NaN       NaN  \n",
              "1        NaN        NaN  NaN       NaN       NaN  \n",
              "2        NaN        NaN  NaN       NaN       NaN  \n",
              "3        NaN        NaN  NaN       NaN       NaN  \n",
              "4        NaN        NaN  NaN       NaN       NaN  "
            ],
            "text/html": [
              "\n",
              "  <div id=\"df-d7ecefe5-f77d-4cc3-a4f6-c99e53fab112\">\n",
              "    <div class=\"colab-df-container\">\n",
              "      <div>\n",
              "<style scoped>\n",
              "    .dataframe tbody tr th:only-of-type {\n",
              "        vertical-align: middle;\n",
              "    }\n",
              "\n",
              "    .dataframe tbody tr th {\n",
              "        vertical-align: top;\n",
              "    }\n",
              "\n",
              "    .dataframe thead th {\n",
              "        text-align: right;\n",
              "    }\n",
              "</style>\n",
              "<table border=\"1\" class=\"dataframe\">\n",
              "  <thead>\n",
              "    <tr style=\"text-align: right;\">\n",
              "      <th></th>\n",
              "      <th>doc</th>\n",
              "      <th>id</th>\n",
              "      <th>original_text</th>\n",
              "      <th>reference_summary</th>\n",
              "      <th>title</th>\n",
              "      <th>uid</th>\n",
              "      <th>case_code</th>\n",
              "      <th>case_text</th>\n",
              "      <th>note</th>\n",
              "      <th>title_code</th>\n",
              "      <th>title_text</th>\n",
              "      <th>urls</th>\n",
              "      <th>tldr_code</th>\n",
              "      <th>tldr_text</th>\n",
              "    </tr>\n",
              "  </thead>\n",
              "  <tbody>\n",
              "    <tr>\n",
              "      <th>0</th>\n",
              "      <td>Pokemon GO Terms of Service</td>\n",
              "      <td>5786730a6cca83a54c0035b7</td>\n",
              "      <td>welcome to the pokémon go video game services ...</td>\n",
              "      <td>hi.</td>\n",
              "      <td>NaN</td>\n",
              "      <td>legalsum01</td>\n",
              "      <td>NaN</td>\n",
              "      <td>NaN</td>\n",
              "      <td>NaN</td>\n",
              "      <td>NaN</td>\n",
              "      <td>NaN</td>\n",
              "      <td>NaN</td>\n",
              "      <td>NaN</td>\n",
              "      <td>NaN</td>\n",
              "    </tr>\n",
              "    <tr>\n",
              "      <th>1</th>\n",
              "      <td>Pokemon GO Terms of Service</td>\n",
              "      <td>57866df76cca83a54c0035a1</td>\n",
              "      <td>by using our services you are agreeing to thes...</td>\n",
              "      <td>by playing this game you agree to these terms....</td>\n",
              "      <td>Agreement To Terms</td>\n",
              "      <td>legalsum02</td>\n",
              "      <td>NaN</td>\n",
              "      <td>NaN</td>\n",
              "      <td>NaN</td>\n",
              "      <td>NaN</td>\n",
              "      <td>NaN</td>\n",
              "      <td>NaN</td>\n",
              "      <td>NaN</td>\n",
              "      <td>NaN</td>\n",
              "    </tr>\n",
              "    <tr>\n",
              "      <th>2</th>\n",
              "      <td>Pokemon GO Terms of Service</td>\n",
              "      <td>5786730a6cca83a54c0035b6</td>\n",
              "      <td>if you want to use certain features of the ser...</td>\n",
              "      <td>you have to use google pokemon trainer club or...</td>\n",
              "      <td>Eligibility and Account Registration</td>\n",
              "      <td>legalsum03</td>\n",
              "      <td>NaN</td>\n",
              "      <td>NaN</td>\n",
              "      <td>NaN</td>\n",
              "      <td>NaN</td>\n",
              "      <td>NaN</td>\n",
              "      <td>NaN</td>\n",
              "      <td>NaN</td>\n",
              "      <td>NaN</td>\n",
              "    </tr>\n",
              "    <tr>\n",
              "      <th>3</th>\n",
              "      <td>Pokemon GO Terms of Service</td>\n",
              "      <td>57866df76cca83a54c0035a0</td>\n",
              "      <td>during game play please be aware of your surro...</td>\n",
              "      <td>don t die or hurt others and if you do it s no...</td>\n",
              "      <td>Safe Play</td>\n",
              "      <td>legalsum04</td>\n",
              "      <td>NaN</td>\n",
              "      <td>NaN</td>\n",
              "      <td>NaN</td>\n",
              "      <td>NaN</td>\n",
              "      <td>NaN</td>\n",
              "      <td>NaN</td>\n",
              "      <td>NaN</td>\n",
              "      <td>NaN</td>\n",
              "    </tr>\n",
              "    <tr>\n",
              "      <th>4</th>\n",
              "      <td>Pokemon GO Terms of Service</td>\n",
              "      <td>57866df76cca83a54c00359f</td>\n",
              "      <td>subject to your compliance with these terms ni...</td>\n",
              "      <td>don t copy modify resell distribute or reverse...</td>\n",
              "      <td>Rights in App</td>\n",
              "      <td>legalsum05</td>\n",
              "      <td>NaN</td>\n",
              "      <td>NaN</td>\n",
              "      <td>NaN</td>\n",
              "      <td>NaN</td>\n",
              "      <td>NaN</td>\n",
              "      <td>NaN</td>\n",
              "      <td>NaN</td>\n",
              "      <td>NaN</td>\n",
              "    </tr>\n",
              "  </tbody>\n",
              "</table>\n",
              "</div>\n",
              "      <button class=\"colab-df-convert\" onclick=\"convertToInteractive('df-d7ecefe5-f77d-4cc3-a4f6-c99e53fab112')\"\n",
              "              title=\"Convert this dataframe to an interactive table.\"\n",
              "              style=\"display:none;\">\n",
              "        \n",
              "  <svg xmlns=\"http://www.w3.org/2000/svg\" height=\"24px\"viewBox=\"0 0 24 24\"\n",
              "       width=\"24px\">\n",
              "    <path d=\"M0 0h24v24H0V0z\" fill=\"none\"/>\n",
              "    <path d=\"M18.56 5.44l.94 2.06.94-2.06 2.06-.94-2.06-.94-.94-2.06-.94 2.06-2.06.94zm-11 1L8.5 8.5l.94-2.06 2.06-.94-2.06-.94L8.5 2.5l-.94 2.06-2.06.94zm10 10l.94 2.06.94-2.06 2.06-.94-2.06-.94-.94-2.06-.94 2.06-2.06.94z\"/><path d=\"M17.41 7.96l-1.37-1.37c-.4-.4-.92-.59-1.43-.59-.52 0-1.04.2-1.43.59L10.3 9.45l-7.72 7.72c-.78.78-.78 2.05 0 2.83L4 21.41c.39.39.9.59 1.41.59.51 0 1.02-.2 1.41-.59l7.78-7.78 2.81-2.81c.8-.78.8-2.07 0-2.86zM5.41 20L4 18.59l7.72-7.72 1.47 1.35L5.41 20z\"/>\n",
              "  </svg>\n",
              "      </button>\n",
              "      \n",
              "  <style>\n",
              "    .colab-df-container {\n",
              "      display:flex;\n",
              "      flex-wrap:wrap;\n",
              "      gap: 12px;\n",
              "    }\n",
              "\n",
              "    .colab-df-convert {\n",
              "      background-color: #E8F0FE;\n",
              "      border: none;\n",
              "      border-radius: 50%;\n",
              "      cursor: pointer;\n",
              "      display: none;\n",
              "      fill: #1967D2;\n",
              "      height: 32px;\n",
              "      padding: 0 0 0 0;\n",
              "      width: 32px;\n",
              "    }\n",
              "\n",
              "    .colab-df-convert:hover {\n",
              "      background-color: #E2EBFA;\n",
              "      box-shadow: 0px 1px 2px rgba(60, 64, 67, 0.3), 0px 1px 3px 1px rgba(60, 64, 67, 0.15);\n",
              "      fill: #174EA6;\n",
              "    }\n",
              "\n",
              "    [theme=dark] .colab-df-convert {\n",
              "      background-color: #3B4455;\n",
              "      fill: #D2E3FC;\n",
              "    }\n",
              "\n",
              "    [theme=dark] .colab-df-convert:hover {\n",
              "      background-color: #434B5C;\n",
              "      box-shadow: 0px 1px 3px 1px rgba(0, 0, 0, 0.15);\n",
              "      filter: drop-shadow(0px 1px 2px rgba(0, 0, 0, 0.3));\n",
              "      fill: #FFFFFF;\n",
              "    }\n",
              "  </style>\n",
              "\n",
              "      <script>\n",
              "        const buttonEl =\n",
              "          document.querySelector('#df-d7ecefe5-f77d-4cc3-a4f6-c99e53fab112 button.colab-df-convert');\n",
              "        buttonEl.style.display =\n",
              "          google.colab.kernel.accessAllowed ? 'block' : 'none';\n",
              "\n",
              "        async function convertToInteractive(key) {\n",
              "          const element = document.querySelector('#df-d7ecefe5-f77d-4cc3-a4f6-c99e53fab112');\n",
              "          const dataTable =\n",
              "            await google.colab.kernel.invokeFunction('convertToInteractive',\n",
              "                                                     [key], {});\n",
              "          if (!dataTable) return;\n",
              "\n",
              "          const docLinkHtml = 'Like what you see? Visit the ' +\n",
              "            '<a target=\"_blank\" href=https://colab.research.google.com/notebooks/data_table.ipynb>data table notebook</a>'\n",
              "            + ' to learn more about interactive tables.';\n",
              "          element.innerHTML = '';\n",
              "          dataTable['output_type'] = 'display_data';\n",
              "          await google.colab.output.renderOutput(dataTable, element);\n",
              "          const docLink = document.createElement('div');\n",
              "          docLink.innerHTML = docLinkHtml;\n",
              "          element.appendChild(docLink);\n",
              "        }\n",
              "      </script>\n",
              "    </div>\n",
              "  </div>\n",
              "  "
            ]
          },
          "metadata": {},
          "execution_count": 12
        }
      ]
    },
    {
      "cell_type": "code",
      "source": [
        "data.original_text[69]"
      ],
      "metadata": {
        "colab": {
          "base_uri": "https://localhost:8080/",
          "height": 137
        },
        "id": "pMn85e2nsXmT",
        "outputId": "444c6d6e-720b-4805-e900-e7fc285cf775"
      },
      "execution_count": 18,
      "outputs": [
        {
          "output_type": "execute_result",
          "data": {
            "text/plain": [
              "'our goal is to deliver advertising and other commercial or sponsored content that is valuable to our users and advertisers. in order to help us do that you agree to the following you give us permission to use your name profile picture content and information in connection with commercial sponsored or related content such as a brand you like served or enhanced by us. this means for example that you permit a business or other entity to pay us to display your name and or profile picture with your content or information without any compensation to you. if you have selected a specific audience for your content or information we will respect your choice when we use it. we do not give your content or information to advertisers without your consent. you understand that we may not always identify paid services and communications as such.'"
            ],
            "application/vnd.google.colaboratory.intrinsic+json": {
              "type": "string"
            }
          },
          "metadata": {},
          "execution_count": 18
        }
      ]
    },
    {
      "cell_type": "code",
      "source": [
        "data.reference_summary[69]"
      ],
      "metadata": {
        "colab": {
          "base_uri": "https://localhost:8080/",
          "height": 35
        },
        "id": "n_iRaCUUsdzC",
        "outputId": "0046dc4e-e37e-4bb6-f76c-12a26b56ac5e"
      },
      "execution_count": 19,
      "outputs": [
        {
          "output_type": "execute_result",
          "data": {
            "text/plain": [
              "'facebook can use any of your stuff for any reason they want without paying you for advertising in particular.'"
            ],
            "application/vnd.google.colaboratory.intrinsic+json": {
              "type": "string"
            }
          },
          "metadata": {},
          "execution_count": 19
        }
      ]
    },
    {
      "cell_type": "code",
      "source": [],
      "metadata": {
        "id": "u-Dzr7acsiVv"
      },
      "execution_count": null,
      "outputs": []
    }
  ]
}